{
  "cells": [
    {
      "cell_type": "markdown",
      "metadata": {
        "id": "view-in-github",
        "colab_type": "text"
      },
      "source": [
        "<a href=\"https://colab.research.google.com/github/mahenoorf/Qureca-ADEQUATE-module-exercises/blob/main/Bernstein_Vazirani_Algorithm_Solutions.ipynb\" target=\"_parent\"><img src=\"https://colab.research.google.com/assets/colab-badge.svg\" alt=\"Open In Colab\"/></a>"
      ]
    },
    {
      "cell_type": "markdown",
      "source": [
        "\n",
        "\n",
        "<img src=\"https://gitlab.com/qworld/qeducation/educational-materials/adequate-qbook1/raw/main/qworld/images/adq_1.png\" align=\"left\" width=450></a>\n",
        "$ \\newcommand{\\bra}[1]{\\langle #1|} $\n",
        "$ \\newcommand{\\ket}[1]{|#1\\rangle} $\n",
        "$ \\newcommand{\\braket}[2]{\\langle #1|#2\\rangle} $\n",
        "$ \\newcommand{\\dot}[2]{ #1 \\cdot #2} $\n",
        "$ \\newcommand{\\biginner}[2]{\\left\\langle #1,#2\\right\\rangle} $\n",
        "$ \\newcommand{\\mymatrix}[2]{\\left( \\begin{array}{#1} #2\\end{array} \\right)} $\n",
        "$ \\newcommand{\\myvector}[1]{\\mymatrix{c}{#1}} $\n",
        "$ \\newcommand{\\myrvector}[1]{\\mymatrix{r}{#1}} $\n",
        "$ \\newcommand{\\mypar}[1]{\\left( #1 \\right)} $\n",
        "$ \\newcommand{\\mybigpar}[1]{ \\Big( #1 \\Big)} $\n",
        "$ \\newcommand{\\sqrttwo}{\\frac{1}{\\sqrt{2}}} $\n",
        "$ \\newcommand{\\dsqrttwo}{\\dfrac{1}{\\sqrt{2}}} $\n",
        "$ \\newcommand{\\onehalf}{\\frac{1}{2}} $\n",
        "$ \\newcommand{\\donehalf}{\\dfrac{1}{2}} $\n",
        "$ \\newcommand{\\hadamard}{ \\mymatrix{rr}{ \\sqrttwo & \\sqrttwo \\\\ \\sqrttwo & -\\sqrttwo }} $\n",
        "$ \\newcommand{\\vzero}{\\myvector{1\\\\0}} $\n",
        "$ \\newcommand{\\vone}{\\myvector{0\\\\1}} $\n",
        "$ \\newcommand{\\stateplus}{\\myvector{ \\sqrttwo \\\\  \\sqrttwo } } $\n",
        "$ \\newcommand{\\stateminus}{ \\myrvector{ \\sqrttwo \\\\ -\\sqrttwo } } $\n",
        "$ \\newcommand{\\myarray}[2]{ \\begin{array}{#1}#2\\end{array}} $\n",
        "$ \\newcommand{\\X}{ \\mymatrix{cc}{0 & 1 \\\\ 1 & 0}  } $\n",
        "$ \\newcommand{\\I}{ \\mymatrix{rr}{1 & 0 \\\\ 0 & 1}  } $\n",
        "$ \\newcommand{\\Z}{ \\mymatrix{rr}{1 & 0 \\\\ 0 & -1}  } $\n",
        "$ \\newcommand{\\Htwo}{ \\mymatrix{rrrr}{ \\frac{1}{2} & \\frac{1}{2} & \\frac{1}{2} & \\frac{1}{2} \\\\ \\frac{1}{2} & -\\frac{1}{2} & \\frac{1}{2} & -\\frac{1}{2} \\\\ \\frac{1}{2} & \\frac{1}{2} & -\\frac{1}{2} & -\\frac{1}{2} \\\\ \\frac{1}{2} & -\\frac{1}{2} & -\\frac{1}{2} & \\frac{1}{2} } } $\n",
        "$ \\newcommand{\\CNOT}{ \\mymatrix{cccc}{1 & 0 & 0 & 0 \\\\ 0 & 1 & 0 & 0 \\\\ 0 & 0 & 0 & 1 \\\\ 0 & 0 & 1 & 0} } $\n",
        "$ \\newcommand{\\norm}[1]{ \\left\\lVert #1 \\right\\rVert } $\n",
        "$ \\newcommand{\\pstate}[1]{ \\lceil \\mspace{-1mu} #1 \\mspace{-1.5mu} \\rfloor } $\n",
        "$ \\newcommand{\\greenbit}[1] {\\mathbf{{\\color{green}#1}}} $\n",
        "$ \\newcommand{\\bluebit}[1] {\\mathbf{{\\color{blue}#1}}} $\n",
        "$ \\newcommand{\\redbit}[1] {\\mathbf{{\\color{red}#1}}} $\n",
        "$ \\newcommand{\\brownbit}[1] {\\mathbf{{\\color{brown}#1}}} $\n",
        "$ \\newcommand{\\blackbit}[1] {\\mathbf{{\\color{black}#1}}} $\n"
      ],
      "metadata": {
        "id": "r5TylXsoX5fM"
      }
    },
    {
      "cell_type": "markdown",
      "metadata": {
        "id": "vhU8dIQy2jTt"
      },
      "source": [
        "_prepared by Berat Yenilen, Utku Birkan, Arda Çınar and Özlem Salehi_"
      ]
    },
    {
      "cell_type": "markdown",
      "metadata": {
        "id": "A3RyhEcu2jTt"
      },
      "source": [
        "<font size=\"28px\" style=\"font-size:28px;\" align=\"left\"><b><font color=\"blue\"> </font>Bernstein-Vazirani Problem</b></font>\n",
        "<br>\n",
        "<br><br>"
      ]
    },
    {
      "cell_type": "markdown",
      "metadata": {
        "jp-MarkdownHeadingCollapsed": true,
        "id": "vo8cr2gq2jTt"
      },
      "source": [
        "##### <font color=\"#08b806\">Please execute the following cell, it is necessary to distinguish between your local environment and Google Colab's"
      ]
    },
    {
      "cell_type": "code",
      "execution_count": null,
      "metadata": {
        "id": "pnJMnZB12jTt",
        "colab": {
          "base_uri": "https://localhost:8080/"
        },
        "collapsed": true,
        "outputId": "2a26b69e-1f92-41f3-a092-03366a2e31a4"
      },
      "outputs": [
        {
          "output_type": "stream",
          "name": "stdout",
          "text": [
            "--2025-09-07 20:15:08--  https://raw.githubusercontent.com/Razeen-ud-din/Adequate-Oracle/refs/heads/main/oracle.py\n",
            "Resolving raw.githubusercontent.com (raw.githubusercontent.com)... 185.199.109.133, 185.199.111.133, 185.199.110.133, ...\n",
            "Connecting to raw.githubusercontent.com (raw.githubusercontent.com)|185.199.109.133|:443... connected.\n",
            "HTTP request sent, awaiting response... 200 OK\n",
            "Length: 3083 (3.0K) [text/plain]\n",
            "Saving to: ‘oracle.py’\n",
            "\n",
            "oracle.py           100%[===================>]   3.01K  --.-KB/s    in 0s      \n",
            "\n",
            "2025-09-07 20:15:08 (48.0 MB/s) - ‘oracle.py’ saved [3083/3083]\n",
            "\n",
            "Collecting qiskit==2.0.1 (from qiskit[visualization]==2.0.1)\n",
            "  Downloading qiskit-2.0.1-cp39-abi3-manylinux_2_17_x86_64.manylinux2014_x86_64.whl.metadata (12 kB)\n",
            "Collecting rustworkx>=0.15.0 (from qiskit==2.0.1->qiskit[visualization]==2.0.1)\n",
            "  Downloading rustworkx-0.17.1-cp39-abi3-manylinux_2_17_x86_64.manylinux2014_x86_64.whl.metadata (10 kB)\n",
            "Requirement already satisfied: numpy<3,>=1.17 in /usr/local/lib/python3.12/dist-packages (from qiskit==2.0.1->qiskit[visualization]==2.0.1) (2.0.2)\n",
            "Requirement already satisfied: scipy>=1.5 in /usr/local/lib/python3.12/dist-packages (from qiskit==2.0.1->qiskit[visualization]==2.0.1) (1.16.1)\n",
            "Requirement already satisfied: sympy>=1.3 in /usr/local/lib/python3.12/dist-packages (from qiskit==2.0.1->qiskit[visualization]==2.0.1) (1.13.3)\n",
            "Requirement already satisfied: dill>=0.3 in /usr/local/lib/python3.12/dist-packages (from qiskit==2.0.1->qiskit[visualization]==2.0.1) (0.3.8)\n",
            "Requirement already satisfied: python-dateutil>=2.8.0 in /usr/local/lib/python3.12/dist-packages (from qiskit==2.0.1->qiskit[visualization]==2.0.1) (2.9.0.post0)\n",
            "Collecting stevedore>=3.0.0 (from qiskit==2.0.1->qiskit[visualization]==2.0.1)\n",
            "  Downloading stevedore-5.5.0-py3-none-any.whl.metadata (2.2 kB)\n",
            "Requirement already satisfied: typing-extensions in /usr/local/lib/python3.12/dist-packages (from qiskit==2.0.1->qiskit[visualization]==2.0.1) (4.15.0)\n",
            "Collecting symengine<0.14,>=0.11 (from qiskit==2.0.1->qiskit[visualization]==2.0.1)\n",
            "  Downloading symengine-0.13.0-cp312-cp312-manylinux_2_17_x86_64.manylinux2014_x86_64.whl.metadata (1.2 kB)\n",
            "Requirement already satisfied: matplotlib>=3.3 in /usr/local/lib/python3.12/dist-packages (from qiskit[visualization]==2.0.1) (3.10.0)\n",
            "Requirement already satisfied: pydot in /usr/local/lib/python3.12/dist-packages (from qiskit[visualization]==2.0.1) (3.0.4)\n",
            "Requirement already satisfied: Pillow>=4.2.1 in /usr/local/lib/python3.12/dist-packages (from qiskit[visualization]==2.0.1) (11.3.0)\n",
            "Collecting pylatexenc>=1.4 (from qiskit[visualization]==2.0.1)\n",
            "  Downloading pylatexenc-2.10.tar.gz (162 kB)\n",
            "\u001b[2K     \u001b[90m━━━━━━━━━━━━━━━━━━━━━━━━━━━━━━━━━━━━━━━\u001b[0m \u001b[32m162.6/162.6 kB\u001b[0m \u001b[31m6.3 MB/s\u001b[0m eta \u001b[36m0:00:00\u001b[0m\n",
            "\u001b[?25h  Preparing metadata (setup.py) ... \u001b[?25l\u001b[?25hdone\n",
            "Requirement already satisfied: seaborn>=0.9.0 in /usr/local/lib/python3.12/dist-packages (from qiskit[visualization]==2.0.1) (0.13.2)\n",
            "Requirement already satisfied: contourpy>=1.0.1 in /usr/local/lib/python3.12/dist-packages (from matplotlib>=3.3->qiskit[visualization]==2.0.1) (1.3.3)\n",
            "Requirement already satisfied: cycler>=0.10 in /usr/local/lib/python3.12/dist-packages (from matplotlib>=3.3->qiskit[visualization]==2.0.1) (0.12.1)\n",
            "Requirement already satisfied: fonttools>=4.22.0 in /usr/local/lib/python3.12/dist-packages (from matplotlib>=3.3->qiskit[visualization]==2.0.1) (4.59.2)\n",
            "Requirement already satisfied: kiwisolver>=1.3.1 in /usr/local/lib/python3.12/dist-packages (from matplotlib>=3.3->qiskit[visualization]==2.0.1) (1.4.9)\n",
            "Requirement already satisfied: packaging>=20.0 in /usr/local/lib/python3.12/dist-packages (from matplotlib>=3.3->qiskit[visualization]==2.0.1) (25.0)\n",
            "Requirement already satisfied: pyparsing>=2.3.1 in /usr/local/lib/python3.12/dist-packages (from matplotlib>=3.3->qiskit[visualization]==2.0.1) (3.2.3)\n",
            "Requirement already satisfied: six>=1.5 in /usr/local/lib/python3.12/dist-packages (from python-dateutil>=2.8.0->qiskit==2.0.1->qiskit[visualization]==2.0.1) (1.17.0)\n",
            "Requirement already satisfied: pandas>=1.2 in /usr/local/lib/python3.12/dist-packages (from seaborn>=0.9.0->qiskit[visualization]==2.0.1) (2.2.2)\n",
            "Requirement already satisfied: mpmath<1.4,>=1.1.0 in /usr/local/lib/python3.12/dist-packages (from sympy>=1.3->qiskit==2.0.1->qiskit[visualization]==2.0.1) (1.3.0)\n",
            "Requirement already satisfied: pytz>=2020.1 in /usr/local/lib/python3.12/dist-packages (from pandas>=1.2->seaborn>=0.9.0->qiskit[visualization]==2.0.1) (2025.2)\n",
            "Requirement already satisfied: tzdata>=2022.7 in /usr/local/lib/python3.12/dist-packages (from pandas>=1.2->seaborn>=0.9.0->qiskit[visualization]==2.0.1) (2025.2)\n",
            "Downloading qiskit-2.0.1-cp39-abi3-manylinux_2_17_x86_64.manylinux2014_x86_64.whl (6.5 MB)\n",
            "\u001b[2K   \u001b[90m━━━━━━━━━━━━━━━━━━━━━━━━━━━━━━━━━━━━━━━━\u001b[0m \u001b[32m6.5/6.5 MB\u001b[0m \u001b[31m13.8 MB/s\u001b[0m eta \u001b[36m0:00:00\u001b[0m\n",
            "\u001b[?25hDownloading rustworkx-0.17.1-cp39-abi3-manylinux_2_17_x86_64.manylinux2014_x86_64.whl (2.2 MB)\n",
            "\u001b[2K   \u001b[90m━━━━━━━━━━━━━━━━━━━━━━━━━━━━━━━━━━━━━━━━\u001b[0m \u001b[32m2.2/2.2 MB\u001b[0m \u001b[31m71.3 MB/s\u001b[0m eta \u001b[36m0:00:00\u001b[0m\n",
            "\u001b[?25hDownloading stevedore-5.5.0-py3-none-any.whl (49 kB)\n",
            "\u001b[2K   \u001b[90m━━━━━━━━━━━━━━━━━━━━━━━━━━━━━━━━━━━━━━━━\u001b[0m \u001b[32m49.5/49.5 kB\u001b[0m \u001b[31m5.4 MB/s\u001b[0m eta \u001b[36m0:00:00\u001b[0m\n",
            "\u001b[?25hDownloading symengine-0.13.0-cp312-cp312-manylinux_2_17_x86_64.manylinux2014_x86_64.whl (49.6 MB)\n",
            "\u001b[2K   \u001b[90m━━━━━━━━━━━━━━━━━━━━━━━━━━━━━━━━━━━━━━━━\u001b[0m \u001b[32m49.6/49.6 MB\u001b[0m \u001b[31m17.8 MB/s\u001b[0m eta \u001b[36m0:00:00\u001b[0m\n",
            "\u001b[?25hBuilding wheels for collected packages: pylatexenc\n",
            "  Building wheel for pylatexenc (setup.py) ... \u001b[?25l\u001b[?25hdone\n",
            "  Created wheel for pylatexenc: filename=pylatexenc-2.10-py3-none-any.whl size=136817 sha256=4bdbaaf3f355b85d1815016e2cb8b3e1506ffaa984e6273cc2d54d0996d440de\n",
            "  Stored in directory: /root/.cache/pip/wheels/06/3e/78/fa1588c1ae991bbfd814af2bcac6cef7a178beee1939180d46\n",
            "Successfully built pylatexenc\n",
            "Installing collected packages: pylatexenc, symengine, stevedore, rustworkx, qiskit\n",
            "Successfully installed pylatexenc-2.10 qiskit-2.0.1 rustworkx-0.17.1 stevedore-5.5.0 symengine-0.13.0\n",
            "Collecting qiskit-aer\n",
            "  Downloading qiskit_aer-0.17.1-cp312-cp312-manylinux_2_17_x86_64.manylinux2014_x86_64.whl.metadata (8.3 kB)\n",
            "Requirement already satisfied: qiskit>=1.1.0 in /usr/local/lib/python3.12/dist-packages (from qiskit-aer) (2.0.1)\n",
            "Requirement already satisfied: numpy>=1.16.3 in /usr/local/lib/python3.12/dist-packages (from qiskit-aer) (2.0.2)\n",
            "Requirement already satisfied: scipy>=1.0 in /usr/local/lib/python3.12/dist-packages (from qiskit-aer) (1.16.1)\n",
            "Requirement already satisfied: psutil>=5 in /usr/local/lib/python3.12/dist-packages (from qiskit-aer) (5.9.5)\n",
            "Requirement already satisfied: python-dateutil>=2.8.0 in /usr/local/lib/python3.12/dist-packages (from qiskit-aer) (2.9.0.post0)\n",
            "Requirement already satisfied: six>=1.5 in /usr/local/lib/python3.12/dist-packages (from python-dateutil>=2.8.0->qiskit-aer) (1.17.0)\n",
            "Requirement already satisfied: rustworkx>=0.15.0 in /usr/local/lib/python3.12/dist-packages (from qiskit>=1.1.0->qiskit-aer) (0.17.1)\n",
            "Requirement already satisfied: sympy>=1.3 in /usr/local/lib/python3.12/dist-packages (from qiskit>=1.1.0->qiskit-aer) (1.13.3)\n",
            "Requirement already satisfied: dill>=0.3 in /usr/local/lib/python3.12/dist-packages (from qiskit>=1.1.0->qiskit-aer) (0.3.8)\n",
            "Requirement already satisfied: stevedore>=3.0.0 in /usr/local/lib/python3.12/dist-packages (from qiskit>=1.1.0->qiskit-aer) (5.5.0)\n",
            "Requirement already satisfied: typing-extensions in /usr/local/lib/python3.12/dist-packages (from qiskit>=1.1.0->qiskit-aer) (4.15.0)\n",
            "Requirement already satisfied: symengine<0.14,>=0.11 in /usr/local/lib/python3.12/dist-packages (from qiskit>=1.1.0->qiskit-aer) (0.13.0)\n",
            "Requirement already satisfied: mpmath<1.4,>=1.1.0 in /usr/local/lib/python3.12/dist-packages (from sympy>=1.3->qiskit>=1.1.0->qiskit-aer) (1.3.0)\n",
            "Downloading qiskit_aer-0.17.1-cp312-cp312-manylinux_2_17_x86_64.manylinux2014_x86_64.whl (12.4 MB)\n",
            "\u001b[2K   \u001b[90m━━━━━━━━━━━━━━━━━━━━━━━━━━━━━━━━━━━━━━━━\u001b[0m \u001b[32m12.4/12.4 MB\u001b[0m \u001b[31m80.5 MB/s\u001b[0m eta \u001b[36m0:00:00\u001b[0m\n",
            "\u001b[?25hInstalling collected packages: qiskit-aer\n",
            "Successfully installed qiskit-aer-0.17.1\n"
          ]
        }
      ],
      "source": [
        "import IPython\n",
        "\n",
        "def in_colab():\n",
        "    try:\n",
        "        import google.colab\n",
        "        return True\n",
        "    except:\n",
        "        return False\n",
        "\n",
        "path_files = \"./\" if in_colab() else \"../qworld/include/\"\n",
        "\n",
        "if in_colab():\n",
        "    url = \"https://raw.githubusercontent.com/Razeen-ud-din/Adequate-Oracle/refs/heads/main/oracle.py\"\n",
        "    # url = \"https://gitlab.com/qworld/qeducation/qbook101/raw/main/qworld/include/oracle.py\"\n",
        "    !wget --no-cache -O oracle.py {url}\n",
        "\n",
        "    !pip install qiskit[visualization]\n",
        "    !pip install qiskit-aer"
      ]
    },
    {
      "cell_type": "markdown",
      "metadata": {
        "id": "4sVb8ypg2jTt"
      },
      "source": [
        "<a name=\"task1\"></a>\n",
        "### Task 1\n",
        "\n",
        "- Using how many queries can you solve the problem clasically? How many queries if you use a probabilistic algorithm?\n",
        "- How many queries do you think we need to make if we are to solve the problem with a quantum computer?"
      ]
    },
    {
      "cell_type": "markdown",
      "metadata": {
        "id": "EMx3VUe82jTt"
      },
      "source": [
        "<h3>Solution</h3>\n",
        "\n",
        "Let's illustrate the solution over an example.\n",
        "\n",
        "Let $n$ = 4 and let's make the following queries to function $f$.\n",
        "\n",
        "\\begin{align*}\n",
        "f(1000) &= s_1\\cdot 1 + s_2\\cdot 0 + s_3\\cdot 0 + s_4\\cdot 0 = s_1\\\\\n",
        "f(0100) &= s_1\\cdot 0 + s_2\\cdot 1 + s_3\\cdot 0 + s_4\\cdot 0 = s_2\\\\\n",
        "f(0010) &= s_1\\cdot 0 + s_2\\cdot 0 + s_3\\cdot 1 + s_4\\cdot 0 = s_3\\\\\n",
        "f(0001) &= s_1\\cdot 0 + s_2\\cdot 0 + s_3\\cdot 0 + s_4\\cdot 1 = s_4\\\\\n",
        "\\end{align*}\n",
        "\n",
        "We need $n$ queries and this is an optimal way of solving this problem by classical and probabilistic\n",
        "algorithms. For further information about why classical and probabilistic algorithms can not perform better, please refer\n",
        "to Information Theory."
      ]
    },
    {
      "cell_type": "markdown",
      "metadata": {
        "id": "5jAJgEjQ2jTu"
      },
      "source": [
        "<a name=\"task2\"></a>\n",
        "### Task 2\n",
        "\n",
        "What can we say about the $f:\\{0,1\\}^n \\rightarrow \\{0,1\\}$ function if $s = 0^n$?"
      ]
    },
    {
      "cell_type": "markdown",
      "metadata": {
        "id": "5mHWJR4l2jTu"
      },
      "source": [
        "<h3>Solution</h3>\n",
        "\n",
        "If $s=0^n$, then $f(x)=0$ for all $x$."
      ]
    },
    {
      "cell_type": "markdown",
      "metadata": {
        "id": "1AEo8L0F2jTu"
      },
      "source": [
        "<a name=\"task3\"></a>\n",
        "### Task 3\n",
        "\n",
        "Given an oracle function `bv_oracle()` that constructs a 6 qubit oracle circuit ($s$ has length 5) for $f$,construct a circuit that implements the algorithm described above to find out $s$.\n",
        "\n",
        "Note that qubit 5 is the output qubit.\n",
        "\n",
        "Run the following cell to load function `bv_oracle()`."
      ]
    },
    {
      "cell_type": "code",
      "execution_count": null,
      "metadata": {
        "id": "4I5GUFag2jTu"
      },
      "outputs": [],
      "source": [
        "quantum_file = path_files+\"oracle.py\"\n",
        "%run $quantum_file"
      ]
    },
    {
      "cell_type": "code",
      "execution_count": null,
      "metadata": {
        "id": "iUrLD0Uh2jTu",
        "colab": {
          "base_uri": "https://localhost:8080/",
          "height": 513
        },
        "outputId": "a0a1d5e0-4d15-4bf1-c6b7-449880b2b646"
      },
      "outputs": [
        {
          "output_type": "execute_result",
          "data": {
            "text/plain": [
              "<Figure size 1207.22x618.722 with 1 Axes>"
            ],
            "image/png": "[encoded data removed]"
          },
          "metadata": {},
          "execution_count": 3
        }
      ],
      "source": [
        "# from qiskit import QuantumRegister, ClassicalRegister, QuantumCircuit, execute, Aer #for qiskit version 1.x\n",
        "from qiskit import QuantumRegister, ClassicalRegister, QuantumCircuit #for qiskit version 2.x\n",
        "from qiskit_aer import Aer #for qiskit version 2.x\n",
        "\n",
        "n=5\n",
        "\n",
        "#Create quantum circuit\n",
        "bv_circuit = QuantumCircuit(n+1, n)\n",
        "\n",
        "#Apply X gate to last qubit\n",
        "bv_circuit.x(n)\n",
        "\n",
        "#Apply Hadamard to all qubits\n",
        "bv_circuit.h(range(n+1))\n",
        "\n",
        "#Apply oracle\n",
        "bv_circuit.compose(bv_oracle(), inplace=True)\n",
        "\n",
        "#Apply Hadamard to all qubits\n",
        "bv_circuit.h(range(n))\n",
        "\n",
        "#Measure the first 4 qubits\n",
        "bv_circuit.measure(range(n), range(n))\n",
        "\n",
        "#Draw the circuit\n",
        "bv_circuit.draw(output=\"mpl\")"
      ]
    },
    {
      "cell_type": "code",
      "execution_count": null,
      "metadata": {
        "id": "LQqyr3X82jTu",
        "colab": {
          "base_uri": "https://localhost:8080/"
        },
        "outputId": "c514a9dc-2b67-4b35-d7d2-8e4ebb11d55a"
      },
      "outputs": [
        {
          "output_type": "stream",
          "name": "stdout",
          "text": [
            "01011 is observed 10000 times\n"
          ]
        }
      ],
      "source": [
        "# job = execute(bv_circuit, Aer.get_backend('qasm_simulator'),shots=10000)\n",
        "simulator = Aer.get_backend('qasm_simulator')\n",
        "job = simulator.run(bv_circuit,shots=10000)\n",
        "counts = job.result().get_counts()\n",
        "for outcome in counts:\n",
        "    reverse_outcome = ''\n",
        "    for i in outcome:\n",
        "        reverse_outcome = i + reverse_outcome\n",
        "    print(reverse_outcome,\"is observed\",counts[outcome],\"times\")"
      ]
    },
    {
      "cell_type": "markdown",
      "metadata": {
        "id": "EE4d-Yhw2jTu"
      },
      "source": [
        "<a name=\"task4\"></a>\n",
        "### Task 4\n",
        "\n",
        "Given $\\textbf{s} = 0110$, implement a function that returns an oracle for the function  $ f(\\mathbf{x}) = \\mathbf{x} \\cdot \\mathbf{s} $. Note that $n=4$ and you will need a cirucit with 5 qubits where qubit 4 is the output qubit."
      ]
    },
    {
      "cell_type": "code",
      "execution_count": null,
      "metadata": {
        "id": "OBDWVGqV2jTu"
      },
      "outputs": [],
      "source": [
        "from qiskit import QuantumCircuit\n",
        "\n",
        "def oracle():\n",
        "    circuit = QuantumCircuit(5)\n",
        "    circuit.barrier()\n",
        "\n",
        "    circuit.cx(1, 4)\n",
        "    circuit.cx(2, 4)\n",
        "\n",
        "    circuit.barrier()\n",
        "    return circuit"
      ]
    }
  ],
  "metadata": {
    "kernelspec": {
      "display_name": "Python 3 (ipykernel)",
      "language": "python",
      "name": "python3"
    },
    "language_info": {
      "codemirror_mode": {
        "name": "ipython",
        "version": 3
      },
      "file_extension": ".py",
      "mimetype": "text/x-python",
      "name": "python",
      "nbconvert_exporter": "python",
      "pygments_lexer": "ipython3",
      "version": "3.11.4"
    },
    "colab": {
      "provenance": [],
      "include_colab_link": true
    }
  },
  "nbformat": 4,
  "nbformat_minor": 0
}