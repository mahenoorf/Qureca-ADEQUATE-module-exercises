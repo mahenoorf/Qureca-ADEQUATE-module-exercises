{
  "nbformat": 4,
  "nbformat_minor": 0,
  "metadata": {
    "colab": {
      "provenance": [],
      "include_colab_link": true
    },
    "kernelspec": {
      "name": "python3",
      "display_name": "Python 3"
    },
    "language_info": {
      "name": "python"
    }
  },
  "cells": [
    {
      "cell_type": "markdown",
      "metadata": {
        "id": "view-in-github",
        "colab_type": "text"
      },
      "source": [
        "<a href=\"https://colab.research.google.com/github/mahenoorf/Qureca-ADEQUATE-module-exercises/blob/main/Coin_Flip_Experiment_Exercises_Solutions.ipynb\" target=\"_parent\"><img src=\"https://colab.research.google.com/assets/colab-badge.svg\" alt=\"Open In Colab\"/></a>"
      ]
    },
    {
      "cell_type": "markdown",
      "source": [
        "<img src=\"https://gitlab.com/qworld/qeducation/educational-materials/adequate-qbook1/raw/main/qworld/images/adq_1.png\" align=\"left\" width=450></a>\n",
        "$ \\newcommand{\\bra}[1]{\\langle #1|} $\n",
        "$ \\newcommand{\\ket}[1]{|#1\\rangle} $\n",
        "$ \\newcommand{\\braket}[2]{\\langle #1|#2\\rangle} $\n",
        "$ \\newcommand{\\dot}[2]{ #1 \\cdot #2} $\n",
        "$ \\newcommand{\\biginner}[2]{\\left\\langle #1,#2\\right\\rangle} $\n",
        "$ \\newcommand{\\mymatrix}[2]{\\left( \\begin{array}{#1} #2\\end{array} \\right)} $\n",
        "$ \\newcommand{\\myvector}[1]{\\mymatrix{c}{#1}} $\n",
        "$ \\newcommand{\\myrvector}[1]{\\mymatrix{r}{#1}} $\n",
        "$ \\newcommand{\\mypar}[1]{\\left( #1 \\right)} $\n",
        "$ \\newcommand{\\mybigpar}[1]{ \\Big( #1 \\Big)} $\n",
        "$ \\newcommand{\\sqrttwo}{\\frac{1}{\\sqrt{2}}} $\n",
        "$ \\newcommand{\\dsqrttwo}{\\dfrac{1}{\\sqrt{2}}} $\n",
        "$ \\newcommand{\\onehalf}{\\frac{1}{2}} $\n",
        "$ \\newcommand{\\donehalf}{\\dfrac{1}{2}} $\n",
        "$ \\newcommand{\\hadamard}{ \\mymatrix{rr}{ \\sqrttwo & \\sqrttwo \\\\ \\sqrttwo & -\\sqrttwo }} $\n",
        "$ \\newcommand{\\vzero}{\\myvector{1\\\\0}} $\n",
        "$ \\newcommand{\\vone}{\\myvector{0\\\\1}} $\n",
        "$ \\newcommand{\\stateplus}{\\myvector{ \\sqrttwo \\\\  \\sqrttwo } } $\n",
        "$ \\newcommand{\\stateminus}{ \\myrvector{ \\sqrttwo \\\\ -\\sqrttwo } } $\n",
        "$ \\newcommand{\\myarray}[2]{ \\begin{array}{#1}#2\\end{array}} $\n",
        "$ \\newcommand{\\X}{ \\mymatrix{cc}{0 & 1 \\\\ 1 & 0}  } $\n",
        "$ \\newcommand{\\I}{ \\mymatrix{rr}{1 & 0 \\\\ 0 & 1}  } $\n",
        "$ \\newcommand{\\Z}{ \\mymatrix{rr}{1 & 0 \\\\ 0 & -1}  } $\n",
        "$ \\newcommand{\\Htwo}{ \\mymatrix{rrrr}{ \\frac{1}{2} & \\frac{1}{2} & \\frac{1}{2} & \\frac{1}{2} \\\\ \\frac{1}{2} & -\\frac{1}{2} & \\frac{1}{2} & -\\frac{1}{2} \\\\ \\frac{1}{2} & \\frac{1}{2} & -\\frac{1}{2} & -\\frac{1}{2} \\\\ \\frac{1}{2} & -\\frac{1}{2} & -\\frac{1}{2} & \\frac{1}{2} } } $\n",
        "$ \\newcommand{\\CNOT}{ \\mymatrix{cccc}{1 & 0 & 0 & 0 \\\\ 0 & 1 & 0 & 0 \\\\ 0 & 0 & 0 & 1 \\\\ 0 & 0 & 1 & 0} } $\n",
        "$ \\newcommand{\\norm}[1]{ \\left\\lVert #1 \\right\\rVert } $\n",
        "$ \\newcommand{\\pstate}[1]{ \\lceil \\mspace{-1mu} #1 \\mspace{-1.5mu} \\rfloor } $\n",
        "$ \\newcommand{\\greenbit}[1] {\\mathbf{{\\color{green}#1}}} $\n",
        "$ \\newcommand{\\bluebit}[1] {\\mathbf{{\\color{blue}#1}}} $\n",
        "$ \\newcommand{\\redbit}[1] {\\mathbf{{\\color{red}#1}}} $\n",
        "$ \\newcommand{\\brownbit}[1] {\\mathbf{{\\color{brown}#1}}} $\n",
        "$ \\newcommand{\\blackbit}[1] {\\mathbf{{\\color{black}#1}}} $"
      ],
      "metadata": {
        "id": "PIRCIqHKvDot"
      }
    },
    {
      "cell_type": "markdown",
      "source": [
        "_prepared by Abuzer Yakaryilmaz_"
      ],
      "metadata": {
        "id": "kVMgMFNj4yV6"
      }
    },
    {
      "cell_type": "markdown",
      "source": [
        "<a name=\"task2\"></a>\n",
        "<h3> Task 2: Simulating BiasedCoin in Python</h3>\n",
        "\n",
        "Flip the following biased coin 100 times. Calcuate the total numbers of heads and tails, and then check the ratio of the number of heads and the number of tails.\n",
        "\n",
        "$\n",
        "BiasedCoin = \\begin{array}{c|cc} \\hookleftarrow & \\mathbf{Head} & \\mathbf{Tail} \\\\ \\hline \\mathbf{Head} & 0.6 & 0.6 \\\\  \\mathbf{Tail} & 0.4 & 0.4  \\end{array}\n",
        "$\n",
        "\n",
        "\n",
        "Do the same experiment 1000 times.\n",
        "\n",
        "Do the same experiment 10,000 times.\n",
        "\n",
        "Do the same experiment 100,000 times.\n",
        "\n",
        "Do your results get close to the ideal case $ \\mypar{ \\dfrac{ \\mbox{\\# of heads} }{ \\mbox{\\# of tails} } = \\dfrac{0.6}{0.4} = 1.50000000 } $?"
      ],
      "metadata": {
        "id": "H96SMjBvxIZI"
      }
    },
    {
      "cell_type": "markdown",
      "source": [
        "<h3>Solution</h3>"
      ],
      "metadata": {
        "id": "Etm4ck8vxOeA"
      }
    },
    {
      "cell_type": "code",
      "source": [
        "from random import randrange\n",
        "\n",
        "# let's pick a random number between {0,1,...,99}\n",
        "# it is expected to be less than 60 with probability 0.6\n",
        "#     and greater than or equal to 60 with probability 0.4\n",
        "\n",
        "for experiment in [100,1000,10000,100000]:\n",
        "    heads = tails = 0\n",
        "    for i in range(experiment):\n",
        "        if randrange(100) <60: heads = heads + 1 # with probability 0.6\n",
        "        else: tails = tails + 1 # with probability 0.4\n",
        "    print(\"experiment:\",experiment)\n",
        "    print(\"heads =\",heads,\"  tails = \",tails)\n",
        "    print(\"the ratio of #heads/#tails is\",(round(heads/tails,4)))\n",
        "    print() # empty line"
      ],
      "metadata": {
        "id": "3VKFPBasw7SU",
        "outputId": "4cc9ea30-9a15-4e6f-e413-cd7a6c143cb7",
        "colab": {
          "base_uri": "https://localhost:8080/"
        }
      },
      "execution_count": null,
      "outputs": [
        {
          "output_type": "stream",
          "name": "stdout",
          "text": [
            "experiment: 100\n",
            "heads = 59   tails =  41\n",
            "the ratio of #heads/#tails is 1.439\n",
            "\n",
            "experiment: 1000\n",
            "heads = 602   tails =  398\n",
            "the ratio of #heads/#tails is 1.5126\n",
            "\n",
            "experiment: 10000\n",
            "heads = 6091   tails =  3909\n",
            "the ratio of #heads/#tails is 1.5582\n",
            "\n",
            "experiment: 100000\n",
            "heads = 59676   tails =  40324\n",
            "the ratio of #heads/#tails is 1.4799\n",
            "\n"
          ]
        }
      ]
    },
    {
      "cell_type": "markdown",
      "metadata": {
        "id": "QybWUMGROEan"
      },
      "source": [
        "<a name=\"task3\"></a>\n",
        "<h3> Task 3 </h3>\n",
        "\n",
        "Write a function to implement the described biased coin,\n",
        "\n",
        "The inputs are integers $N>0$ and $ B \\in \\{0,\\ldots,N\\} $.\n",
        "\n",
        "The output is either \"Heads\" or \"Tails\"."
      ]
    },
    {
      "cell_type": "markdown",
      "metadata": {
        "id": "B_PPg6xROEan"
      },
      "source": [
        "<h3>Solution</h3>"
      ]
    },
    {
      "cell_type": "code",
      "execution_count": null,
      "metadata": {
        "id": "hvkxc_PYOEan"
      },
      "outputs": [],
      "source": [
        "def biased_coin(N,B):\n",
        "    from random import randrange\n",
        "    random_number = randrange(N)\n",
        "    if random_number < B:\n",
        "        return \"Heads\"\n",
        "    else:\n",
        "        return \"Tails\""
      ]
    },
    {
      "cell_type": "markdown",
      "metadata": {
        "id": "clxQVSv6OEan"
      },
      "source": [
        "<a name=\"task4\"></a>\n",
        "<h3> Task 4</h3>\n",
        "\n",
        "We use the biased coin described in Task 3.\n",
        "\n",
        "(You may use the function given in the solution of task 3.)\n",
        "\n",
        "We pick $ N $ as 101.\n",
        "\n",
        "Our task is to determine the value of $ B $ experimentially without checking its value directly.\n",
        "\n",
        "Flip the (same) biased coin 500 times, collect the statistics, and then guess the bias.\n",
        "\n",
        "Compare your guess with the actual bias by calculating the relative error in percentage (the absolute value of the difference divided by the real bias)."
      ]
    },
    {
      "cell_type": "markdown",
      "metadata": {
        "id": "2xPOCdjsOEan"
      },
      "source": [
        "<h3>Solution</h3>"
      ]
    },
    {
      "cell_type": "code",
      "execution_count": null,
      "metadata": {
        "id": "tfLTQpTfOEan"
      },
      "outputs": [],
      "source": [
        "def biased_coin(N,B):\n",
        "    from random import randrange\n",
        "    random_number = randrange(N)\n",
        "    if random_number < B:\n",
        "        return \"Heads\"\n",
        "    else:\n",
        "        return \"Tails\""
      ]
    },
    {
      "cell_type": "code",
      "execution_count": null,
      "metadata": {
        "id": "Wf0svkjqOEan"
      },
      "outputs": [],
      "source": [
        "from random import randrange\n",
        "N = 101\n",
        "B = randrange(N+1)"
      ]
    },
    {
      "cell_type": "code",
      "execution_count": null,
      "metadata": {
        "id": "wcdMI_W8OEan",
        "outputId": "9ec8e3f2-9ddb-4fed-e6c1-c3f933d08727",
        "colab": {
          "base_uri": "https://localhost:8080/"
        }
      },
      "outputs": [
        {
          "output_type": "stream",
          "name": "stdout",
          "text": [
            "my guess is 0.516\n",
            "real bias is 0.5445544554455446\n",
            "error (%) is 5.243636363636368\n"
          ]
        }
      ],
      "source": [
        "total_tosses = 500\n",
        "the_number_of_heads = 0\n",
        "for i in range(total_tosses):\n",
        "    if biased_coin(N,B) == \"Heads\":\n",
        "        the_number_of_heads = the_number_of_heads + 1\n",
        "\n",
        "my_guess =  the_number_of_heads/total_tosses\n",
        "real_bias = B/N\n",
        "error = abs(my_guess-real_bias)/real_bias*100\n",
        "\n",
        "print(\"my guess is\",my_guess)\n",
        "print(\"real bias is\",real_bias)\n",
        "print(\"error (%) is\",error)"
      ]
    }
  ]
}