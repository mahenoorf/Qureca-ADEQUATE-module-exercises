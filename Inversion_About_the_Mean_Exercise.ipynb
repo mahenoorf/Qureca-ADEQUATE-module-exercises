{
  "cells": [
    {
      "cell_type": "markdown",
      "metadata": {
        "id": "view-in-github",
        "colab_type": "text"
      },
      "source": [
        "<a href=\"https://colab.research.google.com/github/mahenoorf/Qureca-ADEQUATE-module-exercises/blob/main/Inversion_About_the_Mean_Exercise.ipynb\" target=\"_parent\"><img src=\"https://colab.research.google.com/assets/colab-badge.svg\" alt=\"Open In Colab\"/></a>"
      ]
    },
    {
      "cell_type": "markdown",
      "source": [
        "<img src=\"https://gitlab.com/qworld/qeducation/educational-materials/adequate-qbook1/raw/main/qworld/images/adq_1.png\" align=\"left\" width=450></a>\n",
        "$ \\newcommand{\\bra}[1]{\\langle #1|} $\n",
        "$ \\newcommand{\\ket}[1]{|#1\\rangle} $\n",
        "$ \\newcommand{\\braket}[2]{\\langle #1|#2\\rangle} $\n",
        "$ \\newcommand{\\dot}[2]{ #1 \\cdot #2} $\n",
        "$ \\newcommand{\\biginner}[2]{\\left\\langle #1,#2\\right\\rangle} $\n",
        "$ \\newcommand{\\mymatrix}[2]{\\left( \\begin{array}{#1} #2\\end{array} \\right)} $\n",
        "$ \\newcommand{\\myvector}[1]{\\mymatrix{c}{#1}} $\n",
        "$ \\newcommand{\\myrvector}[1]{\\mymatrix{r}{#1}} $\n",
        "$ \\newcommand{\\mypar}[1]{\\left( #1 \\right)} $\n",
        "$ \\newcommand{\\mybigpar}[1]{ \\Big( #1 \\Big)} $\n",
        "$ \\newcommand{\\sqrttwo}{\\frac{1}{\\sqrt{2}}} $\n",
        "$ \\newcommand{\\dsqrttwo}{\\dfrac{1}{\\sqrt{2}}} $\n",
        "$ \\newcommand{\\onehalf}{\\frac{1}{2}} $\n",
        "$ \\newcommand{\\donehalf}{\\dfrac{1}{2}} $\n",
        "$ \\newcommand{\\hadamard}{ \\mymatrix{rr}{ \\sqrttwo & \\sqrttwo \\\\ \\sqrttwo & -\\sqrttwo }} $\n",
        "$ \\newcommand{\\vzero}{\\myvector{1\\\\0}} $\n",
        "$ \\newcommand{\\vone}{\\myvector{0\\\\1}} $\n",
        "$ \\newcommand{\\stateplus}{\\myvector{ \\sqrttwo \\\\  \\sqrttwo } } $\n",
        "$ \\newcommand{\\stateminus}{ \\myrvector{ \\sqrttwo \\\\ -\\sqrttwo } } $\n",
        "$ \\newcommand{\\myarray}[2]{ \\begin{array}{#1}#2\\end{array}} $\n",
        "$ \\newcommand{\\X}{ \\mymatrix{cc}{0 & 1 \\\\ 1 & 0}  } $\n",
        "$ \\newcommand{\\I}{ \\mymatrix{rr}{1 & 0 \\\\ 0 & 1}  } $\n",
        "$ \\newcommand{\\Z}{ \\mymatrix{rr}{1 & 0 \\\\ 0 & -1}  } $\n",
        "$ \\newcommand{\\Htwo}{ \\mymatrix{rrrr}{ \\frac{1}{2} & \\frac{1}{2} & \\frac{1}{2} & \\frac{1}{2} \\\\ \\frac{1}{2} & -\\frac{1}{2} & \\frac{1}{2} & -\\frac{1}{2} \\\\ \\frac{1}{2} & \\frac{1}{2} & -\\frac{1}{2} & -\\frac{1}{2} \\\\ \\frac{1}{2} & -\\frac{1}{2} & -\\frac{1}{2} & \\frac{1}{2} } } $\n",
        "$ \\newcommand{\\CNOT}{ \\mymatrix{cccc}{1 & 0 & 0 & 0 \\\\ 0 & 1 & 0 & 0 \\\\ 0 & 0 & 0 & 1 \\\\ 0 & 0 & 1 & 0} } $\n",
        "$ \\newcommand{\\norm}[1]{ \\left\\lVert #1 \\right\\rVert } $\n",
        "$ \\newcommand{\\pstate}[1]{ \\lceil \\mspace{-1mu} #1 \\mspace{-1.5mu} \\rfloor } $\n",
        "$ \\newcommand{\\greenbit}[1] {\\mathbf{{\\color{green}#1}}} $\n",
        "$ \\newcommand{\\bluebit}[1] {\\mathbf{{\\color{blue}#1}}} $\n",
        "$ \\newcommand{\\redbit}[1] {\\mathbf{{\\color{red}#1}}} $\n",
        "$ \\newcommand{\\brownbit}[1] {\\mathbf{{\\color{brown}#1}}} $\n",
        "$ \\newcommand{\\blackbit}[1] {\\mathbf{{\\color{black}#1}}} $"
      ],
      "metadata": {
        "id": "R5K_7W7ia65y"
      }
    },
    {
      "cell_type": "markdown",
      "metadata": {
        "id": "vOyysxtBM2mG"
      },
      "source": [
        "_prepared by Abuzer Yakaryilmaz and Özlem Salehi_"
      ]
    },
    {
      "cell_type": "markdown",
      "metadata": {
        "id": "DLjdhUaYM2mG"
      },
      "source": [
        "<font size=\"28px\" style=\"font-size:28px;\" align=\"left\"><b>Exercise: Inversion About the Mean </b></font>\n"
      ]
    },
    {
      "cell_type": "markdown",
      "metadata": {
        "jp-MarkdownHeadingCollapsed": true,
        "id": "zYuLlvZVM2mG"
      },
      "source": [
        "##### <font color=\"#08b806\">Please execute the following cell, it is necessary to distinguish between your local environment and Google Colab's"
      ]
    },
    {
      "cell_type": "code",
      "execution_count": null,
      "metadata": {
        "id": "ISoQiHSmM2mG"
      },
      "outputs": [],
      "source": [
        "import IPython\n",
        "\n",
        "def in_colab():\n",
        "    try:\n",
        "        import google.colab\n",
        "        return True\n",
        "    except:\n",
        "        return False\n",
        "\n",
        "SolutionToTask1 = lambda: IPython.display.display(IPython.display.Javascript('window.open(\"{url}\");'.format(url='https://colab.research.google.com/drive/1R_mQoAKNQRrWdGRG2g9_JbW100E-rDHL#scrollTo=q7iXDlsBJfMd' if in_colab() else 'Inversion_About_the_Mean_Solutions.ipynb#task1')))\n",
        "SolutionToTask2 = lambda: IPython.display.display(IPython.display.Javascript('window.open(\"{url}\");'.format(url='https://colab.research.google.com/drive/1R_mQoAKNQRrWdGRG2g9_JbW100E-rDHL#scrollTo=WuoVoB77JfMe' if in_colab() else 'Inversion_About_the_Mean_Solutions.ipynb#task2')))\n",
        "SolutionToTask3 = lambda: IPython.display.display(IPython.display.Javascript('window.open(\"{url}\");'.format(url='https://colab.research.google.com/drive/1R_mQoAKNQRrWdGRG2g9_JbW100E-rDHL#scrollTo=tFMlvDn7JfMf' if in_colab() else 'Inversion_About_the_Mean_Solutions.ipynb#task3')))\n",
        "SolutionToTask4 = lambda: IPython.display.display(IPython.display.Javascript('window.open(\"{url}\");'.format(url='https://colab.research.google.com/drive/1R_mQoAKNQRrWdGRG2g9_JbW100E-rDHL#scrollTo=ChP59snuJfMf' if in_colab() else 'Inversion_About_the_Mean_Solutions.ipynb#task4')))\n",
        "SolutionToTask5 = lambda: IPython.display.display(IPython.display.Javascript('window.open(\"{url}\");'.format(url='https://colab.research.google.com/drive/1R_mQoAKNQRrWdGRG2g9_JbW100E-rDHL#scrollTo=Y0dYmhDFJfMf' if in_colab() else 'Inversion_About_the_Mean_Solutions.ipynb#task5')))\n",
        "SolutionToTask6 = lambda: IPython.display.display(IPython.display.Javascript('window.open(\"{url}\");'.format(url='https://colab.research.google.com/drive/1R_mQoAKNQRrWdGRG2g9_JbW100E-rDHL#scrollTo=jVx-krftJfMg' if in_colab() else 'Inversion_About_the_Mean_Solutions.ipynb#task6')))\n",
        "SolutionToTask7 = lambda: IPython.display.display(IPython.display.Javascript('window.open(\"{url}\");'.format(url='https://colab.research.google.com/drive/1R_mQoAKNQRrWdGRG2g9_JbW100E-rDHL#scrollTo=GbVqaIqhJfMg' if in_colab() else 'Inversion_About_the_Mean_Solutions.ipynb#task7')))\n",
        "SolutionToTask8 = lambda: IPython.display.display(IPython.display.Javascript('window.open(\"{url}\");'.format(url='https://colab.research.google.com/drive/1R_mQoAKNQRrWdGRG2g9_JbW100E-rDHL#scrollTo=66T52N7sJfMg' if in_colab() else 'Inversion_About_the_Mean_Solutions.ipynb#task8')))\n",
        "SolutionToTask9 = lambda: IPython.display.display(IPython.display.Javascript('window.open(\"{url}\");'.format(url='https://colab.research.google.com/drive/1R_mQoAKNQRrWdGRG2g9_JbW100E-rDHL#scrollTo=NWfkyeKxJfMh' if in_colab() else 'Inversion_About_the_Mean_Solutions.ipynb#task9')))"
      ]
    },
    {
      "cell_type": "markdown",
      "metadata": {
        "id": "F3T-Icy5M2mH"
      },
      "source": [
        "#<h3>Task 1</h3>\n",
        "\n",
        "We play this game for $ N = 8 $.\n",
        "\n",
        "Suppose that only the 4th element is marked.\n",
        "\n",
        "We can visualize the values of elements in the list in the beginning as follows."
      ]
    },
    {
      "cell_type": "code",
      "execution_count": 63,
      "metadata": {
        "id": "TZcziFLCM2mH",
        "colab": {
          "base_uri": "https://localhost:8080/",
          "height": 447
        },
        "outputId": "8dc06330-2053-4edb-a23f-3b2340822f8e"
      },
      "outputs": [
        {
          "output_type": "execute_result",
          "data": {
            "text/plain": [
              "<BarContainer object of 8 artists>"
            ]
          },
          "metadata": {},
          "execution_count": 63
        },
        {
          "output_type": "display_data",
          "data": {
            "text/plain": [
              "<Figure size 640x480 with 1 Axes>"
            ],
            "image/png": "[encoded data removed]"
          },
          "metadata": {}
        }
      ],
      "source": [
        "from matplotlib.pyplot import bar\n",
        "\n",
        "labels = []\n",
        "elements = []\n",
        "for i in range(8):\n",
        "    labels = labels + [i+1]\n",
        "    elements  = elements + [1]\n",
        "\n",
        "# visualize the values of elements in the list\n",
        "bar(labels,elements)"
      ]
    },
    {
      "cell_type": "markdown",
      "metadata": {
        "id": "MRRMgjesM2mH"
      },
      "source": [
        "Iterate the game for one step and visualize the values of elements in the list after each phase."
      ]
    },
    {
      "cell_type": "markdown",
      "metadata": {
        "id": "CMy7aKjaM2mH"
      },
      "source": [
        "1st step - query phase:"
      ]
    },
    {
      "cell_type": "code",
      "execution_count": 64,
      "metadata": {
        "id": "OeYw5J1AM2mH",
        "colab": {
          "base_uri": "https://localhost:8080/",
          "height": 447
        },
        "outputId": "66d0e474-3f20-42fb-b72a-2995d18e6437"
      },
      "outputs": [
        {
          "output_type": "execute_result",
          "data": {
            "text/plain": [
              "<BarContainer object of 8 artists>"
            ]
          },
          "metadata": {},
          "execution_count": 64
        },
        {
          "output_type": "display_data",
          "data": {
            "text/plain": [
              "<Figure size 640x480 with 1 Axes>"
            ],
            "image/png": "[encoded data removed]"
          },
          "metadata": {}
        }
      ],
      "source": [
        "# change the sign of the marked element, i.e., multiply it by -1\n",
        "# visualize the values of elements in the list\n",
        "\n",
        "elements[3] = -1*elements[3]\n",
        "bar(labels,elements)"
      ]
    },
    {
      "cell_type": "markdown",
      "metadata": {
        "id": "2tlQmt1yM2mH"
      },
      "source": [
        "1st step - inversion phase:"
      ]
    },
    {
      "cell_type": "code",
      "execution_count": 65,
      "metadata": {
        "id": "zaVondXlM2mH",
        "colab": {
          "base_uri": "https://localhost:8080/",
          "height": 447
        },
        "outputId": "3b83c440-992a-478a-87d4-b7a4cf3506c6"
      },
      "outputs": [
        {
          "output_type": "execute_result",
          "data": {
            "text/plain": [
              "<BarContainer object of 8 artists>"
            ]
          },
          "metadata": {},
          "execution_count": 65
        },
        {
          "output_type": "display_data",
          "data": {
            "text/plain": [
              "<Figure size 640x480 with 1 Axes>"
            ],
            "image/png": "[encoded data removed]"
          },
          "metadata": {}
        }
      ],
      "source": [
        "# 1st step - inversion\n",
        "\n",
        "# calculate the mean of all values\n",
        "\n",
        "# then reflect each element over the mean, e.g.:\n",
        "#   if the mean is 0, then the reflection of 3 is -3\n",
        "#   if the mean is 1, then the reflection of 3 is -1\n",
        "#   if the mean is -1, then the reflection of 3 is -5\n",
        "sum = 0\n",
        "for i in range(len(elements)):\n",
        "    sum = sum + elements[i]\n",
        "mean = sum/len(elements)\n",
        "\n",
        "for i in range(len(elements)):\n",
        "    elements[i] = -1*elements[i] + 2*mean\n",
        "\n",
        "# visualize the values of elements in the list\n",
        "bar(labels,elements)"
      ]
    },
    {
      "cell_type": "markdown",
      "metadata": {
        "id": "7wbg64KbM2mH"
      },
      "source": [
        "Iterate the game for one more step and visualize the values of elements in the list after each phase."
      ]
    },
    {
      "cell_type": "markdown",
      "metadata": {
        "id": "9mRDAmgcM2mH"
      },
      "source": [
        "2nd step - query phase:"
      ]
    },
    {
      "cell_type": "code",
      "execution_count": 66,
      "metadata": {
        "id": "P3tduhbwM2mH",
        "colab": {
          "base_uri": "https://localhost:8080/",
          "height": 447
        },
        "outputId": "7bd69259-65c1-4697-99a5-5e6619f4d1b1"
      },
      "outputs": [
        {
          "output_type": "execute_result",
          "data": {
            "text/plain": [
              "<BarContainer object of 8 artists>"
            ]
          },
          "metadata": {},
          "execution_count": 66
        },
        {
          "output_type": "display_data",
          "data": {
            "text/plain": [
              "<Figure size 640x480 with 1 Axes>"
            ],
            "image/png": "[encoded data removed]"
          },
          "metadata": {}
        }
      ],
      "source": [
        "#\n",
        "# 2nd step - query\n",
        "#\n",
        "elements[3] = -1*elements[3]\n",
        "\n",
        "# visualize the values of elements in the list\n",
        "bar(labels,elements)"
      ]
    },
    {
      "cell_type": "markdown",
      "metadata": {
        "id": "jOz9r_9RM2mI"
      },
      "source": [
        "2nd step - inversion phase:"
      ]
    },
    {
      "cell_type": "code",
      "execution_count": 67,
      "metadata": {
        "id": "9C5s_ZnKM2mI",
        "colab": {
          "base_uri": "https://localhost:8080/",
          "height": 447
        },
        "outputId": "0d9c0ed1-6ed7-4e06-abfc-737c129abc18"
      },
      "outputs": [
        {
          "output_type": "execute_result",
          "data": {
            "text/plain": [
              "<BarContainer object of 8 artists>"
            ]
          },
          "metadata": {},
          "execution_count": 67
        },
        {
          "output_type": "display_data",
          "data": {
            "text/plain": [
              "<Figure size 640x480 with 1 Axes>"
            ],
            "image/png": "[encoded data removed]"
          },
          "metadata": {}
        }
      ],
      "source": [
        "#\n",
        "# 2nd step - inversion\n",
        "#\n",
        "sum = 0\n",
        "for i in range(len(elements)):\n",
        "    sum = sum + elements[i]\n",
        "mean = sum/len(elements)\n",
        "\n",
        "for i in range(len(elements)):\n",
        "    elements[i] = -1*elements[i] + 2*mean\n",
        "\n",
        "# visualize the values of elements in the list\n",
        "bar(labels,elements)"
      ]
    },
    {
      "cell_type": "markdown",
      "metadata": {
        "id": "-1H6Sb-PM2mI"
      },
      "source": [
        "Iterate the game three more steps and visualize the values of elements in the list at the end."
      ]
    },
    {
      "cell_type": "code",
      "execution_count": 68,
      "metadata": {
        "id": "AG1I5BzOM2mI",
        "colab": {
          "base_uri": "https://localhost:8080/",
          "height": 452
        },
        "outputId": "1b19e1ed-2772-4c1e-a582-57ca7608dd1e"
      },
      "outputs": [
        {
          "output_type": "execute_result",
          "data": {
            "text/plain": [
              "<BarContainer object of 8 artists>"
            ]
          },
          "metadata": {},
          "execution_count": 68
        },
        {
          "output_type": "display_data",
          "data": {
            "text/plain": [
              "<Figure size 640x480 with 1 Axes>"
            ],
            "image/png": "[encoded data removed]"
          },
          "metadata": {}
        }
      ],
      "source": [
        "#\n",
        "# your code is here\n",
        "\n",
        "for i in range(3):\n",
        "    elements[3] = -1*elements[3]\n",
        "    sum = 0\n",
        "    for i in range(len(elements)):\n",
        "        sum = sum + elements[i]\n",
        "    mean = sum/len(elements)\n",
        "\n",
        "    for i in range(len(elements)):\n",
        "        elements[i] = -1*elements[i] + 2*mean\n",
        "\n",
        "# visualize the values of elements in the list\n",
        "bar(labels,elements)"
      ]
    },
    {
      "cell_type": "markdown",
      "metadata": {
        "id": "Ppq9nub8M2mI"
      },
      "source": [
        "To check out our solution, run the next cell:"
      ]
    },
    {
      "cell_type": "code",
      "execution_count": null,
      "metadata": {
        "id": "yDXplMB-M2mI",
        "colab": {
          "base_uri": "https://localhost:8080/",
          "height": 17
        },
        "outputId": "5824a32e-ef8c-4960-bd16-1f504499ba2f"
      },
      "outputs": [
        {
          "output_type": "display_data",
          "data": {
            "text/plain": [
              "<IPython.core.display.Javascript object>"
            ],
            "application/javascript": [
              "window.open(\"https://colab.research.google.com/drive/1R_mQoAKNQRrWdGRG2g9_JbW100E-rDHL#scrollTo=q7iXDlsBJfMd\");"
            ]
          },
          "metadata": {}
        }
      ],
      "source": [
        "SolutionToTask1()  # show solution for task 1"
      ]
    },
    {
      "cell_type": "markdown",
      "metadata": {
        "id": "dLrnubCxM2mI"
      },
      "source": [
        "<a name=\"task2\"></a>\n",
        "<h3>Task 2</h3>\n",
        "\n",
        "Write a function called *query* that\n",
        "- takes a list of elements and the list of marked elements,\n",
        "- change the sign of the marked elements, and then\n",
        "- returns the list.\n",
        "\n",
        "Write a function called *inversion* that\n",
        "- takes a list of elements and\n",
        "- reflects the value of each element over the mean of all values, and then\n",
        "- return the list.\n",
        "\n",
        "We iterate the same game given in Task 1 ($ N = 8 $ and the 4th element is the only marked one) 20 steps by using the functions *query* and *inversion*.\n",
        "\n",
        "**This time we trace the values of only the 4th element. We store the values of the 4th element on a list after each step, and then, we display this list as a bar chart.**"
      ]
    },
    {
      "cell_type": "code",
      "execution_count": 69,
      "metadata": {
        "id": "bvxyUtZSM2mI"
      },
      "outputs": [],
      "source": [
        "def query(elements=[1],marked_elements=[0]):\n",
        "    for i in marked_elements:\n",
        "        elements[i] = -1 * elements[i]\n",
        "    return elements"
      ]
    },
    {
      "cell_type": "code",
      "execution_count": 70,
      "metadata": {
        "id": "eJZiVONYM2mI"
      },
      "outputs": [],
      "source": [
        "def inversion (elements=[1]):\n",
        "    sum = 0\n",
        "    for i in range(len(elements)):\n",
        "        sum = sum + elements[i]\n",
        "    mean = sum/len(elements)\n",
        "\n",
        "    for i in range(len(elements)):\n",
        "        elements[i] = -1*elements[i] + 2*mean\n",
        "    return elements"
      ]
    },
    {
      "cell_type": "code",
      "execution_count": 71,
      "metadata": {
        "id": "_utUT_7AM2mI",
        "colab": {
          "base_uri": "https://localhost:8080/",
          "height": 485
        },
        "outputId": "fd4413bd-c2c9-458c-e087-f7688471dee7"
      },
      "outputs": [
        {
          "output_type": "stream",
          "name": "stdout",
          "text": [
            "[0, 1, 2, 3, 4, 5, 6, 7, 8, 9, 10, 11, 12, 13, 14, 15, 16, 17, 18, 19, 20]\n",
            "[1, 2.5, 2.75, 1.625, -0.3125, -2.09375, -2.828125, -2.1484375, -0.39453125, 1.556640625, 2.7294921875, 2.53759765625, 1.076904296875, -0.9222412109375, -2.46026611328125, -2.768157958984375, -1.6919708251953125, 0.23020172119140625, 2.037273406982422, 2.8257083892822266, 2.201289176940918]\n"
          ]
        },
        {
          "output_type": "display_data",
          "data": {
            "text/plain": [
              "<Figure size 640x480 with 1 Axes>"
            ],
            "image/png": "[encoded data removed]"
          },
          "metadata": {}
        }
      ],
      "source": [
        "from matplotlib.pyplot import bar\n",
        "\n",
        "# define the list of size 8 on which each element has value of 1\n",
        "elements = []\n",
        "for i in range(8):\n",
        "    elements  = elements + [1]\n",
        "\n",
        "# index of the marked element\n",
        "marked_elements = [3]\n",
        "\n",
        "# define the list of iterations\n",
        "iterations = []\n",
        "# the list storing the values of the 4th element after each step\n",
        "L = []\n",
        "\n",
        "# the first values\n",
        "iterations.append(0)\n",
        "L.append(elements[marked_elements[0]])\n",
        "\n",
        "for step in range(20):\n",
        "    # store the iteration\n",
        "    iterations.append(step+1)\n",
        "    elements = query(elements,marked_elements)\n",
        "    elements = inversion(elements)\n",
        "    L.append(elements[marked_elements[0]])\n",
        "\n",
        "# visualize the values of the 4th elements after each iterations\n",
        "bar(iterations,L)\n",
        "print(iterations)\n",
        "print(L)"
      ]
    },
    {
      "cell_type": "markdown",
      "metadata": {
        "id": "Nd8j8B0PM2mI"
      },
      "source": [
        "To check out our solution, run the next cell:"
      ]
    },
    {
      "cell_type": "code",
      "execution_count": null,
      "metadata": {
        "id": "Nu-g_x6bM2mI",
        "colab": {
          "base_uri": "https://localhost:8080/",
          "height": 17
        },
        "outputId": "94402a6f-b6c7-4bfe-9d91-219b0aa18c03"
      },
      "outputs": [
        {
          "output_type": "display_data",
          "data": {
            "text/plain": [
              "<IPython.core.display.Javascript object>"
            ],
            "application/javascript": [
              "window.open(\"https://colab.research.google.com/drive/1R_mQoAKNQRrWdGRG2g9_JbW100E-rDHL#scrollTo=WuoVoB77JfMe\");"
            ]
          },
          "metadata": {}
        }
      ],
      "source": [
        "SolutionToTask2()  # show solution for task 2"
      ]
    },
    {
      "cell_type": "markdown",
      "metadata": {
        "id": "pcsSvhg5M2mI"
      },
      "source": [
        "<h3>Task 3</h3>\n",
        "\n",
        "Repeat Task 2 where $ N = 16 $ and the 11th element is marked."
      ]
    },
    {
      "cell_type": "code",
      "execution_count": 75,
      "metadata": {
        "id": "m_L47H7nM2mI",
        "colab": {
          "base_uri": "https://localhost:8080/",
          "height": 485
        },
        "outputId": "d00cf2fc-31cf-4eed-8c08-c1e055acbfa3"
      },
      "outputs": [
        {
          "output_type": "stream",
          "name": "stdout",
          "text": [
            "[0, 1, 2, 3, 4, 5, 6, 7, 8, 9, 10, 11, 12, 13, 14, 15, 16, 17, 18, 19, 20]\n",
            "[1, 2.75, 3.8125, 3.921875, 3.05078125, 1.4169921875, -0.571044921875, -2.41632080078125, -3.6575164794921875, -3.984333038330078, -3.315066337585449, -1.817033052444458, 0.1352584958076477, 2.0537354201078415, 3.458778489381075, 3.9991269363090396, 3.5396936491597444, 2.195336949720513, 0.3021460128511535, -1.6665814272309944, -3.218663510505394]\n"
          ]
        },
        {
          "output_type": "display_data",
          "data": {
            "text/plain": [
              "<Figure size 640x480 with 1 Axes>"
            ],
            "image/png": "[encoded data removed]"
          },
          "metadata": {}
        }
      ],
      "source": [
        "def query(elements=[1],marked_elements=[0]):\n",
        "    for i in marked_elements:\n",
        "        elements[i] = -1 * elements[i]\n",
        "    return elements\n",
        "\n",
        "def inversion (elements=[1]):\n",
        "    sum = 0\n",
        "    for i in range(len(elements)):\n",
        "        sum = sum + elements[i]\n",
        "    mean = sum/len(elements)\n",
        "\n",
        "    for i in range(len(elements)):\n",
        "        elements[i] = -1*elements[i] + 2*mean\n",
        "    return elements\n",
        "\n",
        "from matplotlib.pyplot import bar\n",
        "\n",
        "# define the list of size 8 on which each element has value of 1\n",
        "elements = []\n",
        "for i in range(16):\n",
        "    elements  = elements + [1]\n",
        "\n",
        "# index of the marked element\n",
        "marked_elements = [10]\n",
        "\n",
        "# define the list of iterations\n",
        "iterations = []\n",
        "# the list storing the values of the 4th element after each step\n",
        "L = []\n",
        "\n",
        "# the first values\n",
        "iterations.append(0)\n",
        "L.append(elements[marked_elements[0]])\n",
        "\n",
        "for step in range(20):\n",
        "    # store the iteration\n",
        "    iterations.append(step+1)\n",
        "    elements = query(elements,marked_elements)\n",
        "    elements = inversion(elements)\n",
        "    L.append(elements[marked_elements[0]])\n",
        "\n",
        "# visualize the values of the 4th elements after each iterations\n",
        "bar(iterations,L)\n",
        "print(iterations)\n",
        "print(L)\n"
      ]
    },
    {
      "cell_type": "markdown",
      "metadata": {
        "id": "lDMjCwatM2mI"
      },
      "source": [
        "To check out our solution, run the next cell:"
      ]
    },
    {
      "cell_type": "code",
      "execution_count": null,
      "metadata": {
        "id": "0KZO09EvM2mI",
        "colab": {
          "base_uri": "https://localhost:8080/",
          "height": 17
        },
        "outputId": "0cc8e351-f8de-46a8-8049-782ff269dd71"
      },
      "outputs": [
        {
          "output_type": "display_data",
          "data": {
            "text/plain": [
              "<IPython.core.display.Javascript object>"
            ],
            "application/javascript": [
              "window.open(\"https://colab.research.google.com/drive/1R_mQoAKNQRrWdGRG2g9_JbW100E-rDHL#scrollTo=tFMlvDn7JfMf\");"
            ]
          },
          "metadata": {}
        }
      ],
      "source": [
        "SolutionToTask3()  # show solution for task 3"
      ]
    },
    {
      "cell_type": "markdown",
      "metadata": {
        "id": "z7bDQCVKM2mI"
      },
      "source": [
        "<h3>Task 4</h3>\n",
        "\n",
        "Repeat Task 3 by tracing only the 5th element where $ N = 16 $ and the 5th, 8th, and 10th elements are marked."
      ]
    },
    {
      "cell_type": "code",
      "execution_count": 76,
      "metadata": {
        "id": "-Ldrs7yLM2mI",
        "colab": {
          "base_uri": "https://localhost:8080/",
          "height": 485
        },
        "outputId": "cc7fce7c-700c-4340-bcc4-bbb3babbfd48"
      },
      "outputs": [
        {
          "output_type": "stream",
          "name": "stdout",
          "text": [
            "[0, 1, 2, 3, 4, 5, 6, 7, 8, 9, 10, 11, 12, 13, 14, 15, 16, 17, 18, 19, 20]\n",
            "[1, 2.25, 1.8125, 0.015625, -1.79296875, -2.2568359375, -1.028076171875, 0.97174072265625, 2.2427520751953125, 1.8316993713378906, 0.04687213897705078, -1.7731091976165771, -2.263258635997772, -1.0559640973806381, 0.9433035142719746, 2.2350934902206063, 1.8505633485037833, 0.07811069540912285, -1.7529249792423798, -2.2692669194620976, -1.0836586700852422]\n"
          ]
        },
        {
          "output_type": "display_data",
          "data": {
            "text/plain": [
              "<Figure size 640x480 with 1 Axes>"
            ],
            "image/png": "[encoded data removed]"
          },
          "metadata": {}
        }
      ],
      "source": [
        "def query(elements=[1],marked_elements=[0]):\n",
        "    for i in marked_elements:\n",
        "        elements[i] = -1 * elements[i]\n",
        "    return elements\n",
        "\n",
        "def inversion (elements=[1]):\n",
        "    sum = 0\n",
        "    for i in range(len(elements)):\n",
        "        sum = sum + elements[i]\n",
        "    mean = sum/len(elements)\n",
        "\n",
        "    for i in range(len(elements)):\n",
        "        elements[i] = -1*elements[i] + 2*mean\n",
        "    return elements\n",
        "\n",
        "from matplotlib.pyplot import bar\n",
        "\n",
        "# define the list of size 8 on which each element has value of 1\n",
        "elements = []\n",
        "for i in range(16):\n",
        "    elements  = elements + [1]\n",
        "\n",
        "# index of the marked element\n",
        "marked_elements = [4,7,9]\n",
        "\n",
        "# define the list of iterations\n",
        "iterations = []\n",
        "# the list storing the values of the 4th element after each step\n",
        "L = []\n",
        "\n",
        "# the first values\n",
        "iterations.append(0)\n",
        "L.append(elements[marked_elements[0]])\n",
        "\n",
        "for step in range(20):\n",
        "    # store the iteration\n",
        "    iterations.append(step+1)\n",
        "    elements = query(elements,marked_elements)\n",
        "    elements = inversion(elements)\n",
        "    L.append(elements[marked_elements[0]])\n",
        "\n",
        "# visualize the values of the 4th elements after each iterations\n",
        "bar(iterations,L)\n",
        "print(iterations)\n",
        "print(L)\n"
      ]
    },
    {
      "cell_type": "markdown",
      "metadata": {
        "id": "LZ9rTPcAM2mI"
      },
      "source": [
        "To check out our solution, run the next cell:"
      ]
    },
    {
      "cell_type": "code",
      "execution_count": null,
      "metadata": {
        "id": "zBLEbZPSM2mI",
        "colab": {
          "base_uri": "https://localhost:8080/",
          "height": 17
        },
        "outputId": "9a40dcc9-26ca-4fad-cf86-0ac779fb0594"
      },
      "outputs": [
        {
          "output_type": "display_data",
          "data": {
            "text/plain": [
              "<IPython.core.display.Javascript object>"
            ],
            "application/javascript": [
              "window.open(\"https://colab.research.google.com/drive/1R_mQoAKNQRrWdGRG2g9_JbW100E-rDHL#scrollTo=ChP59snuJfMf\");"
            ]
          },
          "metadata": {}
        }
      ],
      "source": [
        "SolutionToTask4()  # show solution for task 4"
      ]
    },
    {
      "cell_type": "markdown",
      "metadata": {
        "id": "OaIMg-e8M2mI"
      },
      "source": [
        "<h3>Task 5</h3>\n",
        "\n",
        "We iterate the same game 20 steps where $ N = 16 $ and the marked elements are the first four elements.\n",
        "\n",
        "Print the length of the list of elements (_i.e., consider it as a vector_) after each query and inversion phases.\n",
        "\n",
        "*Remark that the initial length is $ \\sqrt{ \\sum_{i=1}^{N} 1^2 } = \\sqrt{N} = \\sqrt{16}  =4 $.*"
      ]
    },
    {
      "cell_type": "code",
      "execution_count": 77,
      "metadata": {
        "id": "D6Cn4VCgM2mI",
        "colab": {
          "base_uri": "https://localhost:8080/",
          "height": 465
        },
        "outputId": "c2960c91-4945-45ef-ff67-e39a4f6c52b8"
      },
      "outputs": [
        {
          "output_type": "stream",
          "name": "stdout",
          "text": [
            "[0, 1, 2, 3, 4, 5, 6, 7, 8, 9, 10, 11, 12, 13, 14, 15, 16, 17, 18, 19, 20]\n",
            "[1, 2.0, 1.0, -1.0, -2.0, -1.0, 1.0, 2.0, 1.0, -1.0, -2.0, -1.0, 1.0, 2.0, 1.0, -1.0, -2.0, -1.0, 1.0, 2.0, 1.0]\n"
          ]
        },
        {
          "output_type": "display_data",
          "data": {
            "text/plain": [
              "<Figure size 640x480 with 1 Axes>"
            ],
            "image/png": "[encoded data removed]"
          },
          "metadata": {}
        }
      ],
      "source": [
        "def query(elements=[1],marked_elements=[0]):\n",
        "    for i in marked_elements:\n",
        "        elements[i] = -1 * elements[i]\n",
        "    return elements\n",
        "\n",
        "def inversion (elements=[1]):\n",
        "    sum = 0\n",
        "    for i in range(len(elements)):\n",
        "        sum = sum + elements[i]\n",
        "    mean = sum/len(elements)\n",
        "\n",
        "    for i in range(len(elements)):\n",
        "        elements[i] = -1*elements[i] + 2*mean\n",
        "    return elements\n",
        "\n",
        "from matplotlib.pyplot import bar\n",
        "\n",
        "# define the list of size 8 on which each element has value of 1\n",
        "elements = []\n",
        "for i in range(16):\n",
        "    elements  = elements + [1]\n",
        "\n",
        "# index of the marked element\n",
        "marked_elements = [0,1,2,3]\n",
        "\n",
        "# define the list of iterations\n",
        "iterations = []\n",
        "# the list storing the values of the 4th element after each step\n",
        "L = []\n",
        "\n",
        "# the first values\n",
        "iterations.append(0)\n",
        "L.append(elements[marked_elements[0]])\n",
        "\n",
        "for step in range(20):\n",
        "    # store the iteration\n",
        "    iterations.append(step+1)\n",
        "    elements = query(elements,marked_elements)\n",
        "    elements = inversion(elements)\n",
        "    L.append(elements[marked_elements[0]])\n",
        "\n",
        "# visualize the values of the 4th elements after each iterations\n",
        "bar(iterations,L)\n",
        "print(iterations)\n",
        "print(L)\n"
      ]
    },
    {
      "cell_type": "markdown",
      "metadata": {
        "id": "99i8JiWjM2mI"
      },
      "source": [
        "To check out our solution, run the next cell:"
      ]
    },
    {
      "cell_type": "code",
      "execution_count": null,
      "metadata": {
        "id": "3a8UH4Z-M2mP",
        "colab": {
          "base_uri": "https://localhost:8080/",
          "height": 17
        },
        "outputId": "709032de-f500-45fc-b0e0-7a91e2eef813"
      },
      "outputs": [
        {
          "output_type": "display_data",
          "data": {
            "text/plain": [
              "<IPython.core.display.Javascript object>"
            ],
            "application/javascript": [
              "window.open(\"https://colab.research.google.com/drive/1R_mQoAKNQRrWdGRG2g9_JbW100E-rDHL#scrollTo=Y0dYmhDFJfMf\");"
            ]
          },
          "metadata": {}
        }
      ],
      "source": [
        "SolutionToTask5()  # show solution for task 5"
      ]
    },
    {
      "cell_type": "markdown",
      "metadata": {
        "id": "mtDQxPxJM2mP"
      },
      "source": [
        "<h3>Task 6 </h3>\n",
        "\n",
        "Repeat Task 5 where $ N = 10 $ and the last element is marked.\n",
        "\n",
        "*Remark that the initial length is $ \\sqrt{10} $.*"
      ]
    },
    {
      "cell_type": "code",
      "execution_count": 81,
      "metadata": {
        "id": "2LzlKA3WM2mP",
        "colab": {
          "base_uri": "https://localhost:8080/",
          "height": 1000
        },
        "outputId": "a7c819da-3499-413e-94d2-90b2109f14ad"
      },
      "outputs": [
        {
          "output_type": "stream",
          "name": "stdout",
          "text": [
            "step 0 the length after query is  4\n",
            "step 0 the length after inversion is  4\n",
            "step 1 the length after query is  4\n",
            "step 1 the length after inversion is  4\n",
            "step 2 the length after query is  4\n",
            "step 2 the length after inversion is  4\n",
            "step 3 the length after query is  4\n",
            "step 3 the length after inversion is  4\n",
            "step 4 the length after query is  4\n",
            "step 4 the length after inversion is  4\n",
            "step 5 the length after query is  4\n",
            "step 5 the length after inversion is  4\n",
            "step 6 the length after query is  4\n",
            "step 6 the length after inversion is  4\n",
            "step 7 the length after query is  4\n",
            "step 7 the length after inversion is  4\n",
            "step 8 the length after query is  4\n",
            "step 8 the length after inversion is  4\n",
            "step 9 the length after query is  4\n",
            "step 9 the length after inversion is  4\n",
            "step 10 the length after query is  4\n",
            "step 10 the length after inversion is  4\n",
            "step 11 the length after query is  4\n",
            "step 11 the length after inversion is  4\n",
            "step 12 the length after query is  4\n",
            "step 12 the length after inversion is  4\n",
            "step 13 the length after query is  4\n",
            "step 13 the length after inversion is  4\n",
            "step 14 the length after query is  4\n",
            "step 14 the length after inversion is  4\n",
            "step 15 the length after query is  4\n",
            "step 15 the length after inversion is  4\n",
            "step 16 the length after query is  4\n",
            "step 16 the length after inversion is  4\n",
            "step 17 the length after query is  4\n",
            "step 17 the length after inversion is  4\n",
            "step 18 the length after query is  4\n",
            "step 18 the length after inversion is  4\n",
            "step 19 the length after query is  4\n",
            "step 19 the length after inversion is  4\n"
          ]
        },
        {
          "output_type": "execute_result",
          "data": {
            "text/plain": [
              "<BarContainer object of 21 artists>"
            ]
          },
          "metadata": {},
          "execution_count": 81
        },
        {
          "output_type": "display_data",
          "data": {
            "text/plain": [
              "<Figure size 640x480 with 1 Axes>"
            ],
            "image/png": "[encoded data removed]"
          },
          "metadata": {}
        }
      ],
      "source": [
        "def query(elements=[1],marked_elements=[0]):\n",
        "    for i in marked_elements:\n",
        "        elements[i] = -1 * elements[i]\n",
        "    return elements\n",
        "\n",
        "def inversion (elements=[1]):\n",
        "    sum = 0\n",
        "    for i in range(len(elements)):\n",
        "        sum = sum + elements[i]\n",
        "    mean = sum/len(elements)\n",
        "\n",
        "    for i in range(len(elements)):\n",
        "        elements[i] = -1*elements[i] + 2*mean\n",
        "    return elements\n",
        "\n",
        "from matplotlib.pyplot import bar\n",
        "\n",
        "# define the list of size 8 on which each element has value of 1\n",
        "elements = []\n",
        "for i in range(16):\n",
        "    elements  = elements + [1]\n",
        "\n",
        "# index of the marked element\n",
        "marked_elements = [0,1,2,3]\n",
        "\n",
        "# define the list of iterations\n",
        "iterations = []\n",
        "# the list storing the values of the 4th element after each step\n",
        "L = []\n",
        "\n",
        "# the first values\n",
        "iterations.append(0)\n",
        "L.append(elements[marked_elements[0]])\n",
        "\n",
        "for step in range(20):\n",
        "    # store the iteration\n",
        "    iterations.append(step+1)\n",
        "    elements = query(elements,marked_elements)\n",
        "    print(\"step\",step,\"the length after query is \",len(marked_elements))\n",
        "    elements = inversion(elements)\n",
        "    print(\"step\",step,\"the length after inversion is \",len(marked_elements))\n",
        "    L.append(elements[marked_elements[0]])\n",
        "\n",
        "# visualize the values of the 4th elements after each iterations\n",
        "bar(iterations,L)"
      ]
    },
    {
      "cell_type": "markdown",
      "metadata": {
        "id": "k_fgdoMvM2mP"
      },
      "source": [
        "To check out our solution, run the next cell:"
      ]
    },
    {
      "cell_type": "code",
      "execution_count": null,
      "metadata": {
        "id": "vo6MU7S_M2mP",
        "colab": {
          "base_uri": "https://localhost:8080/",
          "height": 17
        },
        "outputId": "4bf2acd4-25ef-4535-d707-1bbd54a75844"
      },
      "outputs": [
        {
          "output_type": "display_data",
          "data": {
            "text/plain": [
              "<IPython.core.display.Javascript object>"
            ],
            "application/javascript": [
              "window.open(\"https://colab.research.google.com/drive/1R_mQoAKNQRrWdGRG2g9_JbW100E-rDHL#scrollTo=jVx-krftJfMg\");"
            ]
          },
          "metadata": {}
        }
      ],
      "source": [
        "SolutionToTask6()  # show solution for task 6"
      ]
    },
    {
      "cell_type": "markdown",
      "metadata": {
        "id": "pXP5oSSsM2mP"
      },
      "source": [
        "<h3> Task 7</h3>\n",
        "\n",
        "What are the initial values for the modified game if $ N=8 $?"
      ]
    },
    {
      "cell_type": "markdown",
      "metadata": {
        "id": "ZVsOckqaM2mP"
      },
      "source": [
        "To check out our solution, run the next cell:"
      ]
    },
    {
      "cell_type": "code",
      "execution_count": null,
      "metadata": {
        "id": "SaByLACPM2mP",
        "colab": {
          "base_uri": "https://localhost:8080/",
          "height": 17
        },
        "outputId": "c54f3878-0751-43cf-d76d-601e68d68045"
      },
      "outputs": [
        {
          "output_type": "display_data",
          "data": {
            "text/plain": [
              "<IPython.core.display.Javascript object>"
            ],
            "application/javascript": [
              "window.open(\"https://colab.research.google.com/drive/1R_mQoAKNQRrWdGRG2g9_JbW100E-rDHL#scrollTo=GbVqaIqhJfMg\");"
            ]
          },
          "metadata": {}
        }
      ],
      "source": [
        "SolutionToTask7()  # show solution for task 7"
      ]
    },
    {
      "cell_type": "markdown",
      "metadata": {
        "id": "JS7PNfZ8M2mP"
      },
      "source": [
        "<h3> Task 8</h3>\n",
        "\n",
        "Iterate the modified game for 20 steps where $ N = 8 $ and the second element is marked.\n",
        "\n",
        "Print the list of elements after each phase.\n",
        "\n",
        "Check whether the length of list is 1 after each iteration."
      ]
    },
    {
      "cell_type": "code",
      "execution_count": 83,
      "metadata": {
        "id": "RQJStRFDM2mP",
        "colab": {
          "base_uri": "https://localhost:8080/",
          "height": 447
        },
        "outputId": "205f1885-662b-4a11-ad84-07347254ca93"
      },
      "outputs": [
        {
          "output_type": "execute_result",
          "data": {
            "text/plain": [
              "<BarContainer object of 21 artists>"
            ]
          },
          "metadata": {},
          "execution_count": 83
        },
        {
          "output_type": "display_data",
          "data": {
            "text/plain": [
              "<Figure size 640x480 with 1 Axes>"
            ],
            "image/png": "[encoded data removed]"
          },
          "metadata": {}
        }
      ],
      "source": [
        "def query(elements=[1],marked_elements=[0]):\n",
        "    for i in marked_elements:\n",
        "        elements[i] = -1 * elements[i]\n",
        "    return elements\n",
        "\n",
        "def inversion (elements=[1]):\n",
        "    sum = 0\n",
        "    for i in range(len(elements)):\n",
        "        sum = sum + elements[i]\n",
        "    mean = sum/len(elements)\n",
        "\n",
        "    for i in range(len(elements)):\n",
        "        elements[i] = -1*elements[i] + 2*mean\n",
        "    return elements\n",
        "\n",
        "from matplotlib.pyplot import bar\n",
        "\n",
        "elements = []\n",
        "for i in range(16):\n",
        "    elements  = elements + [1]\n",
        "\n",
        "# index of the marked element\n",
        "marked_elements = [1]\n",
        "\n",
        "# define the list of iterations\n",
        "iterations = []\n",
        "# the list storing the values of the 4th element after each step\n",
        "L = []\n",
        "\n",
        "# the first values\n",
        "iterations.append(0)\n",
        "L.append(elements[marked_elements[0]])\n",
        "\n",
        "for step in range(20):\n",
        "    # store the iteration\n",
        "    iterations.append(step+1)\n",
        "    elements = query(elements,marked_elements)\n",
        "    elements = inversion(elements)\n",
        "    L.append(elements[marked_elements[0]])\n",
        "\n",
        "# visualize the values of the 4th elements after each iterations\n",
        "bar(iterations,L)\n"
      ]
    },
    {
      "cell_type": "markdown",
      "metadata": {
        "id": "KIGQ6ADCM2mP"
      },
      "source": [
        "To check out our solution, run the next cell:"
      ]
    },
    {
      "cell_type": "code",
      "execution_count": null,
      "metadata": {
        "id": "KvY_UMwhM2mP",
        "colab": {
          "base_uri": "https://localhost:8080/",
          "height": 17
        },
        "outputId": "32ae5e52-7598-4d39-b6cf-d9ab1164a672"
      },
      "outputs": [
        {
          "output_type": "display_data",
          "data": {
            "text/plain": [
              "<IPython.core.display.Javascript object>"
            ],
            "application/javascript": [
              "window.open(\"https://colab.research.google.com/drive/1R_mQoAKNQRrWdGRG2g9_JbW100E-rDHL#scrollTo=66T52N7sJfMg\");"
            ]
          },
          "metadata": {}
        }
      ],
      "source": [
        "SolutionToTask8()  # show solution for task 8"
      ]
    },
    {
      "cell_type": "markdown",
      "metadata": {
        "id": "U-eO1HWLM2mP"
      },
      "source": [
        "<h3> Task 9</h3>\n",
        "\n",
        "Repeat Task 8 for $ N = 16 $ where the first 12 elements are marked."
      ]
    },
    {
      "cell_type": "code",
      "execution_count": 84,
      "metadata": {
        "id": "ClGRVGDIM2mP",
        "colab": {
          "base_uri": "https://localhost:8080/",
          "height": 447
        },
        "outputId": "c9724bd2-f7b3-4ead-b1d2-f0373da900c4"
      },
      "outputs": [
        {
          "output_type": "execute_result",
          "data": {
            "text/plain": [
              "<BarContainer object of 21 artists>"
            ]
          },
          "metadata": {},
          "execution_count": 84
        },
        {
          "output_type": "display_data",
          "data": {
            "text/plain": [
              "<Figure size 640x480 with 1 Axes>"
            ],
            "image/png": "[encoded data removed]"
          },
          "metadata": {}
        }
      ],
      "source": [
        "def query(elements=[1],marked_elements=[0]):\n",
        "    for i in marked_elements:\n",
        "        elements[i] = -1 * elements[i]\n",
        "    return elements\n",
        "\n",
        "def inversion (elements=[1]):\n",
        "    sum = 0\n",
        "    for i in range(len(elements)):\n",
        "        sum = sum + elements[i]\n",
        "    mean = sum/len(elements)\n",
        "\n",
        "    for i in range(len(elements)):\n",
        "        elements[i] = -1*elements[i] + 2*mean\n",
        "    return elements\n",
        "\n",
        "from matplotlib.pyplot import bar\n",
        "\n",
        "# define the list of size 8 on which each element has value of 1\n",
        "elements = []\n",
        "for i in range(16):\n",
        "    elements  = elements + [1]\n",
        "\n",
        "# index of the marked element\n",
        "marked_elements = [0,1,2,3,4,5,6,7,8,9,10,11]\n",
        "\n",
        "# define the list of iterations\n",
        "iterations = []\n",
        "# the list storing the values of the 4th element after each step\n",
        "L = []\n",
        "\n",
        "# the first values\n",
        "iterations.append(0)\n",
        "L.append(elements[marked_elements[0]])\n",
        "\n",
        "for step in range(20):\n",
        "    # store the iteration\n",
        "    iterations.append(step+1)\n",
        "    elements = query(elements,marked_elements)\n",
        "    elements = inversion(elements)\n",
        "    L.append(elements[marked_elements[0]])\n",
        "\n",
        "# visualize the values of the 4th elements after each iterations\n",
        "bar(iterations,L)\n"
      ]
    },
    {
      "cell_type": "markdown",
      "metadata": {
        "id": "9dRzHJh_M2mP"
      },
      "source": [
        "To check out our solution, run the next cell:"
      ]
    },
    {
      "cell_type": "code",
      "execution_count": null,
      "metadata": {
        "id": "uEUk6T_PM2mP",
        "colab": {
          "base_uri": "https://localhost:8080/",
          "height": 17
        },
        "outputId": "4a291215-93e5-450d-d977-af2ca6dc2c53"
      },
      "outputs": [
        {
          "output_type": "display_data",
          "data": {
            "text/plain": [
              "<IPython.core.display.Javascript object>"
            ],
            "application/javascript": [
              "window.open(\"https://colab.research.google.com/drive/1R_mQoAKNQRrWdGRG2g9_JbW100E-rDHL#scrollTo=NWfkyeKxJfMh\");"
            ]
          },
          "metadata": {}
        }
      ],
      "source": [
        "SolutionToTask9()  # show solution for task 9"
      ]
    },
    {
      "cell_type": "markdown",
      "metadata": {
        "id": "9H6VeLGoM2mQ"
      },
      "source": [
        "<h3> Task 10</h3>\n",
        "\n",
        "Convince yourself that $ D \\myvector{x_1 \\\\ \\vdots \\\\ x_N} = \\myvector{ 2m-x_1 \\\\ \\vdots \\\\ 2m-x_N } $, where $ m = \\dfrac{ \\sum_{i=1}^N x_i } { N} $."
      ]
    },
    {
      "cell_type": "markdown",
      "metadata": {
        "id": "UtwdqVdTM2mQ"
      },
      "source": [
        "<h3> Task 11</h3>\n",
        "\n",
        "Let $ A =  \\mymatrix{ccc}{\n",
        "    \\frac{1}{N}  & \\cdots & \\frac{1}{N} \\\\\n",
        "    \\vdots & \\ddots & \\vdots \\\\\n",
        "    \\frac{1}{N}  & \\cdots & \\frac{1}{N} \\\\\n",
        "    }  $.\n",
        "Convince yourself that $ A^2 = A $ and $ D^T = D $.\n",
        "\n",
        "Since $ D = 2A - I $, convince yourself that $ D $ is unitary by showing that $ D^T \\cdot D = I $, i.e., $ (2A-I)(2A-I) = I $."
      ]
    }
  ],
  "metadata": {
    "kernelspec": {
      "display_name": "Python 3 (ipykernel)",
      "language": "python",
      "name": "python3"
    },
    "language_info": {
      "codemirror_mode": {
        "name": "ipython",
        "version": 3
      },
      "file_extension": ".py",
      "mimetype": "text/x-python",
      "name": "python",
      "nbconvert_exporter": "python",
      "pygments_lexer": "ipython3",
      "version": "3.11.4"
    },
    "colab": {
      "provenance": [],
      "include_colab_link": true
    }
  },
  "nbformat": 4,
  "nbformat_minor": 0
}