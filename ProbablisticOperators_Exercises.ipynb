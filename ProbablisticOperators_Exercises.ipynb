{
  "nbformat": 4,
  "nbformat_minor": 0,
  "metadata": {
    "colab": {
      "provenance": [],
      "include_colab_link": true
    },
    "kernelspec": {
      "name": "python3",
      "display_name": "Python 3"
    },
    "language_info": {
      "name": "python"
    }
  },
  "cells": [
    {
      "cell_type": "markdown",
      "metadata": {
        "id": "view-in-github",
        "colab_type": "text"
      },
      "source": [
        "<a href=\"https://colab.research.google.com/github/mahenoorf/Qureca-ADEQUATE-module-exercises/blob/main/ProbablisticOperators_Exercises.ipynb\" target=\"_parent\"><img src=\"https://colab.research.google.com/assets/colab-badge.svg\" alt=\"Open In Colab\"/></a>"
      ]
    },
    {
      "cell_type": "markdown",
      "source": [
        "<img src=\"https://gitlab.com/qworld/qeducation/educational-materials/adequate-qbook1/raw/main/qworld/images/adq_1.png\" align=\"left\" width=450></a>\n",
        "$ \\newcommand{\\bra}[1]{\\langle #1|} $\n",
        "$ \\newcommand{\\ket}[1]{|#1\\rangle} $\n",
        "$ \\newcommand{\\braket}[2]{\\langle #1|#2\\rangle} $\n",
        "$ \\newcommand{\\dot}[2]{ #1 \\cdot #2} $\n",
        "$ \\newcommand{\\biginner}[2]{\\left\\langle #1,#2\\right\\rangle} $\n",
        "$ \\newcommand{\\mymatrix}[2]{\\left( \\begin{array}{#1} #2\\end{array} \\right)} $\n",
        "$ \\newcommand{\\myvector}[1]{\\mymatrix{c}{#1}} $\n",
        "$ \\newcommand{\\myrvector}[1]{\\mymatrix{r}{#1}} $\n",
        "$ \\newcommand{\\mypar}[1]{\\left( #1 \\right)} $\n",
        "$ \\newcommand{\\mybigpar}[1]{ \\Big( #1 \\Big)} $\n",
        "$ \\newcommand{\\sqrttwo}{\\frac{1}{\\sqrt{2}}} $\n",
        "$ \\newcommand{\\dsqrttwo}{\\dfrac{1}{\\sqrt{2}}} $\n",
        "$ \\newcommand{\\onehalf}{\\frac{1}{2}} $\n",
        "$ \\newcommand{\\donehalf}{\\dfrac{1}{2}} $\n",
        "$ \\newcommand{\\hadamard}{ \\mymatrix{rr}{ \\sqrttwo & \\sqrttwo \\\\ \\sqrttwo & -\\sqrttwo }} $\n",
        "$ \\newcommand{\\vzero}{\\myvector{1\\\\0}} $\n",
        "$ \\newcommand{\\vone}{\\myvector{0\\\\1}} $\n",
        "$ \\newcommand{\\stateplus}{\\myvector{ \\sqrttwo \\\\  \\sqrttwo } } $\n",
        "$ \\newcommand{\\stateminus}{ \\myrvector{ \\sqrttwo \\\\ -\\sqrttwo } } $\n",
        "$ \\newcommand{\\myarray}[2]{ \\begin{array}{#1}#2\\end{array}} $\n",
        "$ \\newcommand{\\X}{ \\mymatrix{cc}{0 & 1 \\\\ 1 & 0}  } $\n",
        "$ \\newcommand{\\I}{ \\mymatrix{rr}{1 & 0 \\\\ 0 & 1}  } $\n",
        "$ \\newcommand{\\Z}{ \\mymatrix{rr}{1 & 0 \\\\ 0 & -1}  } $\n",
        "$ \\newcommand{\\Htwo}{ \\mymatrix{rrrr}{ \\frac{1}{2} & \\frac{1}{2} & \\frac{1}{2} & \\frac{1}{2} \\\\ \\frac{1}{2} & -\\frac{1}{2} & \\frac{1}{2} & -\\frac{1}{2} \\\\ \\frac{1}{2} & \\frac{1}{2} & -\\frac{1}{2} & -\\frac{1}{2} \\\\ \\frac{1}{2} & -\\frac{1}{2} & -\\frac{1}{2} & \\frac{1}{2} } } $\n",
        "$ \\newcommand{\\CNOT}{ \\mymatrix{cccc}{1 & 0 & 0 & 0 \\\\ 0 & 1 & 0 & 0 \\\\ 0 & 0 & 0 & 1 \\\\ 0 & 0 & 1 & 0} } $\n",
        "$ \\newcommand{\\norm}[1]{ \\left\\lVert #1 \\right\\rVert } $\n",
        "$ \\newcommand{\\pstate}[1]{ \\lceil \\mspace{-1mu} #1 \\mspace{-1.5mu} \\rfloor } $\n",
        "$ \\newcommand{\\greenbit}[1] {\\mathbf{{\\color{green}#1}}} $\n",
        "$ \\newcommand{\\bluebit}[1] {\\mathbf{{\\color{blue}#1}}} $\n",
        "$ \\newcommand{\\redbit}[1] {\\mathbf{{\\color{red}#1}}} $\n",
        "$ \\newcommand{\\brownbit}[1] {\\mathbf{{\\color{brown}#1}}} $\n",
        "$ \\newcommand{\\blackbit}[1] {\\mathbf{{\\color{black}#1}}} $"
      ],
      "metadata": {
        "id": "IlOznUUhj5Mq"
      }
    },
    {
      "cell_type": "markdown",
      "source": [
        "_prepared by Abuzer Yakaryilmaz_"
      ],
      "metadata": {
        "id": "NT8PdNtHkJRp"
      }
    },
    {
      "cell_type": "markdown",
      "source": [
        "<font size=\"28px\" style=\"font-size:28px;\" align=\"left\"><b> <font color=\"blue\"> Exercises for </font>Probabilistic Operators </b></font>"
      ],
      "metadata": {
        "id": "t1q5uelEkPsh"
      }
    },
    {
      "cell_type": "markdown",
      "source": [
        "##### <font color=\"#08b806\">Please execute the following cell, it is necessary to distinguish between your local environment and Google Colab's"
      ],
      "metadata": {
        "id": "qihuQn35aNpd"
      }
    },
    {
      "cell_type": "code",
      "source": [
        "import IPython\n",
        "\n",
        "def in_colab():\n",
        "    try:\n",
        "        import google.colab\n",
        "        return True\n",
        "    except:\n",
        "        return False\n",
        "\n",
        "SolutionToTask2 = lambda: IPython.display.display(IPython.display.Javascript('window.open(\"{url}\");'.format(url='https://colab.research.google.com/drive/12MousEBp_2vxS249g6j40Xrju3vdIBbF#scrollTo=d8F2QM47H_tD' if in_colab() else 'Probabilistic_Operators_Exercises_Solutions.ipynb#task2')))\n",
        "SolutionToTask3 = lambda: IPython.display.display(IPython.display.Javascript('window.open(\"{url}\");'.format(url='https://colab.research.google.com/drive/12MousEBp_2vxS249g6j40Xrju3vdIBbF#scrollTo=sJ0Rx2nKH_tD' if in_colab() else 'Probabilistic_Operators_Exercises_Solutions.ipynb#task3')))\n",
        "SolutionToTask4 = lambda: IPython.display.display(IPython.display.Javascript('window.open(\"{url}\");'.format(url='https://colab.research.google.com/drive/12MousEBp_2vxS249g6j40Xrju3vdIBbF#scrollTo=XA1SUq_LH_tE' if in_colab() else 'Probabilistic_Operators_Exercises_Solutions.ipynb#task4')))\n",
        "SolutionToTask5 = lambda: IPython.display.display(IPython.display.Javascript('window.open(\"{url}\");'.format(url='https://colab.research.google.com/drive/12MousEBp_2vxS249g6j40Xrju3vdIBbF#scrollTo=o3Dj7oxLH_tF' if in_colab() else 'Probabilistic_Operators_Exercises_Solutions.ipynb#task5')))"
      ],
      "metadata": {
        "id": "7E25KeV6aQ1L"
      },
      "execution_count": null,
      "outputs": []
    },
    {
      "cell_type": "markdown",
      "metadata": {
        "id": "qyObqe0yIn3Y"
      },
      "source": [
        "#<h3> Task 2 </h3>\n",
        "\n",
        "We are given the following probabilistic operator: $ B =  \\mymatrix{ccc}{ 0.4 & 0.6 & 0 \\\\ 0.2 & 0.1 & 0.7 \\\\ 0.4 & 0.3 & 0.3 } $.\n",
        "\n",
        "What is the transition probability from the second state to the third state?\n",
        "\n",
        "What is the transition probability from the third state to the first state?\n",
        "\n",
        "What is the transition probability from the first state to the second state?"
      ]
    },
    {
      "cell_type": "markdown",
      "metadata": {
        "id": "UcA7lV6WIn3Y"
      },
      "source": [
        "To check out our solution, run the next cell:"
      ]
    },
    {
      "cell_type": "code",
      "execution_count": null,
      "metadata": {
        "id": "5DQC2b-dIn3Y",
        "outputId": "ebe10add-16bf-4ec2-9919-ef20d58189f6",
        "colab": {
          "base_uri": "https://localhost:8080/",
          "height": 17
        }
      },
      "outputs": [
        {
          "output_type": "display_data",
          "data": {
            "text/plain": [
              "<IPython.core.display.Javascript object>"
            ],
            "application/javascript": [
              "window.open(\"https://colab.research.google.com/drive/12MousEBp_2vxS249g6j40Xrju3vdIBbF#scrollTo=d8F2QM47H_tD\");"
            ]
          },
          "metadata": {}
        }
      ],
      "source": [
        "SolutionToTask2()  # show solution for task 2"
      ]
    },
    {
      "cell_type": "markdown",
      "metadata": {
        "id": "e2w6rNM0In3Z"
      },
      "source": [
        "<h3>Task 3</h3>\n",
        "\n",
        "Randomly construct a $ (3 \\times 3 ) $-dimensional probabilistic operator.\n",
        "\n",
        "That is, randomly determine the entries of the matrix that represents a probabilistic operator."
      ]
    },
    {
      "cell_type": "code",
      "execution_count": null,
      "metadata": {
        "id": "coxNvF82In3Z",
        "colab": {
          "base_uri": "https://localhost:8080/"
        },
        "outputId": "f57596e4-46f3-4b8e-8979-cb82f6e34c8a"
      },
      "outputs": [
        {
          "output_type": "stream",
          "name": "stdout",
          "text": [
            "Random 3x3 Probabilistic Operator (Stochastic Matrix):\n",
            "[[0.21724488 0.66934154 0.11341358]\n",
            " [0.45778251 0.40834461 0.13387288]\n",
            " [0.3090957  0.37866024 0.31224406]]\n",
            "Row sums: [1. 1. 1.]\n"
          ]
        }
      ],
      "source": [
        "import numpy as np\n",
        "random_matrix = np.random.rand(3, 3)\n",
        "\n",
        "\n",
        "prob_operator = random_matrix / random_matrix.sum(axis=1, keepdims=True)\n",
        "\n",
        "\n",
        "print(\"Random 3x3 Probabilistic Operator (Stochastic Matrix):\")\n",
        "print(prob_operator)\n",
        "\n",
        "print(\"Row sums:\", prob_operator.sum(axis=1))\n"
      ]
    },
    {
      "cell_type": "markdown",
      "metadata": {
        "id": "hsya0BaxIn3Z"
      },
      "source": [
        "To check out our solution, run the next cell:"
      ]
    },
    {
      "cell_type": "code",
      "execution_count": null,
      "metadata": {
        "id": "HppA_CoRIn3Z"
      },
      "outputs": [],
      "source": [
        "SolutionToTask3()  # show solution for task 3"
      ]
    },
    {
      "cell_type": "markdown",
      "metadata": {
        "id": "7vmJHxBLIn3Z"
      },
      "source": [
        "<h3> Task 4 </h3>\n",
        "\n",
        "What is the new probabilistic state if the operator $ B =  \\mymatrix{ccc}{ 0.4 & 0.6 & 0 \\\\ 0.2 & 0.1 & 0.7 \\\\ 0.4 & 0.3 & 0.3 } $ is applied to the state $ \\myvector{ 0.1 \\\\ 0.3 \\\\ 0.6 } $.\n",
        "\n",
        "Please find the result by using matrix-vector multiplication.\n",
        "\n",
        "Please do not use any python library for matrix-vector multiplication.\n",
        "\n",
        "<i> The new probabilistic state should be $ \\myvector{0.22 \\\\ 0.47 \\\\ 0.31} $. </i>"
      ]
    },
    {
      "cell_type": "code",
      "execution_count": null,
      "metadata": {
        "id": "VgDTKChbIn3Z",
        "colab": {
          "base_uri": "https://localhost:8080/"
        },
        "outputId": "f55d46c7-8395-4dec-fe7d-cf2e37abbf09"
      },
      "outputs": [
        {
          "output_type": "stream",
          "name": "stdout",
          "text": [
            "The new probabilistic state is:\n",
            "[0.22, 0.47, 0.31]\n"
          ]
        }
      ],
      "source": [
        "# operator B\n",
        "B = [\n",
        "    [0.4,0.6,0],\n",
        "    [0.2,0.1,0.7],\n",
        "    [0.4,0.3,0.3]\n",
        "]\n",
        "\n",
        "# the current state\n",
        "v = [0.1,0.3,0.6]\n",
        "\n",
        "# Calculate the new state using matrix-vector multiplication\n",
        "new_v = [0] * len(v)\n",
        "for i in range(len(B)):\n",
        "    for j in range(len(v)):\n",
        "        new_v[i] += B[i][j] * v[j]\n",
        "\n",
        "print(\"The new probabilistic state is:\")\n",
        "print(new_v)"
      ]
    },
    {
      "cell_type": "markdown",
      "metadata": {
        "id": "C56qfY1-In3Z"
      },
      "source": [
        "To check out our solution, run the next cell:"
      ]
    },
    {
      "cell_type": "code",
      "execution_count": null,
      "metadata": {
        "id": "7BZ7nOnsIn3Z"
      },
      "outputs": [],
      "source": [
        "SolutionToTask4()  # show solution for task 4"
      ]
    },
    {
      "cell_type": "markdown",
      "metadata": {
        "id": "jTviv-CCIn3Z"
      },
      "source": [
        "<h3> Task 5 </h3>\n",
        "\n",
        "Write a function named <i>linear_evolve</i> that takes a probabilistic operator and a probabilistic state, and then returns the new probabilistic state.\n",
        "\n",
        "Please do not use any python library for matrix-vector multiplication.\n",
        "\n",
        "Your function should work for any dimension.\n",
        "\n",
        "Save your function so that you can use it later.\n",
        "<br>\n",
        "<div style=\"background-color:#f8f8f8;\">\n",
        "<b><u>Write the content of a code cell</u></b> into an external file:\n",
        "    \n",
        "    %%writefile linear_evolve.py\n",
        "This command should be placed in the first line of cell, and then the cell should be executed.\n",
        "</div>\n",
        "\n",
        "Test your function on $ B = \\mymatrix{ccc}{ 0.4 & 0.6 & 0 \\\\ 0.2 & 0.1 & 0.7 \\\\ 0.4 & 0.3 & 0.3 } $ and $ \\myvector{0.1 \\\\ 0.3 \\\\ 0.6} $.\n",
        "\n",
        "The new probabilistic state should be $ \\myvector{0.22 \\\\ 0.47 \\\\ 0.31} $.\n",
        "\n",
        "Then, evolve your system for 5, 10, 20, and 40 steps.\n",
        "\n",
        "This system should evolve to a fixed probabilistic state.\n",
        "\n",
        "Change your initial state to  $ \\myvector{1 \\\\ 0 \\\\ 0} $, and see whether the converged state is the same or not."
      ]
    },
    {
      "cell_type": "code",
      "execution_count": null,
      "metadata": {
        "id": "sIrZqI0EIn3Z"
      },
      "outputs": [],
      "source": [
        "# %%writefile linear_evolve.py"
      ]
    },
    {
      "cell_type": "code",
      "execution_count": null,
      "metadata": {
        "id": "o3ihva2wIn3Z",
        "colab": {
          "base_uri": "https://localhost:8080/"
        },
        "outputId": "d9924911-ef35-4eb6-fc7e-dd57ab8d9d34"
      },
      "outputs": [
        {
          "output_type": "stream",
          "name": "stdout",
          "text": [
            "probabilistic state is:\n",
            "[0.22, 0.47, 0.31]\n"
          ]
        }
      ],
      "source": [
        "def linear_evolve(B, v):\n",
        "  new_v = [0] * len(v)\n",
        "  for i in range(len(B)):\n",
        "    for j in range(len(v)):\n",
        "        new_v[i] += B[i][j] * v[j]\n",
        "  return new_v\n",
        "B = [\n",
        "    [0.4,0.6,0],\n",
        "    [0.2,0.1,0.7],\n",
        "    [0.4,0.3,0.3]\n",
        "]\n",
        "\n",
        "# state for test\n",
        "v = [0.1,0.3,0.6]\n",
        "\n",
        "state = linear_evolve(B, v)\n",
        "\n",
        "\n",
        "print(\"probabilistic state is:\")\n",
        "print(new_v)"
      ]
    },
    {
      "cell_type": "markdown",
      "metadata": {
        "id": "uzioS4qUIn3Z"
      },
      "source": [
        "To check out our solution, run the next cell:"
      ]
    },
    {
      "cell_type": "code",
      "execution_count": null,
      "metadata": {
        "id": "T4YtffR2In3Z",
        "outputId": "0c16648f-3647-4f51-af17-28ee7431a05a",
        "colab": {
          "base_uri": "https://localhost:8080/",
          "height": 17
        }
      },
      "outputs": [
        {
          "output_type": "display_data",
          "data": {
            "text/plain": [
              "<IPython.core.display.Javascript object>"
            ],
            "application/javascript": [
              "window.open(\"https://colab.research.google.com/drive/12MousEBp_2vxS249g6j40Xrju3vdIBbF#scrollTo=o3Dj7oxLH_tF\");"
            ]
          },
          "metadata": {}
        }
      ],
      "source": [
        "SolutionToTask5()  # show solution for task 5"
      ]
    },
    {
      "cell_type": "markdown",
      "metadata": {
        "id": "-0qdewp9In3Z"
      },
      "source": [
        "---\n",
        "\n",
        "<h3> Extra: Task 6 </h3>\n",
        "\n",
        "The operator $ \\widetilde{I} = \\mymatrix{cc}{0.999 & 0.001\\\\ 0.001 & 0.999 } $ is very similar to Identity operator. However, it converges to a certain matrix.\n",
        "\n",
        "Find $  \\underbrace{\\widetilde{I} \\cdot \\widetilde{I} \\cdots \\widetilde{I}}_{k\\mbox{ times}} $ for $ k = 10, 100, 1000, 10000, 100000 $ and then guess the converging matrix."
      ]
    },
    {
      "cell_type": "markdown",
      "metadata": {
        "id": "Kuj38CEuIn3Z"
      },
      "source": [
        "<h3> Extra: Task 7 </h3>\n",
        "\n",
        "Repeat Task 6 for the operator $ \\widetilde{NOT} = \\mymatrix{cc}{0.001 & 0.999\\\\ 0.999 & 0.001 } $."
      ]
    }
  ]
}