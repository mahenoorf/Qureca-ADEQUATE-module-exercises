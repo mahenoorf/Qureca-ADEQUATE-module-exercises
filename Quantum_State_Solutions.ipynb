{
  "cells": [
    {
      "cell_type": "markdown",
      "metadata": {
        "id": "view-in-github",
        "colab_type": "text"
      },
      "source": [
        "<a href=\"https://colab.research.google.com/github/mahenoorf/Qureca-ADEQUATE-module-exercises/blob/main/Quantum_State_Solutions.ipynb\" target=\"_parent\"><img src=\"https://colab.research.google.com/assets/colab-badge.svg\" alt=\"Open In Colab\"/></a>"
      ]
    },
    {
      "cell_type": "markdown",
      "source": [
        "<img src=\"https://gitlab.com/qworld/qeducation/educational-materials/adequate-qbook1/raw/main/qworld/images/adq_1.png\" align=\"left\" width=450></a>\n",
        "\n",
        "\n",
        "\n",
        "$ \\newcommand{\\bra}[1]{\\langle #1|} $\n",
        "$ \\newcommand{\\ket}[1]{|#1\\rangle} $\n",
        "$ \\newcommand{\\braket}[2]{\\langle #1|#2\\rangle} $\n",
        "$ \\newcommand{\\dot}[2]{ #1 \\cdot #2} $\n",
        "$ \\newcommand{\\biginner}[2]{\\left\\langle #1,#2\\right\\rangle} $\n",
        "$ \\newcommand{\\mymatrix}[2]{\\left( \\begin{array}{#1} #2\\end{array} \\right)} $\n",
        "$ \\newcommand{\\myvector}[1]{\\mymatrix{c}{#1}} $\n",
        "$ \\newcommand{\\myrvector}[1]{\\mymatrix{r}{#1}} $\n",
        "$ \\newcommand{\\mypar}[1]{\\left( #1 \\right)} $\n",
        "$ \\newcommand{\\mybigpar}[1]{ \\Big( #1 \\Big)} $\n",
        "$ \\newcommand{\\sqrttwo}{\\frac{1}{\\sqrt{2}}} $\n",
        "$ \\newcommand{\\dsqrttwo}{\\dfrac{1}{\\sqrt{2}}} $\n",
        "$ \\newcommand{\\onehalf}{\\frac{1}{2}} $\n",
        "$ \\newcommand{\\donehalf}{\\dfrac{1}{2}} $\n",
        "$ \\newcommand{\\hadamard}{ \\mymatrix{rr}{ \\sqrttwo & \\sqrttwo \\\\ \\sqrttwo & -\\sqrttwo }} $\n",
        "$ \\newcommand{\\vzero}{\\myvector{1\\\\0}} $\n",
        "$ \\newcommand{\\vone}{\\myvector{0\\\\1}} $\n",
        "$ \\newcommand{\\stateplus}{\\myvector{ \\sqrttwo \\\\  \\sqrttwo } } $\n",
        "$ \\newcommand{\\stateminus}{ \\myrvector{ \\sqrttwo \\\\ -\\sqrttwo } } $\n",
        "$ \\newcommand{\\myarray}[2]{ \\begin{array}{#1}#2\\end{array}} $\n",
        "$ \\newcommand{\\X}{ \\mymatrix{cc}{0 & 1 \\\\ 1 & 0}  } $\n",
        "$ \\newcommand{\\I}{ \\mymatrix{rr}{1 & 0 \\\\ 0 & 1}  } $\n",
        "$ \\newcommand{\\Z}{ \\mymatrix{rr}{1 & 0 \\\\ 0 & -1}  } $\n",
        "$ \\newcommand{\\Htwo}{ \\mymatrix{rrrr}{ \\frac{1}{2} & \\frac{1}{2} & \\frac{1}{2} & \\frac{1}{2} \\\\ \\frac{1}{2} & -\\frac{1}{2} & \\frac{1}{2} & -\\frac{1}{2} \\\\ \\frac{1}{2} & \\frac{1}{2} & -\\frac{1}{2} & -\\frac{1}{2} \\\\ \\frac{1}{2} & -\\frac{1}{2} & -\\frac{1}{2} & \\frac{1}{2} } } $\n",
        "$ \\newcommand{\\CNOT}{ \\mymatrix{cccc}{1 & 0 & 0 & 0 \\\\ 0 & 1 & 0 & 0 \\\\ 0 & 0 & 0 & 1 \\\\ 0 & 0 & 1 & 0} } $\n",
        "$ \\newcommand{\\norm}[1]{ \\left\\lVert #1 \\right\\rVert } $\n",
        "$ \\newcommand{\\pstate}[1]{ \\lceil \\mspace{-1mu} #1 \\mspace{-1.5mu} \\rfloor } $\n",
        "$ \\newcommand{\\greenbit}[1] {\\mathbf{{\\color{green}#1}}} $\n",
        "$ \\newcommand{\\bluebit}[1] {\\mathbf{{\\color{blue}#1}}} $\n",
        "$ \\newcommand{\\redbit}[1] {\\mathbf{{\\color{red}#1}}} $\n",
        "$ \\newcommand{\\brownbit}[1] {\\mathbf{{\\color{brown}#1}}} $\n",
        "$ \\newcommand{\\blackbit}[1] {\\mathbf{{\\color{black}#1}}} $"
      ],
      "metadata": {
        "id": "MrNODj5ZELcZ"
      }
    },
    {
      "cell_type": "markdown",
      "metadata": {
        "id": "6E8wns0V6paJ"
      },
      "source": [
        "_prepared by Abuzer Yakaryilmaz_"
      ]
    },
    {
      "cell_type": "markdown",
      "metadata": {
        "id": "IUEbDvn_6paJ"
      },
      "source": [
        "<font size=\"28px\" style=\"font-size:28px;\" align=\"left\"><b> <font color=\"blue\"> Solutions for </font>Quantum State </b></font>\n",
        "<br>\n",
        "<br><br>"
      ]
    },
    {
      "cell_type": "markdown",
      "metadata": {
        "id": "XXuoqfer6paJ"
      },
      "source": [
        "<a name=\"task1\"></a>\n",
        "<h3> Task 1 </h3>\n",
        "\n",
        "Let $a$ and $b$ be real numbers.\n",
        "\n",
        "If the following vectors are valid quantum states, then what can be the values of $a$ and $b$?\n",
        "\n",
        "$$\n",
        "    \\ket{v} = \\myrvector{a \\\\ -0.1 \\\\ -0.3 \\\\ 0.4 \\\\ 0.5}\n",
        "    ~~~~~ \\mbox{and} ~~~~~\n",
        "    \\ket{u} = \\myrvector{ \\frac{1}{\\sqrt{2}} \\\\ \\frac{1}{\\sqrt{b}} \\\\ -\\frac{1}{\\sqrt{3}} }.\n",
        "$$"
      ]
    },
    {
      "cell_type": "markdown",
      "metadata": {
        "id": "k_fyQWmn6paK"
      },
      "source": [
        "<h3> Solution </h3>"
      ]
    },
    {
      "cell_type": "code",
      "execution_count": null,
      "metadata": {
        "id": "mOk56QD36paK",
        "colab": {
          "base_uri": "https://localhost:8080/"
        },
        "outputId": "4c38fab5-4f51-4d6d-a85b-773389f7dc44"
      },
      "outputs": [
        {
          "output_type": "stream",
          "name": "stdout",
          "text": [
            "vector |v>\n",
            "total is  0.51\n",
            "the missing part is 0.49\n",
            "so, the value of 'a' can be 0.7 or -0.7\n",
            "\n",
            "vector |u>\n",
            "total is  0.8333333333333333\n",
            "the missing part is 0.16666666666666674\n",
            "so, the value of 'b' should be 5.999999999999997\n"
          ]
        }
      ],
      "source": [
        "# vector |v>\n",
        "\n",
        "print(\"vector |v>\")\n",
        "\n",
        "values = [-0.1, -0.3, 0.4, 0.5]\n",
        "\n",
        "total = 0 # summation of squares\n",
        "for i in range(len(values)):\n",
        "    total += values[i]**2; # add the square of each value\n",
        "print(\"total is \",total)\n",
        "print(\"the missing part is\",1-total)\n",
        "print(\"so, the value of 'a' can be\",(1-total)**0.5,\"or\",-(1-total)**0.5) # square root of the missing part\n",
        "\n",
        "print()\n",
        "print(\"vector |u>\")\n",
        "\n",
        "values = [1/(2**0.5), -1/(3**0.5)]\n",
        "\n",
        "total = 0 # summation of squares\n",
        "for i in range(len(values)):\n",
        "    total += values[i]**2; # add the square of each value\n",
        "print(\"total is \",total)\n",
        "print(\"the missing part is\",1-total)\n",
        "# the missing part is 1/b, square of 1/sqrt(b)\n",
        "# thus, b is 1/missing_part\n",
        "print(\"so, the value of 'b' should be\",1/(1-total))"
      ]
    },
    {
      "cell_type": "markdown",
      "metadata": {
        "id": "Czw25x7_6paL"
      },
      "source": [
        "<a name=\"task2\"></a>\n",
        "<h3> Task 2</h3>\n",
        "Remember Hadamard operator:\n",
        "\n",
        "$$\n",
        "    H = \\hadamard.\n",
        "$$\n",
        "\n",
        "Randomly create a 2-dimensional quantum state, and test whether Hadamard operator preserves its length or not.\n",
        "\n",
        "<b>Write a function</b> that returns a randomly created 2-dimensional quantum state.\n",
        "\n",
        "<i>Hint:\n",
        "<ul>\n",
        "    <li> Pick two random values between -100 and 100 for the amplitudes of state 0 and state 1 </li>\n",
        "    <li> Find an appropriate normalization factor to divide each amplitude such that the length of quantum state should be 1 </li>\n",
        "</ul>\n",
        "</i>\n",
        "\n",
        "<b>Write a function</b> that determines whether a given vector is a valid quantum state or not.\n",
        "\n",
        "(Due to precision problem, the summation of squares may not be exactly 1 but very close to 1, e.g., 0.9999999999999998.)\n",
        "\n",
        "<b>Repeat 10 times:</b>\n",
        "<ul>\n",
        "    <li> Randomly pick a quantum state </li>\n",
        "    <li> Check whether the picked quantum state is valid </li>\n",
        "    <li> Multiply Hadamard operator with the randomly created quantum state </li>\n",
        "    <li> Check whether the quantum state in result is valid </li>\n",
        "</ul>"
      ]
    },
    {
      "cell_type": "markdown",
      "metadata": {
        "id": "Wq4Hunms6paL"
      },
      "source": [
        "<h3> Solution </h3>"
      ]
    },
    {
      "cell_type": "code",
      "execution_count": null,
      "metadata": {
        "id": "kjqvMw586paM"
      },
      "outputs": [],
      "source": [
        "# randomly creating a 2-dimensional quantum state\n",
        "from random import randrange\n",
        "def random_quantum_state():\n",
        "    first_entry = randrange(-100,101)\n",
        "    second_entry = randrange(-100,101)\n",
        "    length_square = first_entry**2+second_entry**2\n",
        "    while length_square == 0:\n",
        "        first_entry = randrange(-100,101)\n",
        "        second_entry = randrange(-100,101)\n",
        "        length_square = first_entry**2+second_entry**2\n",
        "    first_entry = first_entry / length_square**0.5\n",
        "    second_entry = second_entry / length_square**0.5\n",
        "    return [first_entry,second_entry]"
      ]
    },
    {
      "cell_type": "code",
      "execution_count": null,
      "metadata": {
        "id": "aXrPc3eE6paM"
      },
      "outputs": [],
      "source": [
        "# testing whether a given quantum state is valid\n",
        "def is_quantum_state(quantum_state):\n",
        "    length_square = 0\n",
        "    for i in range(len(quantum_state)):\n",
        "        length_square += quantum_state[i]**2\n",
        "    print(\"summation of entry squares is\",length_square)\n",
        "    # there might be precision problem\n",
        "    # the length may be very close to 1 but not exactly 1\n",
        "    # so we use the following trick\n",
        "    if (length_square - 1)**2 < 0.00000001: return True\n",
        "    return False # else"
      ]
    },
    {
      "cell_type": "code",
      "execution_count": null,
      "metadata": {
        "id": "mXBpUQTx6paM"
      },
      "outputs": [],
      "source": [
        "# defining a function for Hadamard multiplication\n",
        "def hadamard(quantum_state):\n",
        "    result_quantum_state = [0,0] # define with zero entries\n",
        "    result_quantum_state[0] = (1/(2**0.5)) * quantum_state[0] + (1/(2**0.5)) * quantum_state[1]\n",
        "    result_quantum_state[1] = (1/(2**0.5)) * quantum_state[0] - (1/(2**0.5)) * quantum_state[1]\n",
        "    return result_quantum_state"
      ]
    },
    {
      "cell_type": "code",
      "execution_count": null,
      "metadata": {
        "id": "jI_BmzmX6paM",
        "colab": {
          "base_uri": "https://localhost:8080/"
        },
        "outputId": "5698e79f-1161-43e8-c016-5f03dde998b3"
      },
      "outputs": [
        {
          "output_type": "stream",
          "name": "stdout",
          "text": [
            "[-0.3713906763541037, -0.9284766908852593] this is randomly picked quantum state\n",
            "summation of entry squares is 1.0\n",
            "Is it valid? True\n",
            "[-0.9191450300180578, 0.39391929857916763] this is new quantum state\n",
            "summation of entry squares is 0.9999999999999998\n",
            "Is it valid? True\n",
            "\n",
            "[0.388700505404295, 0.921364160958329] this is randomly picked quantum state\n",
            "summation of entry squares is 0.9999999999999999\n",
            "Is it valid? True\n",
            "[0.9263556093779033, -0.3766500829338728] this is new quantum state\n",
            "summation of entry squares is 0.9999999999999998\n",
            "Is it valid? True\n",
            "\n",
            "[0.1643989873053573, 0.9863939238321437] this is randomly picked quantum state\n",
            "summation of entry squares is 1.0\n",
            "Is it valid? True\n",
            "[0.8137334712067349, -0.5812381937190964] this is new quantum state\n",
            "summation of entry squares is 0.9999999999999998\n",
            "Is it valid? True\n",
            "\n",
            "[0.7834976790895338, -0.6213947110020441] this is randomly picked quantum state\n",
            "summation of entry squares is 1.0\n",
            "Is it valid? True\n",
            "[0.11462410798513045, 0.9934089358711311] this is new quantum state\n",
            "summation of entry squares is 0.9999999999999999\n",
            "Is it valid? True\n",
            "\n",
            "[-0.29318995718002555, -0.9560542081957355] this is randomly picked quantum state\n",
            "summation of entry squares is 1.0\n",
            "Is it valid? True\n",
            "[-0.8833490206949294, 0.46871580689935033] this is new quantum state\n",
            "summation of entry squares is 0.9999999999999998\n",
            "Is it valid? True\n",
            "\n",
            "[0.9999274284261899, -0.012047318414773371] this is randomly picked quantum state\n",
            "summation of entry squares is 1.0\n",
            "Is it valid? True\n",
            "[0.6985367247883851, 0.7155742058807848] this is new quantum state\n",
            "summation of entry squares is 0.9999999999999999\n",
            "Is it valid? True\n",
            "\n",
            "[-0.5773306324272376, -0.8165104658613789] this is randomly picked quantum state\n",
            "summation of entry squares is 1.0\n",
            "Is it valid? True\n",
            "[-0.9855944924963858, 0.16912568214435014] this is new quantum state\n",
            "summation of entry squares is 0.9999999999999999\n",
            "Is it valid? True\n",
            "\n",
            "[-0.10748184298009181, 0.9942070475658493] this is randomly picked quantum state\n",
            "summation of entry squares is 1.0\n",
            "Is it valid? True\n",
            "[0.6270094052116177, -0.779011685262919] this is new quantum state\n",
            "summation of entry squares is 0.9999999999999998\n",
            "Is it valid? True\n",
            "\n",
            "[-0.977357880408164, 0.2115929431811489] this is randomly picked quantum state\n",
            "summation of entry squares is 0.9999999999999999\n",
            "Is it valid? True\n",
            "[-0.5414775799081132, -0.8407151898573336] this is new quantum state\n",
            "summation of entry squares is 0.9999999999999996\n",
            "Is it valid? True\n",
            "\n",
            "[-0.9635179096299405, 0.2676438637860946] this is randomly picked quantum state\n",
            "summation of entry squares is 0.9999999999999998\n",
            "Is it valid? True\n",
            "[-0.4920572566679018, -0.8705628387201341] this is new quantum state\n",
            "summation of entry squares is 0.9999999999999996\n",
            "Is it valid? True\n",
            "\n"
          ]
        }
      ],
      "source": [
        "# we are ready\n",
        "for i in range(10):\n",
        "    picked_quantum_state=random_quantum_state()\n",
        "    print(picked_quantum_state,\"this is randomly picked quantum state\")\n",
        "    print(\"Is it valid?\",is_quantum_state(picked_quantum_state))\n",
        "    new_quantum_state = hadamard(picked_quantum_state)\n",
        "    print(new_quantum_state,\"this is new quantum state\")\n",
        "    print(\"Is it valid?\",is_quantum_state(new_quantum_state))\n",
        "    print() # print an empty line"
      ]
    }
  ],
  "metadata": {
    "kernelspec": {
      "display_name": "Python 3 (ipykernel)",
      "language": "python",
      "name": "python3"
    },
    "language_info": {
      "codemirror_mode": {
        "name": "ipython",
        "version": 3
      },
      "file_extension": ".py",
      "mimetype": "text/x-python",
      "name": "python",
      "nbconvert_exporter": "python",
      "pygments_lexer": "ipython3",
      "version": "3.11.4"
    },
    "colab": {
      "provenance": [],
      "include_colab_link": true
    }
  },
  "nbformat": 4,
  "nbformat_minor": 0
}