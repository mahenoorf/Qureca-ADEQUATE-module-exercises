{
  "cells": [
    {
      "cell_type": "markdown",
      "metadata": {
        "id": "view-in-github",
        "colab_type": "text"
      },
      "source": [
        "<a href=\"https://colab.research.google.com/github/mahenoorf/Qureca-ADEQUATE-module-exercises/blob/main/Quantum_Teleportation_Solutions.ipynb\" target=\"_parent\"><img src=\"https://colab.research.google.com/assets/colab-badge.svg\" alt=\"Open In Colab\"/></a>"
      ]
    },
    {
      "cell_type": "markdown",
      "source": [
        "<img src=\"https://gitlab.com/qworld/qeducation/educational-materials/adequate-qbook1/raw/main/qworld/images/adq_1.png\" align=\"left\" width=450></a>\n",
        "\n",
        "\n",
        "\n",
        "$ \\newcommand{\\bra}[1]{\\langle #1|} $\n",
        "$ \\newcommand{\\ket}[1]{|#1\\rangle} $\n",
        "$ \\newcommand{\\braket}[2]{\\langle #1|#2\\rangle} $\n",
        "$ \\newcommand{\\dot}[2]{ #1 \\cdot #2} $\n",
        "$ \\newcommand{\\biginner}[2]{\\left\\langle #1,#2\\right\\rangle} $\n",
        "$ \\newcommand{\\mymatrix}[2]{\\left( \\begin{array}{#1} #2\\end{array} \\right)} $\n",
        "$ \\newcommand{\\myvector}[1]{\\mymatrix{c}{#1}} $\n",
        "$ \\newcommand{\\myrvector}[1]{\\mymatrix{r}{#1}} $\n",
        "$ \\newcommand{\\mypar}[1]{\\left( #1 \\right)} $\n",
        "$ \\newcommand{\\mybigpar}[1]{ \\Big( #1 \\Big)} $\n",
        "$ \\newcommand{\\sqrttwo}{\\frac{1}{\\sqrt{2}}} $\n",
        "$ \\newcommand{\\dsqrttwo}{\\dfrac{1}{\\sqrt{2}}} $\n",
        "$ \\newcommand{\\onehalf}{\\frac{1}{2}} $\n",
        "$ \\newcommand{\\donehalf}{\\dfrac{1}{2}} $\n",
        "$ \\newcommand{\\hadamard}{ \\mymatrix{rr}{ \\sqrttwo & \\sqrttwo \\\\ \\sqrttwo & -\\sqrttwo }} $\n",
        "$ \\newcommand{\\vzero}{\\myvector{1\\\\0}} $\n",
        "$ \\newcommand{\\vone}{\\myvector{0\\\\1}} $\n",
        "$ \\newcommand{\\stateplus}{\\myvector{ \\sqrttwo \\\\  \\sqrttwo } } $\n",
        "$ \\newcommand{\\stateminus}{ \\myrvector{ \\sqrttwo \\\\ -\\sqrttwo } } $\n",
        "$ \\newcommand{\\myarray}[2]{ \\begin{array}{#1}#2\\end{array}} $\n",
        "$ \\newcommand{\\X}{ \\mymatrix{cc}{0 & 1 \\\\ 1 & 0}  } $\n",
        "$ \\newcommand{\\I}{ \\mymatrix{rr}{1 & 0 \\\\ 0 & 1}  } $\n",
        "$ \\newcommand{\\Z}{ \\mymatrix{rr}{1 & 0 \\\\ 0 & -1}  } $\n",
        "$ \\newcommand{\\Htwo}{ \\mymatrix{rrrr}{ \\frac{1}{2} & \\frac{1}{2} & \\frac{1}{2} & \\frac{1}{2} \\\\ \\frac{1}{2} & -\\frac{1}{2} & \\frac{1}{2} & -\\frac{1}{2} \\\\ \\frac{1}{2} & \\frac{1}{2} & -\\frac{1}{2} & -\\frac{1}{2} \\\\ \\frac{1}{2} & -\\frac{1}{2} & -\\frac{1}{2} & \\frac{1}{2} } } $\n",
        "$ \\newcommand{\\CNOT}{ \\mymatrix{cccc}{1 & 0 & 0 & 0 \\\\ 0 & 1 & 0 & 0 \\\\ 0 & 0 & 0 & 1 \\\\ 0 & 0 & 1 & 0} } $\n",
        "$ \\newcommand{\\norm}[1]{ \\left\\lVert #1 \\right\\rVert } $\n",
        "$ \\newcommand{\\pstate}[1]{ \\lceil \\mspace{-1mu} #1 \\mspace{-1.5mu} \\rfloor } $\n",
        "$ \\newcommand{\\greenbit}[1] {\\mathbf{{\\color{green}#1}}} $\n",
        "$ \\newcommand{\\bluebit}[1] {\\mathbf{{\\color{blue}#1}}} $\n",
        "$ \\newcommand{\\redbit}[1] {\\mathbf{{\\color{red}#1}}} $\n",
        "$ \\newcommand{\\brownbit}[1] {\\mathbf{{\\color{brown}#1}}} $\n",
        "$ \\newcommand{\\blackbit}[1] {\\mathbf{{\\color{black}#1}}} $\n",
        "\n"
      ],
      "metadata": {
        "id": "pJLammjijGLn"
      }
    },
    {
      "cell_type": "markdown",
      "metadata": {
        "id": "rv3fqUoyVWCF"
      },
      "source": [
        "_prepared by Abuzer Yakaryilmaz_"
      ]
    },
    {
      "cell_type": "markdown",
      "metadata": {
        "id": "FTIFtSsXVWCG"
      },
      "source": [
        "<font size=\"28px\" style=\"font-size:28px;\" align=\"left\"><b> <font color=\"blue\"> Exercise on </font>Quantum Teleportation </b></font>\n",
        "<br>\n",
        "<br><br>"
      ]
    },
    {
      "cell_type": "markdown",
      "metadata": {
        "jp-MarkdownHeadingCollapsed": true,
        "id": "Set1hh4qVWCG"
      },
      "source": [
        "##### <font color=\"#08b806\">Please execute the following cell, it is necessary to distinguish between your local environment and Google Colab's"
      ]
    },
    {
      "cell_type": "code",
      "execution_count": null,
      "metadata": {
        "id": "L4kTCEuIVWCG",
        "colab": {
          "base_uri": "https://localhost:8080/"
        },
        "outputId": "1a96cc5d-fea2-4310-f3c2-845bd9f32ae4"
      },
      "outputs": [
        {
          "output_type": "stream",
          "name": "stdout",
          "text": [
            "Collecting qiskit[visualization]\n",
            "  Downloading qiskit-2.2.1-cp39-abi3-manylinux2014_x86_64.manylinux_2_17_x86_64.whl.metadata (12 kB)\n",
            "Collecting rustworkx>=0.15.0 (from qiskit[visualization])\n",
            "  Downloading rustworkx-0.17.1-cp39-abi3-manylinux_2_17_x86_64.manylinux2014_x86_64.whl.metadata (10 kB)\n",
            "Requirement already satisfied: numpy<3,>=1.17 in /usr/local/lib/python3.12/dist-packages (from qiskit[visualization]) (2.0.2)\n",
            "Requirement already satisfied: scipy>=1.5 in /usr/local/lib/python3.12/dist-packages (from qiskit[visualization]) (1.16.2)\n",
            "Requirement already satisfied: dill>=0.3 in /usr/local/lib/python3.12/dist-packages (from qiskit[visualization]) (0.3.8)\n",
            "Collecting stevedore>=3.0.0 (from qiskit[visualization])\n",
            "  Downloading stevedore-5.5.0-py3-none-any.whl.metadata (2.2 kB)\n",
            "Requirement already satisfied: typing-extensions in /usr/local/lib/python3.12/dist-packages (from qiskit[visualization]) (4.15.0)\n",
            "Requirement already satisfied: matplotlib>=3.3 in /usr/local/lib/python3.12/dist-packages (from qiskit[visualization]) (3.10.0)\n",
            "Requirement already satisfied: pydot in /usr/local/lib/python3.12/dist-packages (from qiskit[visualization]) (3.0.4)\n",
            "Requirement already satisfied: Pillow>=4.2.1 in /usr/local/lib/python3.12/dist-packages (from qiskit[visualization]) (11.3.0)\n",
            "Collecting pylatexenc>=1.4 (from qiskit[visualization])\n",
            "  Downloading pylatexenc-2.10.tar.gz (162 kB)\n",
            "\u001b[2K     \u001b[90m━━━━━━━━━━━━━━━━━━━━━━━━━━━━━━━━━━━━━━━\u001b[0m \u001b[32m162.6/162.6 kB\u001b[0m \u001b[31m4.3 MB/s\u001b[0m eta \u001b[36m0:00:00\u001b[0m\n",
            "\u001b[?25h  Preparing metadata (setup.py) ... \u001b[?25l\u001b[?25hdone\n",
            "Requirement already satisfied: seaborn>=0.9.0 in /usr/local/lib/python3.12/dist-packages (from qiskit[visualization]) (0.13.2)\n",
            "Requirement already satisfied: sympy>=1.3 in /usr/local/lib/python3.12/dist-packages (from qiskit[visualization]) (1.13.3)\n",
            "Requirement already satisfied: contourpy>=1.0.1 in /usr/local/lib/python3.12/dist-packages (from matplotlib>=3.3->qiskit[visualization]) (1.3.3)\n",
            "Requirement already satisfied: cycler>=0.10 in /usr/local/lib/python3.12/dist-packages (from matplotlib>=3.3->qiskit[visualization]) (0.12.1)\n",
            "Requirement already satisfied: fonttools>=4.22.0 in /usr/local/lib/python3.12/dist-packages (from matplotlib>=3.3->qiskit[visualization]) (4.60.1)\n",
            "Requirement already satisfied: kiwisolver>=1.3.1 in /usr/local/lib/python3.12/dist-packages (from matplotlib>=3.3->qiskit[visualization]) (1.4.9)\n",
            "Requirement already satisfied: packaging>=20.0 in /usr/local/lib/python3.12/dist-packages (from matplotlib>=3.3->qiskit[visualization]) (25.0)\n",
            "Requirement already satisfied: pyparsing>=2.3.1 in /usr/local/lib/python3.12/dist-packages (from matplotlib>=3.3->qiskit[visualization]) (3.2.5)\n",
            "Requirement already satisfied: python-dateutil>=2.7 in /usr/local/lib/python3.12/dist-packages (from matplotlib>=3.3->qiskit[visualization]) (2.9.0.post0)\n",
            "Requirement already satisfied: pandas>=1.2 in /usr/local/lib/python3.12/dist-packages (from seaborn>=0.9.0->qiskit[visualization]) (2.2.2)\n",
            "Requirement already satisfied: mpmath<1.4,>=1.1.0 in /usr/local/lib/python3.12/dist-packages (from sympy>=1.3->qiskit[visualization]) (1.3.0)\n",
            "Requirement already satisfied: pytz>=2020.1 in /usr/local/lib/python3.12/dist-packages (from pandas>=1.2->seaborn>=0.9.0->qiskit[visualization]) (2025.2)\n",
            "Requirement already satisfied: tzdata>=2022.7 in /usr/local/lib/python3.12/dist-packages (from pandas>=1.2->seaborn>=0.9.0->qiskit[visualization]) (2025.2)\n",
            "Requirement already satisfied: six>=1.5 in /usr/local/lib/python3.12/dist-packages (from python-dateutil>=2.7->matplotlib>=3.3->qiskit[visualization]) (1.17.0)\n",
            "Downloading rustworkx-0.17.1-cp39-abi3-manylinux_2_17_x86_64.manylinux2014_x86_64.whl (2.2 MB)\n",
            "\u001b[2K   \u001b[90m━━━━━━━━━━━━━━━━━━━━━━━━━━━━━━━━━━━━━━━━\u001b[0m \u001b[32m2.2/2.2 MB\u001b[0m \u001b[31m52.3 MB/s\u001b[0m eta \u001b[36m0:00:00\u001b[0m\n",
            "\u001b[?25hDownloading stevedore-5.5.0-py3-none-any.whl (49 kB)\n",
            "\u001b[2K   \u001b[90m━━━━━━━━━━━━━━━━━━━━━━━━━━━━━━━━━━━━━━━━\u001b[0m \u001b[32m49.5/49.5 kB\u001b[0m \u001b[31m3.8 MB/s\u001b[0m eta \u001b[36m0:00:00\u001b[0m\n",
            "\u001b[?25hDownloading qiskit-2.2.1-cp39-abi3-manylinux2014_x86_64.manylinux_2_17_x86_64.whl (8.0 MB)\n",
            "\u001b[2K   \u001b[90m━━━━━━━━━━━━━━━━━━━━━━━━━━━━━━━━━━━━━━━━\u001b[0m \u001b[32m8.0/8.0 MB\u001b[0m \u001b[31m112.1 MB/s\u001b[0m eta \u001b[36m0:00:00\u001b[0m\n",
            "\u001b[?25hBuilding wheels for collected packages: pylatexenc\n",
            "  Building wheel for pylatexenc (setup.py) ... \u001b[?25l\u001b[?25hdone\n",
            "  Created wheel for pylatexenc: filename=pylatexenc-2.10-py3-none-any.whl size=136817 sha256=aa62890a7d5b28f62720990cb28dbbb153436ecb5a0f06470e0b1c588caf829a\n",
            "  Stored in directory: /root/.cache/pip/wheels/06/3e/78/fa1588c1ae991bbfd814af2bcac6cef7a178beee1939180d46\n",
            "Successfully built pylatexenc\n",
            "Installing collected packages: pylatexenc, stevedore, rustworkx, qiskit\n",
            "Successfully installed pylatexenc-2.10 qiskit-2.2.1 rustworkx-0.17.1 stevedore-5.5.0\n",
            "Collecting qiskit-aer\n",
            "  Downloading qiskit_aer-0.17.2-cp312-cp312-manylinux_2_17_x86_64.manylinux2014_x86_64.whl.metadata (8.3 kB)\n",
            "Requirement already satisfied: qiskit>=1.1.0 in /usr/local/lib/python3.12/dist-packages (from qiskit-aer) (2.2.1)\n",
            "Requirement already satisfied: numpy>=1.16.3 in /usr/local/lib/python3.12/dist-packages (from qiskit-aer) (2.0.2)\n",
            "Requirement already satisfied: scipy>=1.0 in /usr/local/lib/python3.12/dist-packages (from qiskit-aer) (1.16.2)\n",
            "Requirement already satisfied: psutil>=5 in /usr/local/lib/python3.12/dist-packages (from qiskit-aer) (5.9.5)\n",
            "Requirement already satisfied: python-dateutil>=2.8.0 in /usr/local/lib/python3.12/dist-packages (from qiskit-aer) (2.9.0.post0)\n",
            "Requirement already satisfied: six>=1.5 in /usr/local/lib/python3.12/dist-packages (from python-dateutil>=2.8.0->qiskit-aer) (1.17.0)\n",
            "Requirement already satisfied: rustworkx>=0.15.0 in /usr/local/lib/python3.12/dist-packages (from qiskit>=1.1.0->qiskit-aer) (0.17.1)\n",
            "Requirement already satisfied: dill>=0.3 in /usr/local/lib/python3.12/dist-packages (from qiskit>=1.1.0->qiskit-aer) (0.3.8)\n",
            "Requirement already satisfied: stevedore>=3.0.0 in /usr/local/lib/python3.12/dist-packages (from qiskit>=1.1.0->qiskit-aer) (5.5.0)\n",
            "Requirement already satisfied: typing-extensions in /usr/local/lib/python3.12/dist-packages (from qiskit>=1.1.0->qiskit-aer) (4.15.0)\n",
            "Downloading qiskit_aer-0.17.2-cp312-cp312-manylinux_2_17_x86_64.manylinux2014_x86_64.whl (12.4 MB)\n",
            "\u001b[2K   \u001b[90m━━━━━━━━━━━━━━━━━━━━━━━━━━━━━━━━━━━━━━━━\u001b[0m \u001b[32m12.4/12.4 MB\u001b[0m \u001b[31m108.4 MB/s\u001b[0m eta \u001b[36m0:00:00\u001b[0m\n",
            "\u001b[?25hInstalling collected packages: qiskit-aer\n",
            "Successfully installed qiskit-aer-0.17.2\n"
          ]
        }
      ],
      "source": [
        "import IPython\n",
        "\n",
        "def in_colab():\n",
        "    try:\n",
        "        import google.colab\n",
        "        return True\n",
        "    except:\n",
        "        return False\n",
        "\n",
        "if in_colab():\n",
        "    !pip install qiskit[visualization]\n",
        "    !pip install qiskit-aer"
      ]
    },
    {
      "cell_type": "markdown",
      "metadata": {
        "id": "QEcEVruZVWCH"
      },
      "source": [
        "<a name=\"task1\"></a>\n",
        "### Task 1\n",
        "\n",
        "Calculate the new quantum state after this CNOT operator."
      ]
    },
    {
      "cell_type": "markdown",
      "metadata": {
        "id": "4tOF9ZtWVWCH"
      },
      "source": [
        "<h3>Solution</h3>"
      ]
    },
    {
      "cell_type": "markdown",
      "metadata": {
        "id": "ICMvMrcKVWCI"
      },
      "source": [
        "The state before CNOT is $ \\sqrttwo \\big( a\\ket{000} + a \\ket{011} + b\\ket{100} + b \\ket{111} \\big) $."
      ]
    },
    {
      "cell_type": "markdown",
      "metadata": {
        "id": "ydnpCvV0VWCI"
      },
      "source": [
        "CNOT($q[2]$,$q[1]$) is applied.\n",
        "\n",
        "If the value of the left most qubit is 1, then the value of the middle qubit is flipped.\n",
        "\n",
        "Thus, the new quantum state after this CNOT is\n",
        "\n",
        "$$ \\sqrttwo \\big( a\\ket{000} + a \\ket{011} + b\\ket{110} + b \\ket{101} \\big). $$"
      ]
    },
    {
      "cell_type": "markdown",
      "metadata": {
        "id": "lNey2gmkVWCI"
      },
      "source": [
        "<a name=\"task2\"></a>\n",
        "<h3> Task 2 </h3>\n",
        "\n",
        "Calculate the new quantum state after this Hadamard operator.\n",
        "\n",
        "Verify that the resulting quantum state can be written as follows:\n",
        "\n",
        "$$  \n",
        "    \\frac{1}{2} \\ket{00} \\big( a\\ket{0}+b\\ket{1} \\big) +\n",
        "    \\frac{1}{2} \\ket{01} \\big( a\\ket{1}+b\\ket{0} \\big) +\n",
        "    \\frac{1}{2} \\ket{10} \\big( a\\ket{0}-b\\ket{1} \\big) +\n",
        "    \\frac{1}{2} \\ket{11} \\big( a\\ket{1}-b\\ket{0} \\big) .\n",
        "$$"
      ]
    },
    {
      "cell_type": "markdown",
      "metadata": {
        "id": "u8zl2yQUVWCI"
      },
      "source": [
        "<h3>Solution</h3>"
      ]
    },
    {
      "cell_type": "markdown",
      "metadata": {
        "id": "O7Pydr9AVWCJ"
      },
      "source": [
        "The state before Hadamard is $ \\sqrttwo \\big( a\\ket{000} + a \\ket{011} + b\\ket{110} + b \\ket{101} \\big). $\n",
        "\n",
        "The effect of Hadamard to the left most qubit is given below:\n",
        "\n",
        "$ H \\ket{0yz} \\rightarrow \\sqrttwo \\ket{0yz} + \\sqrttwo \\ket{1yz} $\n",
        "\n",
        "$ H \\ket{1yz} \\rightarrow \\sqrttwo \\ket{0yz} - \\sqrttwo \\ket{1yz} $\n",
        "\n",
        "For each triple $ \\ket{xyz} $ in the quantum state, we apply this transformation:"
      ]
    },
    {
      "cell_type": "markdown",
      "metadata": {
        "id": "q8MjxytcVWCJ"
      },
      "source": [
        "$\n",
        "    \\frac{1}{2} \\big( a\\ket{000} + a\\ket{100} \\big) +\n",
        "    \\frac{1}{2} \\big( a\\ket{011} + a\\ket{111} \\big) +\n",
        "    \\frac{1}{2} \\big( b\\ket{010} - b\\ket{110} \\big) +\n",
        "    \\frac{1}{2} \\big( b\\ket{001} - b\\ket{101} \\big) .\n",
        "$"
      ]
    },
    {
      "cell_type": "markdown",
      "metadata": {
        "id": "Nyqe6k1kVWCJ"
      },
      "source": [
        "We can rearrange the summation so that we can separate Asja's qubits from the Balvis' qubit:\n",
        "\n",
        "$\\frac{1}{2} \\big( a\\ket{000}+b\\ket{001} \\big) + \\frac{1}{2} \\big( a\\ket{011}+b\\ket{010} \\big) +  \\frac{1}{2} \\big( a\\ket{100} - b\\ket{101} \\big) + \\frac{1}{2} \\big( a\\ket{111}- b\\ket{110} \\big)$."
      ]
    },
    {
      "cell_type": "markdown",
      "metadata": {
        "id": "e0UJo1teVWCJ"
      },
      "source": [
        "This is equivalent to\n",
        "\n",
        "$$  \n",
        "    \\frac{1}{2} \\ket{00} \\big( a\\ket{0}+b\\ket{1} \\big) +\n",
        "    \\frac{1}{2} \\ket{01} \\big( a\\ket{1}+b\\ket{0} \\big) +\n",
        "    \\frac{1}{2} \\ket{10} \\big( a\\ket{0}-b\\ket{1} \\big) +\n",
        "    \\frac{1}{2} \\ket{11} \\big( a\\ket{1}-b\\ket{0} \\big) .\n",
        "$$"
      ]
    },
    {
      "cell_type": "markdown",
      "metadata": {
        "id": "1jOQYRTjVWCJ"
      },
      "source": [
        "<a name=\"task3\"></a>\n",
        "<h3> Task 3 </h3>\n",
        "\n",
        "Asja sends the measurement outcomes to Balvis by using two classical bits: $ x $ and $ y $.\n",
        "\n",
        "For each $ (x,y) $ pair, determine the quantum operator(s) that Balvis can apply to obtain $ \\ket{v} = a\\ket{0}+b\\ket{1} $ exactly."
      ]
    },
    {
      "cell_type": "markdown",
      "metadata": {
        "id": "2tJ_3Ge0VWCJ"
      },
      "source": [
        "<h3>Solution</h3>"
      ]
    },
    {
      "cell_type": "markdown",
      "metadata": {
        "id": "YnDz_fUNVWCJ"
      },
      "source": [
        "<b>Measurement outcome \"00\":</b> The state of Balvis' qubit is $ a\\ket{0}+b\\ket{1} $.\n",
        "\n",
        "Balvis does not need to apply any extra operation.\n",
        "\n",
        "<b>Measurement outcome \"01\":</b> The state of Balvis' qubit is $ a\\ket{1}+b\\ket{0} $.\n",
        "\n",
        "If Balvis applies <u>NOT operator</u>, then the state becomes: $ a\\ket{0}+b\\ket{1} $.\n",
        "\n",
        "<b>Measurement outcome \"10\":</b> The state of Balvis' qubit is $ a\\ket{0}-b\\ket{1} $.\n",
        "\n",
        "If Balvis applies <u>Z operator</u>, then the state becomes: $ a\\ket{0}+b\\ket{1} $.\n",
        "\n",
        "<b>Measurement outcome \"11\":</b> The state of Balvis' qubit is $ a\\ket{1}-b\\ket{0} $.\n",
        "\n",
        "If Balvis applies <u>NOT operator</u> and <u>Z operator</u>, then the state becomes: $ a\\ket{0}+b\\ket{1} $."
      ]
    },
    {
      "cell_type": "markdown",
      "metadata": {
        "id": "2IdDNh58VWCJ"
      },
      "source": [
        "<a name=\"task4\"></a>\n",
        "<h3> Task 4 </h3>\n",
        "\n",
        "Create a quantum circuit with three qubits as described at the beginning of this notebook and three classical bits.\n",
        "\n",
        "Implement the protocol given above until Asja makes the measurements (included).\n",
        "- The state of $q[2]$ can be set by the rotation with a randomly picked angle.\n",
        "- Remark that Balvis does not make the measurement.\n",
        "\n",
        "At this point, read the state vector of the circuit by using \"statevector_simulator\".\n",
        "\n",
        "_When a circuit having measurement is simulated by \"statevector_simulator\", the simulator picks one of the outcomes, and so we see one of the states after the measurement._\n",
        "\n",
        "Verify that the state of Balvis' qubit is in one of these: $ \\ket{v_{00}}$, $ \\ket{v_{01}}$, $ \\ket{v_{10}}$, and $ \\ket{v_{11}}$.\n",
        "\n",
        "Guess the measurement outcome obtained by \"statevector_simulator\"."
      ]
    },
    {
      "cell_type": "markdown",
      "metadata": {
        "id": "Jm306JwlVWCJ"
      },
      "source": [
        "<h3>Solution</h3>"
      ]
    },
    {
      "cell_type": "code",
      "execution_count": null,
      "metadata": {
        "id": "y_zT872kVWCJ",
        "colab": {
          "base_uri": "https://localhost:8080/",
          "height": 615
        },
        "outputId": "a997d93c-3fbc-47ce-b355-7f519b12bc37"
      },
      "outputs": [
        {
          "output_type": "stream",
          "name": "stdout",
          "text": [
            "the picked angle is 262.8 degrees and 4.586725274241098 radians\n",
            "a= -0.125 b= -0.992\n",
            "a*a= 0.016 b*b= 0.984\n"
          ]
        },
        {
          "output_type": "display_data",
          "data": {
            "text/plain": [
              "<Figure size 538.33x367.889 with 1 Axes>"
            ],
            "image/png": "[encoded data removed]"
          },
          "metadata": {}
        },
        {
          "output_type": "stream",
          "name": "stdout",
          "text": [
            "the state vector is\n",
            "-0.12533323356430462\n",
            "-0.9921147013144777\n",
            "-0.0\n",
            "-0.0\n",
            "-0.0\n",
            "0.0\n",
            "0.0\n",
            "-0.0\n",
            "\n",
            "the classical outcome is 00\n",
            "\n",
            "the new quantum state is |00>(-0.125|0>+-0.992|1>)\n",
            "the new quantum state is |00>(+a|0>+b|1>)\n"
          ]
        }
      ],
      "source": [
        "from qiskit import QuantumRegister, ClassicalRegister, QuantumCircuit\n",
        "from qiskit_aer import Aer\n",
        "from math import pi, cos, sin\n",
        "from random import randrange\n",
        "\n",
        "# quantum circuit with three qubits and three bits\n",
        "q =  QuantumRegister(3,\"q\")\n",
        "c = ClassicalRegister(3,\"c\")\n",
        "qc = QuantumCircuit(q,c)\n",
        "\n",
        "# rotate the first qubit by random angle\n",
        "r = randrange(100)\n",
        "theta = 2*pi*(r/100) # radians\n",
        "print(\"the picked angle is\",r*3.6,\"degrees and\",theta,\"radians\")\n",
        "a = cos(theta)\n",
        "b = sin(theta)\n",
        "print(\"a=\",round(a,3),\"b=\",round(b,3))\n",
        "print(\"a*a=\",round(a**2,3),\"b*b=\",round(b**2,3))\n",
        "qc.ry(2*theta,q[2])\n",
        "\n",
        "# creating an entanglement between q[1] and q[0]\n",
        "qc.h(q[1])\n",
        "qc.cx(q[1],q[0])\n",
        "\n",
        "# CNOT operator by Asja on her qubits where q[2] is the control qubit\n",
        "qc.cx(q[2],q[1])\n",
        "\n",
        "# Hadamard operator by Asja on q[2]\n",
        "qc.h(q[2])\n",
        "\n",
        "# the measurement done by Asja\n",
        "qc.measure(q[2],c[2])\n",
        "qc.measure(q[1],c[1])\n",
        "\n",
        "# draw thw circuit\n",
        "display(qc.draw(output='mpl',reverse_bits=True))\n",
        "\n",
        "# read the state vector\n",
        "simulator = Aer.get_backend('statevector_simulator')\n",
        "job = simulator.run(qc,optimization_level=0,shots=1)\n",
        "# job = execute(qc,Aer.get_backend('statevector_simulator'),optimization_level=0,shots=1) # This works in qiskit older 1.x version\n",
        "current_quantum_state=job.result().get_statevector(qc).data\n",
        "print(\"the state vector is\")\n",
        "for i in range(len(current_quantum_state)):\n",
        "    print(current_quantum_state[i].real)\n",
        "print()\n",
        "\n",
        "classical_outcomes = ['00','01','10','11']\n",
        "\n",
        "for i in range(4):\n",
        "    if (current_quantum_state[2*i].real != 0) or (current_quantum_state[2*i+1].real != 0):\n",
        "        print(\"the classical outcome is\",classical_outcomes[i])\n",
        "        classical_outcome = classical_outcomes[i]\n",
        "        balvis_state = [ current_quantum_state[2*i].real,current_quantum_state[2*i+1].real ]\n",
        "print()\n",
        "\n",
        "readable_quantum_state = \"|\"+classical_outcome+\">\"\n",
        "readable_quantum_state += \"(\"+str(round(balvis_state[0],3))+\"|0>+\"+str(round(balvis_state[1],3))+\"|1>)\"\n",
        "print(\"the new quantum state is\",readable_quantum_state)\n",
        "\n",
        "\n",
        "all_states = ['000','001','010','011','100','101','110','111']\n",
        "\n",
        "\n",
        "balvis_state_str = \"|\"+classical_outcome+\">(\"\n",
        "for i in range(len(current_quantum_state)):\n",
        "    if abs(current_quantum_state[i].real-a)<0.000001:\n",
        "        balvis_state_str += \"+a|\"+ all_states[i][2]+\">\"\n",
        "    elif abs(current_quantum_state[i].real+a)<0.000001:\n",
        "        balvis_state_str += \"-a|\"+ all_states[i][2]+\">\"\n",
        "    elif abs(current_quantum_state[i].real-b)<0.000001:\n",
        "        balvis_state_str += \"+b|\"+ all_states[i][2]+\">\"\n",
        "    elif abs(current_quantum_state[i].real+b)<0.000001:\n",
        "        balvis_state_str += \"-b|\"+ all_states[i][2]+\">\"\n",
        "balvis_state_str += \")\"\n",
        "print(\"the new quantum state is\",balvis_state_str)"
      ]
    },
    {
      "cell_type": "markdown",
      "metadata": {
        "id": "0EIyON6PVWCK"
      },
      "source": [
        "<a name=\"task5\"></a>\n",
        "<h3> Task 5 </h3>\n",
        "\n",
        "Implement the protocol above by including the post-processing part done by Balvis, i.e., the measurement results by Asja are sent to Balvis and then he may apply $ X $ or $ Z $ gates depending on the measurement results.\n",
        "\n",
        "We use the classically controlled quantum operators.\n",
        "\n",
        "Since we do not make measurement on $ q[0] $, we define only 2 classical bits, each of which can also be defined separated.\n",
        "\n",
        "    q = QuantumRegister(3)\n",
        "    c2 = ClassicalRegister(1,'c2')\n",
        "    c1 = ClassicalRegister(1,'c1')\n",
        "    qc = QuantumCircuit(q,c1,c2)\n",
        "    ...\n",
        "    qc.measure(q[1],c1)\n",
        "    ...\n",
        "    qc.x(q[0]).c_if(c1,1) # x-gate is applied to q[0] if the classical bit c1 is equal to 1 # For qiskit version 1.x\n",
        "    with qc.if_test((c1, 1)): # For qiskit version 2.x\n",
        "      qc.x(q[0])\n",
        "\n",
        "Read the state vector and verify that Balvis' state is $ \\myvector{a \\\\ b} $ after the post-processing."
      ]
    },
    {
      "cell_type": "markdown",
      "metadata": {
        "id": "3G-PH1gkVWCK"
      },
      "source": [
        "<h3>Solution</h3>"
      ]
    },
    {
      "cell_type": "code",
      "execution_count": null,
      "metadata": {
        "id": "m8tfYHn2VWCK",
        "colab": {
          "base_uri": "https://localhost:8080/",
          "height": 610
        },
        "outputId": "35b35d03-42cd-4bb4-d6f7-767b2ee79f21"
      },
      "outputs": [
        {
          "output_type": "stream",
          "name": "stdout",
          "text": [
            "the picked angle is 82.8 degrees and 1.4451326206513049 radians\n",
            "a= 0.1253 b= 0.9921\n"
          ]
        },
        {
          "output_type": "display_data",
          "data": {
            "text/plain": [
              "<Figure size 1123.61x451.5 with 1 Axes>"
            ],
            "image/png": "[encoded data removed]"
          },
          "metadata": {}
        },
        {
          "output_type": "stream",
          "name": "stdout",
          "text": [
            "the state vector is\n",
            "0.1253\n",
            "0.9921\n",
            "0.0\n",
            "0.0\n",
            "0.0\n",
            "-0.0\n",
            "-0.0\n",
            "0.0\n",
            "\n",
            "the classical outcome is 00\n"
          ]
        }
      ],
      "source": [
        "from qiskit import QuantumRegister, ClassicalRegister, QuantumCircuit\n",
        "from qiskit_aer import Aer\n",
        "from math import pi, cos, sin\n",
        "from random import randrange\n",
        "\n",
        "# quantum circuit with three qubits and two bits\n",
        "q =  QuantumRegister(3,\"q\")\n",
        "c1 = ClassicalRegister(1,\"c1\")\n",
        "c2 = ClassicalRegister(1,\"c2\")\n",
        "qc = QuantumCircuit(q,c1,c2)\n",
        "\n",
        "# rotate the first qubit by random angle\n",
        "r = randrange(100)\n",
        "theta = 2*pi*(r/100) # radians\n",
        "print(\"the picked angle is\",r*3.6,\"degrees and\",theta,\"radians\")\n",
        "a = cos(theta)\n",
        "b = sin(theta)\n",
        "print(\"a=\",round(a,4),\"b=\",round(b,4))\n",
        "qc.ry(2*theta,q[2])\n",
        "\n",
        "# creating an entanglement between q[1] and q[0]\n",
        "qc.h(q[1])\n",
        "qc.cx(q[1],q[0])\n",
        "\n",
        "# CNOT operator by Asja on her qubits where q[2] is the control qubit\n",
        "qc.cx(q[2],q[1])\n",
        "\n",
        "# Hadamard operator by Asja on q[2]\n",
        "qc.h(q[2])\n",
        "\n",
        "qc.barrier()\n",
        "\n",
        "# the measurement done by Asja\n",
        "qc.measure(q[2],c2)\n",
        "qc.measure(q[1],c1)\n",
        "\n",
        "qc.barrier()\n",
        "\n",
        "# post-processing done by Balvis\n",
        "# qc.x(q[0]).c_if(c1,1) # This is for qiskit versions 1.x and now deprecated in versions 2.x\n",
        "# qc.z(q[0]).c_if(c2,1) # This is for qiskit versions 1.x and now deprecated in versions 2.x\n",
        "\n",
        "with qc.if_test((c1, 1)):\n",
        "  qc.x(q[0])\n",
        "with qc.if_test((c2, 1)):\n",
        "  qc.z(q[0])\n",
        "\n",
        "# draw the circuit\n",
        "display(qc.draw(output='mpl',reverse_bits=True))\n",
        "\n",
        "# read the state vector\n",
        "simulator = Aer.get_backend('statevector_simulator')\n",
        "job = simulator.run(qc,optimization_level=0,shots=1)\n",
        "# job = execute(qc,Aer.get_backend('statevector_simulator'),optimization_level=0,shots=1)  # This works in qiskit older 1.x version\n",
        "current_quantum_state=job.result().get_statevector(qc).data\n",
        "print(\"the state vector is\")\n",
        "for i in range(len(current_quantum_state)):\n",
        "    print(round(current_quantum_state[i].real,4))\n",
        "print()\n",
        "\n",
        "classical_outcomes = ['00','01','10','11']\n",
        "\n",
        "for i in range(4):\n",
        "    if (current_quantum_state[2*i].real != 0) or (current_quantum_state[2*i+1].real != 0):\n",
        "        print(\"the classical outcome is\",classical_outcomes[i])"
      ]
    }
  ],
  "metadata": {
    "kernelspec": {
      "display_name": "Python 3 (ipykernel)",
      "language": "python",
      "name": "python3"
    },
    "language_info": {
      "codemirror_mode": {
        "name": "ipython",
        "version": 3
      },
      "file_extension": ".py",
      "mimetype": "text/x-python",
      "name": "python",
      "nbconvert_exporter": "python",
      "pygments_lexer": "ipython3",
      "version": "3.11.4"
    },
    "colab": {
      "provenance": [],
      "collapsed_sections": [
        "Set1hh4qVWCG"
      ],
      "include_colab_link": true
    }
  },
  "nbformat": 4,
  "nbformat_minor": 0
}