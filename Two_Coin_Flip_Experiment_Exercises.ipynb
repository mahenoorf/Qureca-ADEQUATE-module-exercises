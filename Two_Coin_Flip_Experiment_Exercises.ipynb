{
  "nbformat": 4,
  "nbformat_minor": 0,
  "metadata": {
    "colab": {
      "provenance": [],
      "include_colab_link": true
    },
    "kernelspec": {
      "name": "python3",
      "display_name": "Python 3"
    },
    "language_info": {
      "name": "python"
    }
  },
  "cells": [
    {
      "cell_type": "markdown",
      "metadata": {
        "id": "view-in-github",
        "colab_type": "text"
      },
      "source": [
        "<a href=\"https://colab.research.google.com/github/mahenoorf/Qureca-ADEQUATE-module-exercises/blob/main/Two_Coin_Flip_Experiment_Exercises.ipynb\" target=\"_parent\"><img src=\"https://colab.research.google.com/assets/colab-badge.svg\" alt=\"Open In Colab\"/></a>"
      ]
    },
    {
      "cell_type": "markdown",
      "metadata": {
        "id": "2ziJbuQ35uyp"
      },
      "source": [
        "<img src=\"https://gitlab.com/qworld/qeducation/educational-materials/adequate-qbook1/raw/main/qworld/images/adq_1.png\" align=\"left\" width=450></a>\n",
        "$ \\newcommand{\\bra}[1]{\\langle #1|} $\n",
        "$ \\newcommand{\\ket}[1]{|#1\\rangle} $\n",
        "$ \\newcommand{\\braket}[2]{\\langle #1|#2\\rangle} $\n",
        "$ \\newcommand{\\dot}[2]{ #1 \\cdot #2} $\n",
        "$ \\newcommand{\\biginner}[2]{\\left\\langle #1,#2\\right\\rangle} $\n",
        "$ \\newcommand{\\mymatrix}[2]{\\left( \\begin{array}{#1} #2\\end{array} \\right)} $\n",
        "$ \\newcommand{\\myvector}[1]{\\mymatrix{c}{#1}} $\n",
        "$ \\newcommand{\\myrvector}[1]{\\mymatrix{r}{#1}} $\n",
        "$ \\newcommand{\\mypar}[1]{\\left( #1 \\right)} $\n",
        "$ \\newcommand{\\mybigpar}[1]{ \\Big( #1 \\Big)} $\n",
        "$ \\newcommand{\\sqrttwo}{\\frac{1}{\\sqrt{2}}} $\n",
        "$ \\newcommand{\\dsqrttwo}{\\dfrac{1}{\\sqrt{2}}} $\n",
        "$ \\newcommand{\\onehalf}{\\frac{1}{2}} $\n",
        "$ \\newcommand{\\donehalf}{\\dfrac{1}{2}} $\n",
        "$ \\newcommand{\\hadamard}{ \\mymatrix{rr}{ \\sqrttwo & \\sqrttwo \\\\ \\sqrttwo & -\\sqrttwo }} $\n",
        "$ \\newcommand{\\vzero}{\\myvector{1\\\\0}} $\n",
        "$ \\newcommand{\\vone}{\\myvector{0\\\\1}} $\n",
        "$ \\newcommand{\\stateplus}{\\myvector{ \\sqrttwo \\\\  \\sqrttwo } } $\n",
        "$ \\newcommand{\\stateminus}{ \\myrvector{ \\sqrttwo \\\\ -\\sqrttwo } } $\n",
        "$ \\newcommand{\\myarray}[2]{ \\begin{array}{#1}#2\\end{array}} $\n",
        "$ \\newcommand{\\X}{ \\mymatrix{cc}{0 & 1 \\\\ 1 & 0}  } $\n",
        "$ \\newcommand{\\I}{ \\mymatrix{rr}{1 & 0 \\\\ 0 & 1}  } $\n",
        "$ \\newcommand{\\Z}{ \\mymatrix{rr}{1 & 0 \\\\ 0 & -1}  } $\n",
        "$ \\newcommand{\\Htwo}{ \\mymatrix{rrrr}{ \\frac{1}{2} & \\frac{1}{2} & \\frac{1}{2} & \\frac{1}{2} \\\\ \\frac{1}{2} & -\\frac{1}{2} & \\frac{1}{2} & -\\frac{1}{2} \\\\ \\frac{1}{2} & \\frac{1}{2} & -\\frac{1}{2} & -\\frac{1}{2} \\\\ \\frac{1}{2} & -\\frac{1}{2} & -\\frac{1}{2} & \\frac{1}{2} } } $\n",
        "$ \\newcommand{\\CNOT}{ \\mymatrix{cccc}{1 & 0 & 0 & 0 \\\\ 0 & 1 & 0 & 0 \\\\ 0 & 0 & 0 & 1 \\\\ 0 & 0 & 1 & 0} } $\n",
        "$ \\newcommand{\\norm}[1]{ \\left\\lVert #1 \\right\\rVert } $\n",
        "$ \\newcommand{\\pstate}[1]{ \\lceil \\mspace{-1mu} #1 \\mspace{-1.5mu} \\rfloor } $\n",
        "$ \\newcommand{\\greenbit}[1] {\\mathbf{{\\color{green}#1}}} $\n",
        "$ \\newcommand{\\bluebit}[1] {\\mathbf{{\\color{blue}#1}}} $\n",
        "$ \\newcommand{\\redbit}[1] {\\mathbf{{\\color{red}#1}}} $\n",
        "$ \\newcommand{\\brownbit}[1] {\\mathbf{{\\color{brown}#1}}} $\n",
        "$ \\newcommand{\\blackbit}[1] {\\mathbf{{\\color{black}#1}}} $"
      ]
    },
    {
      "cell_type": "markdown",
      "metadata": {
        "id": "xglHJEaq5uyr"
      },
      "source": [
        "_prepared by Abuzer Yakaryilmaz_"
      ]
    },
    {
      "cell_type": "markdown",
      "metadata": {
        "id": "KXo_7-ul5uyr"
      },
      "source": [
        "<font size=\"28px\" style=\"font-size:28px;\" align=\"left\"><b> <font color=\"blue\"> Exercises for </font>A Game with two biased coins  </b></font>\n"
      ]
    },
    {
      "cell_type": "markdown",
      "metadata": {
        "id": "ItNgsqv8ODg2"
      },
      "source": [
        "##### <font color=\"#08b806\">Please execute the following cell, it is necessary to distinguish between your local environment and Google Colab's"
      ]
    },
    {
      "cell_type": "code",
      "source": [
        "import IPython\n",
        "\n",
        "def in_colab():\n",
        "    try:\n",
        "        import google.colab\n",
        "        return True\n",
        "    except:\n",
        "        return False\n",
        "\n",
        "SolutionToTask2 = lambda: IPython.display.display(IPython.display.Javascript('window.open(\"{url}\");'.format(url='https://colab.research.google.com/drive/1L8r6p-LrkkIgIyxKqiLszne5Fc9RK2Qu#scrollTo=UDdWt9RM5DSM' if in_colab() else 'Two_Coin_Flip_Experiment_Exercises_Solutions.ipynb#task2')))\n",
        "SolutionToTask3 = lambda: IPython.display.display(IPython.display.Javascript('window.open(\"{url}\");'.format(url='https://colab.research.google.com/drive/1vLgGU2hmhp0e0HXT99gAGZtYo51IvTal#scrollTo=-UZxHsxc5DSN' if in_colab() else 'Two_Coin_Flip_Experiment_Exercises_Solutions.ipynb#task3')))\n",
        "SolutionToTask4 = lambda: IPython.display.display(IPython.display.Javascript('window.open(\"{url}\");'.format(url='https://colab.research.google.com/drive/1L8r6p-LrkkIgIyxKqiLszne5Fc9RK2Qu#scrollTo=9SHL-iH_5DSP' if in_colab() else 'Two_Coin_Flip_Experiment_Exercises_Solutions.ipynb#task4')))"
      ],
      "metadata": {
        "id": "STYqH2_-xEv2"
      },
      "execution_count": null,
      "outputs": []
    },
    {
      "cell_type": "markdown",
      "metadata": {
        "id": "HCzp5fjB5uyu"
      },
      "source": [
        "#<h3> Task 2: Tracing ten biased coin tosses </h3>\n",
        "\n",
        "By using python, calculate the probabilities of Asja seeing heads and tails after 10 coin tosses.\n",
        "\n",
        "$\n",
        "GameCoins = \\begin{array}{c|cc} \\hookleftarrow & \\mathbf{Head} & \\mathbf{Tail} \\\\ \\hline \\mathbf{Head} & 0.6 & 0.3\\\\  \\mathbf{Tail} & 0.4 & 0.7  \\end{array} = \\begin{array}{c|cc} \\hookleftarrow & \\mathbf{0} & \\mathbf{1} \\\\ \\hline \\mathbf{0} & 0.6 & 0.3 \\\\  \\mathbf{1} & 0.4 & 0.7  \\end{array}\n",
        "$\n",
        "\n",
        "Use a loop in your solution."
      ]
    },
    {
      "cell_type": "code",
      "execution_count": null,
      "metadata": {
        "id": "z--IROz45uyu",
        "colab": {
          "base_uri": "https://localhost:8080/"
        },
        "outputId": "4981c573-7d35-46bd-f60e-5f1e477f94ae"
      },
      "outputs": [
        {
          "output_type": "stream",
          "name": "stdout",
          "text": [
            "After 10 tosses:\n",
            "Probability of heads: 0.4286\n",
            "Probability of tails: 0.5714\n"
          ]
        }
      ],
      "source": [
        "# Initial probabilities\n",
        "prob_head = 1.0  # Start with Asja seeing heads\n",
        "prob_tail = 0.0\n",
        "\n",
        "# Transition probabilities\n",
        "p_hh = 0.6 # Probability of Head given Head\n",
        "p_ht = 0.3 # Probability of Head given Tail\n",
        "p_th = 0.4 # Probability of Tail given Head\n",
        "p_tt = 0.7 # Probability of Tail given Tail\n",
        "\n",
        "# Number of coin tosses\n",
        "num_tosses = 10\n",
        "\n",
        "# Simulate coin tosses\n",
        "for _ in range(num_tosses):\n",
        "    new_prob_head = prob_head * p_hh + prob_tail * p_ht\n",
        "    new_prob_tail = prob_head * p_th + prob_tail * p_tt\n",
        "    prob_head = new_prob_head\n",
        "    prob_tail = new_prob_tail\n",
        "\n",
        "print(f\"After {num_tosses} tosses:\")\n",
        "print(f\"Probability of heads: {prob_head:.4f}\")\n",
        "print(f\"Probability of tails: {prob_tail:.4f}\")"
      ]
    },
    {
      "cell_type": "markdown",
      "metadata": {
        "id": "LbgFEhMV5uyu"
      },
      "source": [
        "To check out our solution, run the next cell:"
      ]
    },
    {
      "cell_type": "code",
      "source": [
        "SolutionToTask2()  # show solution for task 2"
      ],
      "metadata": {
        "id": "cbRE4Xadwovb",
        "colab": {
          "base_uri": "https://localhost:8080/",
          "height": 17
        },
        "outputId": "4903a829-1eac-41e4-cae7-3d572afb2005"
      },
      "execution_count": null,
      "outputs": [
        {
          "output_type": "display_data",
          "data": {
            "text/plain": [
              "<IPython.core.display.Javascript object>"
            ],
            "application/javascript": [
              "window.open(\"https://colab.research.google.com/drive/1L8r6p-LrkkIgIyxKqiLszne5Fc9RK2Qu#scrollTo=UDdWt9RM5DSM\");"
            ]
          },
          "metadata": {}
        }
      ]
    },
    {
      "cell_type": "markdown",
      "metadata": {
        "id": "Y5G5n6is5uyu"
      },
      "source": [
        "<h3> Task 3</h3>\n",
        "\n",
        "Repeat Task 2 for 20, 30, and 50 coin tosses."
      ]
    },
    {
      "cell_type": "code",
      "execution_count": null,
      "metadata": {
        "id": "p3k6ISFx5uyu",
        "colab": {
          "base_uri": "https://localhost:8080/"
        },
        "outputId": "9e8d6d83-cc1f-40b6-9566-35be925dfca5"
      },
      "outputs": [
        {
          "output_type": "stream",
          "name": "stdout",
          "text": [
            "After 20 tosses:\n",
            "Probability of heads: 0.4286\n",
            "Probability of tails: 0.5714\n",
            "--------------------\n",
            "After 30 tosses:\n",
            "Probability of heads: 0.4286\n",
            "Probability of tails: 0.5714\n",
            "--------------------\n",
            "After 50 tosses:\n",
            "Probability of heads: 0.4286\n",
            "Probability of tails: 0.5714\n",
            "--------------------\n"
          ]
        }
      ],
      "source": [
        "# Transition probabilities (using the values from Task 2)\n",
        "p_hh = 0.6\n",
        "p_ht = 0.3\n",
        "p_th = 0.4\n",
        "p_tt = 0.7\n",
        "\n",
        "# Number of coin tosses to test\n",
        "num_tosses_list = [20, 30, 50]\n",
        "\n",
        "# Initial probabilities (starting with Asja seeing heads)\n",
        "initial_prob_head = 1.0\n",
        "initial_prob_tail = 0.0\n",
        "\n",
        "\n",
        "for num_tosses in num_tosses_list:\n",
        "    prob_head = initial_prob_head\n",
        "    prob_tail = initial_prob_tail\n",
        "\n",
        "    # Simulate coin tosses\n",
        "    for _ in range(num_tosses):\n",
        "        new_prob_head = prob_head * p_hh + prob_tail * p_ht\n",
        "        new_prob_tail = prob_head * p_th + prob_tail * p_tt\n",
        "        prob_head = new_prob_head\n",
        "        prob_tail = new_prob_tail\n",
        "\n",
        "    print(f\"After {num_tosses} tosses:\")\n",
        "    print(f\"Probability of heads: {prob_head:.4f}\")\n",
        "    print(f\"Probability of tails: {prob_tail:.4f}\")\n",
        "    print(\"-\" * 20)"
      ]
    },
    {
      "cell_type": "markdown",
      "metadata": {
        "id": "q5w3gjvG5uyu"
      },
      "source": [
        "To check out our solution, run the next cell:"
      ]
    },
    {
      "cell_type": "code",
      "source": [
        "SolutionToTask3()  # show solution for task 3"
      ],
      "metadata": {
        "id": "_St8EBo4wtRa",
        "colab": {
          "base_uri": "https://localhost:8080/",
          "height": 17
        },
        "outputId": "2aad73fc-180e-4695-cbb2-0b1d3b15b3d2"
      },
      "execution_count": null,
      "outputs": [
        {
          "output_type": "display_data",
          "data": {
            "text/plain": [
              "<IPython.core.display.Javascript object>"
            ],
            "application/javascript": [
              "window.open(\"https://colab.research.google.com/drive/1vLgGU2hmhp0e0HXT99gAGZtYo51IvTal#scrollTo=-UZxHsxc5DSN\");"
            ]
          },
          "metadata": {}
        }
      ]
    },
    {
      "cell_type": "markdown",
      "metadata": {
        "id": "URTRED_P5uyu"
      },
      "source": [
        "<h3> Task 4</h3>\n",
        "\n",
        "Repeat Task 2 for 10, 20, and 50 coin tosses by picking different initial conditions, e.g.,\n",
        "    \n",
        "    prob_head = prob_tail = 1/2\n",
        "or\n",
        "    \n",
        "    prob_head = 0\n",
        "    prob_tail = 1"
      ]
    },
    {
      "cell_type": "code",
      "execution_count": null,
      "metadata": {
        "id": "icg7wviy5uyu",
        "colab": {
          "base_uri": "https://localhost:8080/"
        },
        "outputId": "0ee0a066-b2d2-4fae-b9fe-43adbbc5d886"
      },
      "outputs": [
        {
          "output_type": "stream",
          "name": "stdout",
          "text": [
            "Starting with initial probabilities: Head = 0.5, Tail = 0.5\n",
            "----------------------------------------\n",
            "After 10 tosses:\n",
            "Probability of heads: 0.4286\n",
            "Probability of tails: 0.5714\n",
            "After 20 tosses:\n",
            "Probability of heads: 0.4286\n",
            "Probability of tails: 0.5714\n",
            "After 50 tosses:\n",
            "Probability of heads: 0.4286\n",
            "Probability of tails: 0.5714\n",
            "========================================\n",
            "Starting with initial probabilities: Head = 0.0, Tail = 1.0\n",
            "----------------------------------------\n",
            "After 10 tosses:\n",
            "Probability of heads: 0.4286\n",
            "Probability of tails: 0.5714\n",
            "After 20 tosses:\n",
            "Probability of heads: 0.4286\n",
            "Probability of tails: 0.5714\n",
            "After 50 tosses:\n",
            "Probability of heads: 0.4286\n",
            "Probability of tails: 0.5714\n",
            "========================================\n"
          ]
        }
      ],
      "source": [
        "# Transition probabilities (using the values from Task 2)\n",
        "p_hh = 0.6\n",
        "p_ht = 0.3\n",
        "p_th = 0.4\n",
        "p_tt = 0.7\n",
        "\n",
        "# Number of coin tosses to test\n",
        "num_tosses_list = [10, 20, 50]\n",
        "\n",
        "# List of initial probability conditions to test\n",
        "initial_conditions = [\n",
        "    {\"prob_head\": 0.5, \"prob_tail\": 0.5},\n",
        "    {\"prob_head\": 0.0, \"prob_tail\": 1.0}\n",
        "]\n",
        "\n",
        "for initial_probs in initial_conditions:\n",
        "    initial_prob_head = initial_probs[\"prob_head\"]\n",
        "    initial_prob_tail = initial_probs[\"prob_tail\"]\n",
        "\n",
        "    print(f\"Starting with initial probabilities: Head = {initial_prob_head}, Tail = {initial_prob_tail}\")\n",
        "    print(\"-\" * 40)\n",
        "\n",
        "    for num_tosses in num_tosses_list:\n",
        "        prob_head = initial_prob_head\n",
        "        prob_tail = initial_prob_tail\n",
        "\n",
        "        # Simulate coin tosses\n",
        "        for _ in range(num_tosses):\n",
        "            new_prob_head = prob_head * p_hh + prob_tail * p_ht\n",
        "            new_prob_tail = prob_head * p_th + prob_tail * p_tt\n",
        "            prob_head = new_prob_head\n",
        "            prob_tail = new_prob_tail\n",
        "\n",
        "        print(f\"After {num_tosses} tosses:\")\n",
        "        print(f\"Probability of heads: {prob_head:.4f}\")\n",
        "        print(f\"Probability of tails: {prob_tail:.4f}\")\n",
        "    print(\"=\" * 40)"
      ]
    },
    {
      "cell_type": "markdown",
      "metadata": {
        "id": "gJbQel6B5uyu"
      },
      "source": [
        "To check out our solution, run the next cell:"
      ]
    },
    {
      "cell_type": "code",
      "source": [
        "SolutionToTask4()  # show solution for task 4"
      ],
      "metadata": {
        "id": "tsvWgJ9swxee",
        "colab": {
          "base_uri": "https://localhost:8080/",
          "height": 17
        },
        "outputId": "0517ccb4-6042-4555-824b-f8ecf209c6d2"
      },
      "execution_count": null,
      "outputs": [
        {
          "output_type": "display_data",
          "data": {
            "text/plain": [
              "<IPython.core.display.Javascript object>"
            ],
            "application/javascript": [
              "window.open(\"https://colab.research.google.com/drive/1L8r6p-LrkkIgIyxKqiLszne5Fc9RK2Qu#scrollTo=9SHL-iH_5DSP\");"
            ]
          },
          "metadata": {}
        }
      ]
    },
    {
      "cell_type": "markdown",
      "metadata": {
        "id": "1SXaFqm15uyv"
      },
      "source": [
        "<h3> Extra: Arbitrary transitions for GameCoins</h3>\n",
        "\n",
        "By changing the bias of each Asja's coin, we can define arbitrary GameCoins.\n",
        "\n",
        "If $ a $ is the probability of getting heads for one euro and $ b $ is the probability of getting heads for one cent, then we have the following transitions:\n",
        "\n",
        "$\n",
        "GameCoins(a,b) = \\begin{array}{c|cc} \\hookleftarrow & \\mathbf{Head} & \\mathbf{Tail} \\\\ \\hline \\mathbf{Head} & a & b\\\\  \\mathbf{Tail} & 1-a & 1-b  \\end{array} = \\begin{array}{c|cc} \\hookleftarrow & \\mathbf{0} & \\mathbf{1} \\\\ \\hline \\mathbf{0} & a & b \\\\  \\mathbf{1} & 1-a & 1-b  \\end{array}\n",
        "$"
      ]
    },
    {
      "cell_type": "markdown",
      "metadata": {
        "id": "6vCdHBwf5uyv"
      },
      "source": [
        "<h3> Task 5 </h3>\n",
        "\n",
        "Observe that if $ a=1 $ and $ b = 0 $, then it is Identity operator, i.e., the initial condition will stay as it is.\n",
        "\n",
        "If $ a=0 $ and $ b=1 $, then it is NOT operator. NOT operator swaps the probabilities of heads and tails in each step. If the initial probabilities are not $ 0.5 $ and $ 0.5 $, then the system never converges to a fixed probabilities."
      ]
    },
    {
      "cell_type": "code",
      "execution_count": null,
      "metadata": {
        "id": "wpDO81hd5uyv",
        "colab": {
          "base_uri": "https://localhost:8080/"
        },
        "outputId": "fbd2d7be-7c18-4523-9266-ce5af5c2d223"
      },
      "outputs": [
        {
          "output_type": "stream",
          "name": "stdout",
          "text": [
            "Observing Identity Operator (a=1, b=0):\n",
            "After 10 tosses:\n",
            "Probability of heads: 1.0000\n",
            "Probability of tails: 0.0000\n",
            "------------------------------\n",
            "Observing NOT Operator (a=0, b=1):\n",
            "After 10 tosses:\n",
            "Probability of heads: 1.0000\n",
            "Probability of tails: 0.0000\n",
            "------------------------------\n",
            "Observing NOT Operator with initial probabilities (0.2, 0.8):\n",
            "After 10 tosses:\n",
            "Probability of heads: 0.2000\n",
            "Probability of tails: 0.8000\n",
            "------------------------------\n"
          ]
        }
      ],
      "source": [
        "# Function to simulate coin tosses with given transition probabilities\n",
        "def simulate_tosses(initial_prob_head, initial_prob_tail, p_hh, p_ht, p_th, p_tt, num_tosses):\n",
        "    prob_head = initial_prob_head\n",
        "    prob_tail = initial_prob_tail\n",
        "\n",
        "    for _ in range(num_tosses):\n",
        "        new_prob_head = prob_head * p_hh + prob_tail * p_ht\n",
        "        new_prob_tail = prob_head * p_th + prob_tail * p_tt\n",
        "        prob_head = new_prob_head\n",
        "        prob_tail = new_prob_tail\n",
        "    return prob_head, prob_tail\n",
        "\n",
        "# Task 5: Observe Identity and NOT operators\n",
        "\n",
        "# Initial probabilities\n",
        "initial_prob_head = 1.0\n",
        "initial_prob_tail = 0.0\n",
        "num_tosses = 10\n",
        "\n",
        "print(\"Observing Identity Operator (a=1, b=0):\")\n",
        "p_hh_identity = 1.0\n",
        "p_ht_identity = 0.0\n",
        "p_th_identity = 0.0\n",
        "p_tt_identity = 1.0\n",
        "prob_head_identity, prob_tail_identity = simulate_tosses(initial_prob_head, initial_prob_tail, p_hh_identity, p_ht_identity, p_th_identity, p_tt_identity, num_tosses)\n",
        "print(f\"After {num_tosses} tosses:\")\n",
        "print(f\"Probability of heads: {prob_head_identity:.4f}\")\n",
        "print(f\"Probability of tails: {prob_tail_identity:.4f}\")\n",
        "print(\"-\" * 30)\n",
        "\n",
        "\n",
        "print(\"Observing NOT Operator (a=0, b=1):\")\n",
        "p_hh_not = 0.0\n",
        "p_ht_not = 1.0\n",
        "p_th_not = 1.0\n",
        "p_tt_not = 0.0\n",
        "prob_head_not, prob_tail_not = simulate_tosses(initial_prob_head, initial_prob_tail, p_hh_not, p_ht_not, p_th_not, p_tt_not, num_tosses)\n",
        "print(f\"After {num_tosses} tosses:\")\n",
        "print(f\"Probability of heads: {prob_head_not:.4f}\")\n",
        "print(f\"Probability of tails: {prob_tail_not:.4f}\")\n",
        "print(\"-\" * 30)\n",
        "\n",
        "# Also test NOT operator with different initial probabilities\n",
        "initial_prob_head_not_test = 0.2\n",
        "initial_prob_tail_not_test = 0.8\n",
        "print(\"Observing NOT Operator with initial probabilities (0.2, 0.8):\")\n",
        "prob_head_not_test, prob_tail_not_test = simulate_tosses(initial_prob_head_not_test, initial_prob_tail_not_test, p_hh_not, p_ht_not, p_th_not, p_tt_not, num_tosses)\n",
        "print(f\"After {num_tosses} tosses:\")\n",
        "print(f\"Probability of heads: {prob_head_not_test:.4f}\")\n",
        "print(f\"Probability of tails: {prob_tail_not_test:.4f}\")\n",
        "print(\"-\" * 30)"
      ]
    },
    {
      "cell_type": "markdown",
      "metadata": {
        "id": "e2iLTlxW5uyv"
      },
      "source": [
        "<h3> Task 6</h3>\n",
        "\n",
        "Randomly pick the values of $ a $ and $ b $, and then implement Tasks 3 and 4 for $ GameCoins(a,b) $."
      ]
    },
    {
      "cell_type": "code",
      "execution_count": null,
      "metadata": {
        "id": "pYXWB3Ir5uyv",
        "colab": {
          "base_uri": "https://localhost:8080/"
        },
        "outputId": "52e0ebcf-7753-4eb6-82ba-1af3e8e380b5"
      },
      "outputs": [
        {
          "output_type": "stream",
          "name": "stdout",
          "text": [
            "Randomly picked a = 0.2204 and b = 0.3279\n",
            "----------------------------------------\n",
            "Starting with initial probabilities: Head = 1.0, Tail = 0.0\n",
            "----------------------------------------\n",
            "After 10 tosses:\n",
            "Probability of heads: 0.2961\n",
            "Probability of tails: 0.7039\n",
            "After 20 tosses:\n",
            "Probability of heads: 0.2961\n",
            "Probability of tails: 0.7039\n",
            "After 50 tosses:\n",
            "Probability of heads: 0.2961\n",
            "Probability of tails: 0.7039\n",
            "========================================\n",
            "Starting with initial probabilities: Head = 0.5, Tail = 0.5\n",
            "----------------------------------------\n",
            "After 10 tosses:\n",
            "Probability of heads: 0.2961\n",
            "Probability of tails: 0.7039\n",
            "After 20 tosses:\n",
            "Probability of heads: 0.2961\n",
            "Probability of tails: 0.7039\n",
            "After 50 tosses:\n",
            "Probability of heads: 0.2961\n",
            "Probability of tails: 0.7039\n",
            "========================================\n",
            "Starting with initial probabilities: Head = 0.0, Tail = 1.0\n",
            "----------------------------------------\n",
            "After 10 tosses:\n",
            "Probability of heads: 0.2961\n",
            "Probability of tails: 0.7039\n",
            "After 20 tosses:\n",
            "Probability of heads: 0.2961\n",
            "Probability of tails: 0.7039\n",
            "After 50 tosses:\n",
            "Probability of heads: 0.2961\n",
            "Probability of tails: 0.7039\n",
            "========================================\n"
          ]
        }
      ],
      "source": [
        "import random\n",
        "\n",
        "# Function to simulate coin tosses with given transition probabilities\n",
        "def simulate_tosses(initial_prob_head, initial_prob_tail, p_hh, p_ht, p_th, p_tt, num_tosses):\n",
        "    prob_head = initial_prob_head\n",
        "    prob_tail = initial_prob_tail\n",
        "\n",
        "    for _ in range(num_tosses):\n",
        "        new_prob_head = prob_head * p_hh + prob_tail * p_ht\n",
        "        new_prob_tail = prob_head * p_th + prob_tail * p_tt\n",
        "        prob_head = new_prob_head\n",
        "        prob_tail = new_prob_tail\n",
        "    return prob_head, prob_tail\n",
        "\n",
        "# Task 6: Randomly pick a and b and implement Tasks 3 and 4\n",
        "\n",
        "# Randomly pick a and b\n",
        "a = random.random()\n",
        "b = random.random()\n",
        "\n",
        "print(f\"Randomly picked a = {a:.4f} and b = {b:.4f}\")\n",
        "print(\"-\" * 40)\n",
        "\n",
        "# Transition probabilities based on a and b\n",
        "p_hh_ab = a\n",
        "p_ht_ab = b\n",
        "p_th_ab = 1 - a\n",
        "p_tt_ab = 1 - b\n",
        "\n",
        "# Number of coin tosses to test (from Task 3 and 4)\n",
        "num_tosses_list = [10, 20, 50]\n",
        "\n",
        "# List of initial probability conditions to test (from Task 4)\n",
        "initial_conditions = [\n",
        "    {\"prob_head\": 1.0, \"prob_tail\": 0.0}, # Initial condition from Task 2\n",
        "    {\"prob_head\": 0.5, \"prob_tail\": 0.5},\n",
        "    {\"prob_head\": 0.0, \"prob_tail\": 1.0}\n",
        "]\n",
        "\n",
        "for initial_probs in initial_conditions:\n",
        "    initial_prob_head = initial_probs[\"prob_head\"]\n",
        "    initial_prob_tail = initial_probs[\"prob_tail\"]\n",
        "\n",
        "    print(f\"Starting with initial probabilities: Head = {initial_prob_head}, Tail = {initial_prob_tail}\")\n",
        "    print(\"-\" * 40)\n",
        "\n",
        "    for num_tosses in num_tosses_list:\n",
        "        prob_head, prob_tail = simulate_tosses(initial_prob_head, initial_prob_tail, p_hh_ab, p_ht_ab, p_th_ab, p_tt_ab, num_tosses)\n",
        "\n",
        "        print(f\"After {num_tosses} tosses:\")\n",
        "        print(f\"Probability of heads: {prob_head:.4f}\")\n",
        "        print(f\"Probability of tails: {prob_tail:.4f}\")\n",
        "    print(\"=\" * 40)"
      ]
    },
    {
      "cell_type": "markdown",
      "metadata": {
        "id": "Gl0iv6Ij5uyv"
      },
      "source": [
        "<h3> Task 7</h3>\n",
        "\n",
        "10 times repeat Task 6 and observe whether the probabilities converge in each time."
      ]
    },
    {
      "cell_type": "code",
      "execution_count": null,
      "metadata": {
        "id": "Mb2i9i2y5uyv",
        "colab": {
          "base_uri": "https://localhost:8080/"
        },
        "outputId": "28ec2f97-a3f1-4915-f6f6-96e6a4c3a571"
      },
      "outputs": [
        {
          "output_type": "stream",
          "name": "stdout",
          "text": [
            "--- Repetition 1 ---\n",
            "Randomly picked a = 0.3241 and b = 0.5874\n",
            "----------------------------------------\n",
            "Starting with initial probabilities: Head = 1.0, Tail = 0.0\n",
            "----------------------------------------\n",
            "After 10 tosses:\n",
            "Probability of heads: 0.4650\n",
            "Probability of tails: 0.5350\n",
            "After 20 tosses:\n",
            "Probability of heads: 0.4650\n",
            "Probability of tails: 0.5350\n",
            "After 50 tosses:\n",
            "Probability of heads: 0.4650\n",
            "Probability of tails: 0.5350\n",
            "========================================\n",
            "Starting with initial probabilities: Head = 0.5, Tail = 0.5\n",
            "----------------------------------------\n",
            "After 10 tosses:\n",
            "Probability of heads: 0.4650\n",
            "Probability of tails: 0.5350\n",
            "After 20 tosses:\n",
            "Probability of heads: 0.4650\n",
            "Probability of tails: 0.5350\n",
            "After 50 tosses:\n",
            "Probability of heads: 0.4650\n",
            "Probability of tails: 0.5350\n",
            "========================================\n",
            "Starting with initial probabilities: Head = 0.0, Tail = 1.0\n",
            "----------------------------------------\n",
            "After 10 tosses:\n",
            "Probability of heads: 0.4650\n",
            "Probability of tails: 0.5350\n",
            "After 20 tosses:\n",
            "Probability of heads: 0.4650\n",
            "Probability of tails: 0.5350\n",
            "After 50 tosses:\n",
            "Probability of heads: 0.4650\n",
            "Probability of tails: 0.5350\n",
            "========================================\n",
            "\n",
            "\n",
            "--- Repetition 2 ---\n",
            "Randomly picked a = 0.6522 and b = 0.4805\n",
            "----------------------------------------\n",
            "Starting with initial probabilities: Head = 1.0, Tail = 0.0\n",
            "----------------------------------------\n",
            "After 10 tosses:\n",
            "Probability of heads: 0.5801\n",
            "Probability of tails: 0.4199\n",
            "After 20 tosses:\n",
            "Probability of heads: 0.5801\n",
            "Probability of tails: 0.4199\n",
            "After 50 tosses:\n",
            "Probability of heads: 0.5801\n",
            "Probability of tails: 0.4199\n",
            "========================================\n",
            "Starting with initial probabilities: Head = 0.5, Tail = 0.5\n",
            "----------------------------------------\n",
            "After 10 tosses:\n",
            "Probability of heads: 0.5801\n",
            "Probability of tails: 0.4199\n",
            "After 20 tosses:\n",
            "Probability of heads: 0.5801\n",
            "Probability of tails: 0.4199\n",
            "After 50 tosses:\n",
            "Probability of heads: 0.5801\n",
            "Probability of tails: 0.4199\n",
            "========================================\n",
            "Starting with initial probabilities: Head = 0.0, Tail = 1.0\n",
            "----------------------------------------\n",
            "After 10 tosses:\n",
            "Probability of heads: 0.5801\n",
            "Probability of tails: 0.4199\n",
            "After 20 tosses:\n",
            "Probability of heads: 0.5801\n",
            "Probability of tails: 0.4199\n",
            "After 50 tosses:\n",
            "Probability of heads: 0.5801\n",
            "Probability of tails: 0.4199\n",
            "========================================\n",
            "\n",
            "\n",
            "--- Repetition 3 ---\n",
            "Randomly picked a = 0.1854 and b = 0.8156\n",
            "----------------------------------------\n",
            "Starting with initial probabilities: Head = 1.0, Tail = 0.0\n",
            "----------------------------------------\n",
            "After 10 tosses:\n",
            "Probability of heads: 0.5052\n",
            "Probability of tails: 0.4948\n",
            "After 20 tosses:\n",
            "Probability of heads: 0.5003\n",
            "Probability of tails: 0.4997\n",
            "After 50 tosses:\n",
            "Probability of heads: 0.5003\n",
            "Probability of tails: 0.4997\n",
            "========================================\n",
            "Starting with initial probabilities: Head = 0.5, Tail = 0.5\n",
            "----------------------------------------\n",
            "After 10 tosses:\n",
            "Probability of heads: 0.5003\n",
            "Probability of tails: 0.4997\n",
            "After 20 tosses:\n",
            "Probability of heads: 0.5003\n",
            "Probability of tails: 0.4997\n",
            "After 50 tosses:\n",
            "Probability of heads: 0.5003\n",
            "Probability of tails: 0.4997\n",
            "========================================\n",
            "Starting with initial probabilities: Head = 0.0, Tail = 1.0\n",
            "----------------------------------------\n",
            "After 10 tosses:\n",
            "Probability of heads: 0.4953\n",
            "Probability of tails: 0.5047\n",
            "After 20 tosses:\n",
            "Probability of heads: 0.5002\n",
            "Probability of tails: 0.4998\n",
            "After 50 tosses:\n",
            "Probability of heads: 0.5003\n",
            "Probability of tails: 0.4997\n",
            "========================================\n",
            "\n",
            "\n",
            "--- Repetition 4 ---\n",
            "Randomly picked a = 0.0551 and b = 0.5953\n",
            "----------------------------------------\n",
            "Starting with initial probabilities: Head = 1.0, Tail = 0.0\n",
            "----------------------------------------\n",
            "After 10 tosses:\n",
            "Probability of heads: 0.3878\n",
            "Probability of tails: 0.6122\n",
            "After 20 tosses:\n",
            "Probability of heads: 0.3865\n",
            "Probability of tails: 0.6135\n",
            "After 50 tosses:\n",
            "Probability of heads: 0.3865\n",
            "Probability of tails: 0.6135\n",
            "========================================\n",
            "Starting with initial probabilities: Head = 0.5, Tail = 0.5\n",
            "----------------------------------------\n",
            "After 10 tosses:\n",
            "Probability of heads: 0.3867\n",
            "Probability of tails: 0.6133\n",
            "After 20 tosses:\n",
            "Probability of heads: 0.3865\n",
            "Probability of tails: 0.6135\n",
            "After 50 tosses:\n",
            "Probability of heads: 0.3865\n",
            "Probability of tails: 0.6135\n",
            "========================================\n",
            "Starting with initial probabilities: Head = 0.0, Tail = 1.0\n",
            "----------------------------------------\n",
            "After 10 tosses:\n",
            "Probability of heads: 0.3857\n",
            "Probability of tails: 0.6143\n",
            "After 20 tosses:\n",
            "Probability of heads: 0.3865\n",
            "Probability of tails: 0.6135\n",
            "After 50 tosses:\n",
            "Probability of heads: 0.3865\n",
            "Probability of tails: 0.6135\n",
            "========================================\n",
            "\n",
            "\n",
            "--- Repetition 5 ---\n",
            "Randomly picked a = 0.5847 and b = 0.9121\n",
            "----------------------------------------\n",
            "Starting with initial probabilities: Head = 1.0, Tail = 0.0\n",
            "----------------------------------------\n",
            "After 10 tosses:\n",
            "Probability of heads: 0.6872\n",
            "Probability of tails: 0.3128\n",
            "After 20 tosses:\n",
            "Probability of heads: 0.6871\n",
            "Probability of tails: 0.3129\n",
            "After 50 tosses:\n",
            "Probability of heads: 0.6871\n",
            "Probability of tails: 0.3129\n",
            "========================================\n",
            "Starting with initial probabilities: Head = 0.5, Tail = 0.5\n",
            "----------------------------------------\n",
            "After 10 tosses:\n",
            "Probability of heads: 0.6871\n",
            "Probability of tails: 0.3129\n",
            "After 20 tosses:\n",
            "Probability of heads: 0.6871\n",
            "Probability of tails: 0.3129\n",
            "After 50 tosses:\n",
            "Probability of heads: 0.6871\n",
            "Probability of tails: 0.3129\n",
            "========================================\n",
            "Starting with initial probabilities: Head = 0.0, Tail = 1.0\n",
            "----------------------------------------\n",
            "After 10 tosses:\n",
            "Probability of heads: 0.6871\n",
            "Probability of tails: 0.3129\n",
            "After 20 tosses:\n",
            "Probability of heads: 0.6871\n",
            "Probability of tails: 0.3129\n",
            "After 50 tosses:\n",
            "Probability of heads: 0.6871\n",
            "Probability of tails: 0.3129\n",
            "========================================\n",
            "\n",
            "\n",
            "--- Repetition 6 ---\n",
            "Randomly picked a = 0.5306 and b = 0.0005\n",
            "----------------------------------------\n",
            "Starting with initial probabilities: Head = 1.0, Tail = 0.0\n",
            "----------------------------------------\n",
            "After 10 tosses:\n",
            "Probability of heads: 0.0029\n",
            "Probability of tails: 0.9971\n",
            "After 20 tosses:\n",
            "Probability of heads: 0.0012\n",
            "Probability of tails: 0.9988\n",
            "After 50 tosses:\n",
            "Probability of heads: 0.0012\n",
            "Probability of tails: 0.9988\n",
            "========================================\n",
            "Starting with initial probabilities: Head = 0.5, Tail = 0.5\n",
            "----------------------------------------\n",
            "After 10 tosses:\n",
            "Probability of heads: 0.0020\n",
            "Probability of tails: 0.9980\n",
            "After 20 tosses:\n",
            "Probability of heads: 0.0012\n",
            "Probability of tails: 0.9988\n",
            "After 50 tosses:\n",
            "Probability of heads: 0.0012\n",
            "Probability of tails: 0.9988\n",
            "========================================\n",
            "Starting with initial probabilities: Head = 0.0, Tail = 1.0\n",
            "----------------------------------------\n",
            "After 10 tosses:\n",
            "Probability of heads: 0.0012\n",
            "Probability of tails: 0.9988\n",
            "After 20 tosses:\n",
            "Probability of heads: 0.0012\n",
            "Probability of tails: 0.9988\n",
            "After 50 tosses:\n",
            "Probability of heads: 0.0012\n",
            "Probability of tails: 0.9988\n",
            "========================================\n",
            "\n",
            "\n",
            "--- Repetition 7 ---\n",
            "Randomly picked a = 0.5764 and b = 0.1476\n",
            "----------------------------------------\n",
            "Starting with initial probabilities: Head = 1.0, Tail = 0.0\n",
            "----------------------------------------\n",
            "After 10 tosses:\n",
            "Probability of heads: 0.2585\n",
            "Probability of tails: 0.7415\n",
            "After 20 tosses:\n",
            "Probability of heads: 0.2584\n",
            "Probability of tails: 0.7416\n",
            "After 50 tosses:\n",
            "Probability of heads: 0.2584\n",
            "Probability of tails: 0.7416\n",
            "========================================\n",
            "Starting with initial probabilities: Head = 0.5, Tail = 0.5\n",
            "----------------------------------------\n",
            "After 10 tosses:\n",
            "Probability of heads: 0.2584\n",
            "Probability of tails: 0.7416\n",
            "After 20 tosses:\n",
            "Probability of heads: 0.2584\n",
            "Probability of tails: 0.7416\n",
            "After 50 tosses:\n",
            "Probability of heads: 0.2584\n",
            "Probability of tails: 0.7416\n",
            "========================================\n",
            "Starting with initial probabilities: Head = 0.0, Tail = 1.0\n",
            "----------------------------------------\n",
            "After 10 tosses:\n",
            "Probability of heads: 0.2583\n",
            "Probability of tails: 0.7417\n",
            "After 20 tosses:\n",
            "Probability of heads: 0.2584\n",
            "Probability of tails: 0.7416\n",
            "After 50 tosses:\n",
            "Probability of heads: 0.2584\n",
            "Probability of tails: 0.7416\n",
            "========================================\n",
            "\n",
            "\n",
            "--- Repetition 8 ---\n",
            "Randomly picked a = 0.8638 and b = 0.8346\n",
            "----------------------------------------\n",
            "Starting with initial probabilities: Head = 1.0, Tail = 0.0\n",
            "----------------------------------------\n",
            "After 10 tosses:\n",
            "Probability of heads: 0.8597\n",
            "Probability of tails: 0.1403\n",
            "After 20 tosses:\n",
            "Probability of heads: 0.8597\n",
            "Probability of tails: 0.1403\n",
            "After 50 tosses:\n",
            "Probability of heads: 0.8597\n",
            "Probability of tails: 0.1403\n",
            "========================================\n",
            "Starting with initial probabilities: Head = 0.5, Tail = 0.5\n",
            "----------------------------------------\n",
            "After 10 tosses:\n",
            "Probability of heads: 0.8597\n",
            "Probability of tails: 0.1403\n",
            "After 20 tosses:\n",
            "Probability of heads: 0.8597\n",
            "Probability of tails: 0.1403\n",
            "After 50 tosses:\n",
            "Probability of heads: 0.8597\n",
            "Probability of tails: 0.1403\n",
            "========================================\n",
            "Starting with initial probabilities: Head = 0.0, Tail = 1.0\n",
            "----------------------------------------\n",
            "After 10 tosses:\n",
            "Probability of heads: 0.8597\n",
            "Probability of tails: 0.1403\n",
            "After 20 tosses:\n",
            "Probability of heads: 0.8597\n",
            "Probability of tails: 0.1403\n",
            "After 50 tosses:\n",
            "Probability of heads: 0.8597\n",
            "Probability of tails: 0.1403\n",
            "========================================\n",
            "\n",
            "\n",
            "--- Repetition 9 ---\n",
            "Randomly picked a = 0.2055 and b = 0.1525\n",
            "----------------------------------------\n",
            "Starting with initial probabilities: Head = 1.0, Tail = 0.0\n",
            "----------------------------------------\n",
            "After 10 tosses:\n",
            "Probability of heads: 0.1610\n",
            "Probability of tails: 0.8390\n",
            "After 20 tosses:\n",
            "Probability of heads: 0.1610\n",
            "Probability of tails: 0.8390\n",
            "After 50 tosses:\n",
            "Probability of heads: 0.1610\n",
            "Probability of tails: 0.8390\n",
            "========================================\n",
            "Starting with initial probabilities: Head = 0.5, Tail = 0.5\n",
            "----------------------------------------\n",
            "After 10 tosses:\n",
            "Probability of heads: 0.1610\n",
            "Probability of tails: 0.8390\n",
            "After 20 tosses:\n",
            "Probability of heads: 0.1610\n",
            "Probability of tails: 0.8390\n",
            "After 50 tosses:\n",
            "Probability of heads: 0.1610\n",
            "Probability of tails: 0.8390\n",
            "========================================\n",
            "Starting with initial probabilities: Head = 0.0, Tail = 1.0\n",
            "----------------------------------------\n",
            "After 10 tosses:\n",
            "Probability of heads: 0.1610\n",
            "Probability of tails: 0.8390\n",
            "After 20 tosses:\n",
            "Probability of heads: 0.1610\n",
            "Probability of tails: 0.8390\n",
            "After 50 tosses:\n",
            "Probability of heads: 0.1610\n",
            "Probability of tails: 0.8390\n",
            "========================================\n",
            "\n",
            "\n",
            "--- Repetition 10 ---\n",
            "Randomly picked a = 0.5250 and b = 0.7463\n",
            "----------------------------------------\n",
            "Starting with initial probabilities: Head = 1.0, Tail = 0.0\n",
            "----------------------------------------\n",
            "After 10 tosses:\n",
            "Probability of heads: 0.6111\n",
            "Probability of tails: 0.3889\n",
            "After 20 tosses:\n",
            "Probability of heads: 0.6111\n",
            "Probability of tails: 0.3889\n",
            "After 50 tosses:\n",
            "Probability of heads: 0.6111\n",
            "Probability of tails: 0.3889\n",
            "========================================\n",
            "Starting with initial probabilities: Head = 0.5, Tail = 0.5\n",
            "----------------------------------------\n",
            "After 10 tosses:\n",
            "Probability of heads: 0.6111\n",
            "Probability of tails: 0.3889\n",
            "After 20 tosses:\n",
            "Probability of heads: 0.6111\n",
            "Probability of tails: 0.3889\n",
            "After 50 tosses:\n",
            "Probability of heads: 0.6111\n",
            "Probability of tails: 0.3889\n",
            "========================================\n",
            "Starting with initial probabilities: Head = 0.0, Tail = 1.0\n",
            "----------------------------------------\n",
            "After 10 tosses:\n",
            "Probability of heads: 0.6111\n",
            "Probability of tails: 0.3889\n",
            "After 20 tosses:\n",
            "Probability of heads: 0.6111\n",
            "Probability of tails: 0.3889\n",
            "After 50 tosses:\n",
            "Probability of heads: 0.6111\n",
            "Probability of tails: 0.3889\n",
            "========================================\n",
            "\n",
            "\n"
          ]
        }
      ],
      "source": [
        "import random\n",
        "\n",
        "# Function to simulate coin tosses with given transition probabilities\n",
        "def simulate_tosses(initial_prob_head, initial_prob_tail, p_hh, p_ht, p_th, p_tt, num_tosses):\n",
        "    prob_head = initial_prob_head\n",
        "    prob_tail = initial_prob_tail\n",
        "\n",
        "    for _ in range(num_tosses):\n",
        "        new_prob_head = prob_head * p_hh + prob_tail * p_ht\n",
        "        new_prob_tail = prob_head * p_th + prob_tail * p_tt\n",
        "        prob_head = new_prob_head\n",
        "        prob_tail = new_prob_tail\n",
        "    return prob_head, prob_tail\n",
        "\n",
        "# Task 7: Repeat Task 6 ten times\n",
        "\n",
        "num_repetitions = 10\n",
        "\n",
        "for i in range(num_repetitions):\n",
        "    print(f\"--- Repetition {i+1} ---\")\n",
        "\n",
        "    # Randomly pick a and b\n",
        "    a = random.random()\n",
        "    b = random.random()\n",
        "\n",
        "    print(f\"Randomly picked a = {a:.4f} and b = {b:.4f}\")\n",
        "    print(\"-\" * 40)\n",
        "\n",
        "    # Transition probabilities based on a and b\n",
        "    p_hh_ab = a\n",
        "    p_ht_ab = b\n",
        "    p_th_ab = 1 - a\n",
        "    p_tt_ab = 1 - b\n",
        "\n",
        "    # Number of coin tosses to test (from Task 3 and 4)\n",
        "    num_tosses_list = [10, 20, 50]\n",
        "\n",
        "    # List of initial probability conditions to test (from Task 4)\n",
        "    initial_conditions = [\n",
        "        {\"prob_head\": 1.0, \"prob_tail\": 0.0}, # Initial condition from Task 2\n",
        "        {\"prob_head\": 0.5, \"prob_tail\": 0.5},\n",
        "        {\"prob_head\": 0.0, \"prob_tail\": 1.0}\n",
        "    ]\n",
        "\n",
        "    for initial_probs in initial_conditions:\n",
        "        initial_prob_head = initial_probs[\"prob_head\"]\n",
        "        initial_prob_tail = initial_probs[\"prob_tail\"]\n",
        "\n",
        "        print(f\"Starting with initial probabilities: Head = {initial_prob_head}, Tail = {initial_prob_tail}\")\n",
        "        print(\"-\" * 40)\n",
        "\n",
        "        for num_tosses in num_tosses_list:\n",
        "            prob_head, prob_tail = simulate_tosses(initial_prob_head, initial_prob_tail, p_hh_ab, p_ht_ab, p_th_ab, p_tt_ab, num_tosses)\n",
        "\n",
        "            print(f\"After {num_tosses} tosses:\")\n",
        "            print(f\"Probability of heads: {prob_head:.4f}\")\n",
        "            print(f\"Probability of tails: {prob_tail:.4f}\")\n",
        "        print(\"=\" * 40)\n",
        "    print(\"\\n\") # Add a newline for better separation between repetitions"
      ]
    },
    {
      "cell_type": "markdown",
      "metadata": {
        "id": "1n-_j8PV5uyv"
      },
      "source": [
        "<h3>Task 8</h3>\n",
        "\n",
        "We can rewrite arbitrary GameCoins as\n",
        "\n",
        "$  \\begin{array}{c|cc} \\hookleftarrow & \\mathbf{Head} & \\mathbf{Tail} \\\\ \\hline \\mathbf{Head} & 1-y & x\\\\  \\mathbf{Tail} & y & 1-x  \\end{array} = \\begin{array}{c|cc} \\hookleftarrow & \\mathbf{0} & \\mathbf{1} \\\\ \\hline \\mathbf{0} & 1-y & x \\\\  \\mathbf{1} & y & 1-x  \\end{array}.\n",
        "$\n",
        "\n",
        "We assume that it is neither Identity nor NOT operator. Then, independent of the initial state, the system always converges to\n",
        "\n",
        "$ Pr[\\mbox{\"heads\"}] = \\dfrac{x}{x+y} $ and $ Pr[\\mbox{\"tails\"}]=\\dfrac{y}{x+y} $,\n",
        "\n",
        "which are the probabilities of getting heads and tails, respectively.\n",
        "\n",
        "Observe this fact by checking the results of Task 7."
      ]
    },
    {
      "cell_type": "code",
      "execution_count": null,
      "metadata": {
        "id": "GdcGY0M-5uyv",
        "colab": {
          "base_uri": "https://localhost:8080/"
        },
        "outputId": "1339f258-8d80-485c-fbf4-e41fc69ad5f3"
      },
      "outputs": [
        {
          "output_type": "stream",
          "name": "stdout",
          "text": [
            "Theoretical convergence probabilities for a=0.5250, b=0.7463:\n",
            "Probability of heads: 0.6111\n",
            "Probability of tails: 0.3889\n",
            "\n",
            "Compare these values with the results from Task 7 to observe convergence.\n"
          ]
        }
      ],
      "source": [
        "# Task 8: Observe the convergence to x/(x+y) and y/(x+y)\n",
        "\n",
        "# This code will use the last randomly picked values of a and b from Task 7\n",
        "# If you want to observe for different random values, re-run Task 7 first\n",
        "\n",
        "# From the definition in Task 8, we have:\n",
        "# a = 1 - y  =>  y = 1 - a\n",
        "# b = x      =>  x = b\n",
        "\n",
        "# Calculate the theoretical convergence probabilities\n",
        "# Ensure x+y is not zero to avoid division by zero\n",
        "if (b + (1 - a)) != 0:\n",
        "    convergence_prob_head = b / (b + (1 - a))\n",
        "    convergence_prob_tail = (1 - a) / (b + (1 - a))\n",
        "\n",
        "    print(f\"Theoretical convergence probabilities for a={a:.4f}, b={b:.4f}:\")\n",
        "    print(f\"Probability of heads: {convergence_prob_head:.4f}\")\n",
        "    print(f\"Probability of tails: {convergence_prob_tail:.4f}\")\n",
        "else:\n",
        "    print(f\"Cannot calculate theoretical convergence probabilities for a={a:.4f}, b={b:.4f} as x+y is zero.\")\n",
        "\n",
        "print(\"\\nCompare these values with the results from Task 7 to observe convergence.\")"
      ]
    }
  ]
}